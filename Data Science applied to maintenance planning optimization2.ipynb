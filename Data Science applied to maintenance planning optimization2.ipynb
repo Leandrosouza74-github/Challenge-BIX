{
 "cells": [
  {
   "cell_type": "markdown",
   "id": "7db34eb7-2565-47b0-b0c8-b0f3b9aa28d7",
   "metadata": {},
   "source": [
    "#                                                        Data Science applied to maintenance planning optimization"
   ]
  },
  {
   "cell_type": "code",
   "execution_count": 3,
   "id": "6c81ec7c-fab8-49a5-b56c-a01cec82f2e7",
   "metadata": {},
   "outputs": [],
   "source": [
    "import numpy as np\n",
    "import pandas as pd\n",
    "import matplotlib.pyplot as plt\n",
    "import seaborn as sns\n",
    "from sklearn.model_selection import train_test_split\n",
    "from sklearn.ensemble import RandomForestClassifier\n",
    "from sklearn.metrics import classification_report\n",
    "from sklearn.feature_selection import SelectKBest, f_classif\n",
    "from imblearn.over_sampling import SMOTE\n",
    "from sklearn.decomposition import PCA\n",
    "from sklearn.preprocessing import StandardScaler\n",
    "from sklearn.model_selection import train_test_split, GridSearchCV"
   ]
  },
  {
   "cell_type": "code",
   "execution_count": 4,
   "id": "29628d94-2d51-4291-930d-70b85a0b2931",
   "metadata": {},
   "outputs": [],
   "source": [
    "prev='C:\\\\Users\\\\PICHAU\\\\Downloads\\\\air_system_previous_years.csv'"
   ]
  },
  {
   "cell_type": "code",
   "execution_count": 5,
   "id": "f626f533-ea06-4cf8-8496-b17900c7d86e",
   "metadata": {},
   "outputs": [],
   "source": [
    "previous = pd.read_csv(prev, na_values='na')"
   ]
  },
  {
   "cell_type": "markdown",
   "id": "35119cf4-26d2-45d4-8025-e6d2fe5ae762",
   "metadata": {},
   "source": [
    "## Initial Data Exploration:"
   ]
  },
  {
   "cell_type": "code",
   "execution_count": 7,
   "id": "5e7f029a-7b8e-4c84-bd0a-ce1cf44c884c",
   "metadata": {},
   "outputs": [
    {
     "name": "stdout",
     "output_type": "stream",
     "text": [
      "  class  aa_000  ab_000        ac_000  ad_000  ae_000  af_000  ag_000  ag_001  \\\n",
      "0   neg   76698     NaN  2.130706e+09   280.0     0.0     0.0     0.0     0.0   \n",
      "1   neg   33058     NaN  0.000000e+00     NaN     0.0     0.0     0.0     0.0   \n",
      "2   neg   41040     NaN  2.280000e+02   100.0     0.0     0.0     0.0     0.0   \n",
      "3   neg      12     0.0  7.000000e+01    66.0     0.0    10.0     0.0     0.0   \n",
      "4   neg   60874     NaN  1.368000e+03   458.0     0.0     0.0     0.0     0.0   \n",
      "5   neg   38312     NaN  2.130706e+09   218.0     0.0     0.0     0.0     0.0   \n",
      "6   neg      14     0.0  6.000000e+00     NaN     0.0     0.0     0.0     0.0   \n",
      "7   neg  102960     NaN  2.130706e+09   116.0     0.0     0.0     0.0     0.0   \n",
      "8   neg   78696     NaN  0.000000e+00     NaN     0.0     0.0     0.0     0.0   \n",
      "9   pos  153204     0.0  1.820000e+02     NaN     0.0     0.0     0.0     0.0   \n",
      "\n",
      "   ag_002  ...     ee_002    ee_003     ee_004     ee_005     ee_006  \\\n",
      "0     0.0  ...  1240520.0  493384.0   721044.0   469792.0   339156.0   \n",
      "1     0.0  ...   421400.0  178064.0   293306.0   245416.0   133654.0   \n",
      "2     0.0  ...   277378.0  159812.0   423992.0   409564.0   320746.0   \n",
      "3     0.0  ...      240.0      46.0       58.0       44.0       10.0   \n",
      "4     0.0  ...   622012.0  229790.0   405298.0   347188.0   286954.0   \n",
      "5     0.0  ...   388574.0  288278.0   900430.0   300412.0     1534.0   \n",
      "6     0.0  ...      168.0      48.0       60.0       28.0        0.0   \n",
      "7     0.0  ...   715518.0  384948.0   915978.0  1052166.0  1108672.0   \n",
      "8     0.0  ...   699290.0  362510.0  1190028.0  1012704.0   160090.0   \n",
      "9     0.0  ...   129862.0   26872.0    34044.0    22472.0    34362.0   \n",
      "\n",
      "     ee_007    ee_008  ee_009  ef_000  eg_000  \n",
      "0  157956.0   73224.0     0.0     0.0     0.0  \n",
      "1   81140.0   97576.0  1500.0     0.0     0.0  \n",
      "2  158022.0   95128.0   514.0     0.0     0.0  \n",
      "3       0.0       0.0     0.0     4.0    32.0  \n",
      "4  311560.0  433954.0  1218.0     0.0     0.0  \n",
      "5     338.0     856.0     0.0     0.0     0.0  \n",
      "6       0.0       0.0     0.0     0.0     0.0  \n",
      "7  341532.0  129504.0  7832.0     0.0     0.0  \n",
      "8   63216.0   41202.0     4.0     0.0     0.0  \n",
      "9       0.0       0.0     0.0     0.0     0.0  \n",
      "\n",
      "[10 rows x 171 columns]\n"
     ]
    }
   ],
   "source": [
    "print(previous.head(10))"
   ]
  },
  {
   "cell_type": "code",
   "execution_count": 8,
   "id": "3ac43e94-49fc-4dfe-95a9-bf8e7fecd18c",
   "metadata": {},
   "outputs": [
    {
     "name": "stdout",
     "output_type": "stream",
     "text": [
      "<class 'pandas.core.frame.DataFrame'>\n",
      "RangeIndex: 60000 entries, 0 to 59999\n",
      "Columns: 171 entries, class to eg_000\n",
      "dtypes: float64(169), int64(1), object(1)\n",
      "memory usage: 78.3+ MB\n",
      "None\n"
     ]
    }
   ],
   "source": [
    "print(previous.info())"
   ]
  },
  {
   "cell_type": "code",
   "execution_count": 9,
   "id": "430f9420-f471-43a8-a1c1-7da78ff2b306",
   "metadata": {},
   "outputs": [
    {
     "name": "stdout",
     "output_type": "stream",
     "text": [
      "             aa_000        ab_000        ac_000        ad_000        ae_000  \\\n",
      "count  6.000000e+04  13671.000000  5.666500e+04  4.513900e+04  57500.000000   \n",
      "mean   5.933650e+04      0.713189  3.560143e+08  1.906206e+05      6.819130   \n",
      "std    1.454301e+05      3.478962  7.948749e+08  4.040441e+07    161.543373   \n",
      "min    0.000000e+00      0.000000  0.000000e+00  0.000000e+00      0.000000   \n",
      "25%    8.340000e+02      0.000000  1.600000e+01  2.400000e+01      0.000000   \n",
      "50%    3.077600e+04      0.000000  1.520000e+02  1.260000e+02      0.000000   \n",
      "75%    4.866800e+04      0.000000  9.640000e+02  4.300000e+02      0.000000   \n",
      "max    2.746564e+06    204.000000  2.130707e+09  8.584298e+09  21050.000000   \n",
      "\n",
      "             af_000        ag_000        ag_001        ag_002        ag_003  \\\n",
      "count  57500.000000  5.932900e+04  5.932900e+04  5.932900e+04  5.932900e+04   \n",
      "mean      11.006817  2.216364e+02  9.757223e+02  8.606015e+03  8.859128e+04   \n",
      "std      209.792592  2.047846e+04  3.420053e+04  1.503220e+05  7.617312e+05   \n",
      "min        0.000000  0.000000e+00  0.000000e+00  0.000000e+00  0.000000e+00   \n",
      "25%        0.000000  0.000000e+00  0.000000e+00  0.000000e+00  0.000000e+00   \n",
      "50%        0.000000  0.000000e+00  0.000000e+00  0.000000e+00  0.000000e+00   \n",
      "75%        0.000000  0.000000e+00  0.000000e+00  0.000000e+00  0.000000e+00   \n",
      "max    20070.000000  3.376892e+06  4.109372e+06  1.055286e+07  6.340207e+07   \n",
      "\n",
      "       ...        ee_002        ee_003        ee_004        ee_005  \\\n",
      "count  ...  5.932900e+04  5.932900e+04  5.932900e+04  5.932900e+04   \n",
      "mean   ...  4.454897e+05  2.111264e+05  4.457343e+05  3.939462e+05   \n",
      "std    ...  1.155540e+06  5.433188e+05  1.168314e+06  1.121044e+06   \n",
      "min    ...  0.000000e+00  0.000000e+00  0.000000e+00  0.000000e+00   \n",
      "25%    ...  2.936000e+03  1.166000e+03  2.700000e+03  3.584000e+03   \n",
      "50%    ...  2.337960e+05  1.120860e+05  2.215180e+05  1.899880e+05   \n",
      "75%    ...  4.383960e+05  2.182320e+05  4.666140e+05  4.032220e+05   \n",
      "max    ...  7.793393e+07  3.775839e+07  9.715238e+07  5.743524e+07   \n",
      "\n",
      "             ee_006        ee_007        ee_008        ee_009        ef_000  \\\n",
      "count  5.932900e+04  5.932900e+04  5.932900e+04  5.932900e+04  57276.000000   \n",
      "mean   3.330582e+05  3.462714e+05  1.387300e+05  8.388915e+03      0.090579   \n",
      "std    1.069160e+06  1.728056e+06  4.495100e+05  4.747043e+04      4.368855   \n",
      "min    0.000000e+00  0.000000e+00  0.000000e+00  0.000000e+00      0.000000   \n",
      "25%    5.120000e+02  1.100000e+02  0.000000e+00  0.000000e+00      0.000000   \n",
      "50%    9.243200e+04  4.109800e+04  3.812000e+03  0.000000e+00      0.000000   \n",
      "75%    2.750940e+05  1.678140e+05  1.397240e+05  2.028000e+03      0.000000   \n",
      "max    3.160781e+07  1.195801e+08  1.926740e+07  3.810078e+06    482.000000   \n",
      "\n",
      "             eg_000  \n",
      "count  57277.000000  \n",
      "mean       0.212756  \n",
      "std        8.830641  \n",
      "min        0.000000  \n",
      "25%        0.000000  \n",
      "50%        0.000000  \n",
      "75%        0.000000  \n",
      "max     1146.000000  \n",
      "\n",
      "[8 rows x 170 columns]\n"
     ]
    }
   ],
   "source": [
    "print(previous.describe())"
   ]
  },
  {
   "cell_type": "code",
   "execution_count": 10,
   "id": "8c34c780-2de3-469e-ab0b-5f9d226cc50a",
   "metadata": {},
   "outputs": [
    {
     "name": "stdout",
     "output_type": "stream",
     "text": [
      "ab_000    46329\n",
      "ac_000     3335\n",
      "ad_000    14861\n",
      "ae_000     2500\n",
      "af_000     2500\n",
      "          ...  \n",
      "ee_007      671\n",
      "ee_008      671\n",
      "ee_009      671\n",
      "ef_000     2724\n",
      "eg_000     2723\n",
      "Length: 169, dtype: int64\n"
     ]
    }
   ],
   "source": [
    "missing_values = previous.isna().sum()\n",
    "print(missing_values[missing_values > 0])"
   ]
  },
  {
   "cell_type": "code",
   "execution_count": 11,
   "id": "9e532b86-a2d1-4145-ad20-34b63c71d12e",
   "metadata": {},
   "outputs": [
    {
     "data": {
      "image/png": "[encoded data removed]",
      "text/plain": [
       "<Figure size 640x480 with 1 Axes>"
      ]
     },
     "metadata": {},
     "output_type": "display_data"
    },
    {
     "name": "stdout",
     "output_type": "stream",
     "text": [
      "ab_000    46329\n",
      "ac_000     3335\n",
      "ad_000    14861\n",
      "ae_000     2500\n",
      "af_000     2500\n",
      "          ...  \n",
      "ee_007      671\n",
      "ee_008      671\n",
      "ee_009      671\n",
      "ef_000     2724\n",
      "eg_000     2723\n",
      "Length: 169, dtype: int64\n"
     ]
    }
   ],
   "source": [
    "sns.countplot(x='class', data=previous)\n",
    "plt.title('class distribution')\n",
    "plt.show()\n",
    "\n",
    "missing_values = previous.isna().sum()\n",
    "print(missing_values[missing_values > 0])"
   ]
  },
  {
   "cell_type": "code",
   "execution_count": 12,
   "id": "c2cb74b8-42fa-49b2-82e3-b1f58c814383",
   "metadata": {},
   "outputs": [],
   "source": [
    "numerical_cols = previous.select_dtypes(include=['number']).columns\n",
    "previous[numerical_cols] = previous[numerical_cols].fillna(previous[numerical_cols].mean())\n"
   ]
  },
  {
   "cell_type": "code",
   "execution_count": 13,
   "id": "d9a5ceef-8ec4-4a85-82c4-efadd36cde25",
   "metadata": {},
   "outputs": [
    {
     "name": "stdout",
     "output_type": "stream",
     "text": [
      "Series([], dtype: int64)\n"
     ]
    }
   ],
   "source": [
    "missing_values = previous.isna().sum()\n",
    "print(missing_values[missing_values > 0])"
   ]
  },
  {
   "cell_type": "code",
   "execution_count": 14,
   "id": "15cb782b-3200-4f49-8f9b-177dd1b998a3",
   "metadata": {},
   "outputs": [
    {
     "name": "stdout",
     "output_type": "stream",
     "text": [
      "  class  aa_000    ab_000        ac_000         ad_000  ae_000  af_000  \\\n",
      "0   neg   76698  0.713189  2.130706e+09     280.000000     0.0     0.0   \n",
      "1   neg   33058  0.713189  0.000000e+00  190620.639314     0.0     0.0   \n",
      "2   neg   41040  0.713189  2.280000e+02     100.000000     0.0     0.0   \n",
      "3   neg      12  0.000000  7.000000e+01      66.000000     0.0    10.0   \n",
      "4   neg   60874  0.713189  1.368000e+03     458.000000     0.0     0.0   \n",
      "5   neg   38312  0.713189  2.130706e+09     218.000000     0.0     0.0   \n",
      "6   neg      14  0.000000  6.000000e+00  190620.639314     0.0     0.0   \n",
      "7   neg  102960  0.713189  2.130706e+09     116.000000     0.0     0.0   \n",
      "8   neg   78696  0.713189  0.000000e+00  190620.639314     0.0     0.0   \n",
      "9   pos  153204  0.000000  1.820000e+02  190620.639314     0.0     0.0   \n",
      "\n",
      "   ag_000  ag_001  ag_002  ...     ee_002    ee_003     ee_004     ee_005  \\\n",
      "0     0.0     0.0     0.0  ...  1240520.0  493384.0   721044.0   469792.0   \n",
      "1     0.0     0.0     0.0  ...   421400.0  178064.0   293306.0   245416.0   \n",
      "2     0.0     0.0     0.0  ...   277378.0  159812.0   423992.0   409564.0   \n",
      "3     0.0     0.0     0.0  ...      240.0      46.0       58.0       44.0   \n",
      "4     0.0     0.0     0.0  ...   622012.0  229790.0   405298.0   347188.0   \n",
      "5     0.0     0.0     0.0  ...   388574.0  288278.0   900430.0   300412.0   \n",
      "6     0.0     0.0     0.0  ...      168.0      48.0       60.0       28.0   \n",
      "7     0.0     0.0     0.0  ...   715518.0  384948.0   915978.0  1052166.0   \n",
      "8     0.0     0.0     0.0  ...   699290.0  362510.0  1190028.0  1012704.0   \n",
      "9     0.0     0.0     0.0  ...   129862.0   26872.0    34044.0    22472.0   \n",
      "\n",
      "      ee_006    ee_007    ee_008  ee_009  ef_000  eg_000  \n",
      "0   339156.0  157956.0   73224.0     0.0     0.0     0.0  \n",
      "1   133654.0   81140.0   97576.0  1500.0     0.0     0.0  \n",
      "2   320746.0  158022.0   95128.0   514.0     0.0     0.0  \n",
      "3       10.0       0.0       0.0     0.0     4.0    32.0  \n",
      "4   286954.0  311560.0  433954.0  1218.0     0.0     0.0  \n",
      "5     1534.0     338.0     856.0     0.0     0.0     0.0  \n",
      "6        0.0       0.0       0.0     0.0     0.0     0.0  \n",
      "7  1108672.0  341532.0  129504.0  7832.0     0.0     0.0  \n",
      "8   160090.0   63216.0   41202.0     4.0     0.0     0.0  \n",
      "9    34362.0       0.0       0.0     0.0     0.0     0.0  \n",
      "\n",
      "[10 rows x 171 columns]\n"
     ]
    }
   ],
   "source": [
    "print(previous.head(10))"
   ]
  },
  {
   "cell_type": "markdown",
   "id": "2cb3d81a-99ea-47aa-b416-93c4d07e760e",
   "metadata": {},
   "source": [
    "### F TESTE of ANOVA"
   ]
  },
  {
   "cell_type": "markdown",
   "id": "450a28bb-aa52-449b-8dbe-f6577689ee7f",
   "metadata": {},
   "source": [
    "#### Selection of Characteristics"
   ]
  },
  {
   "cell_type": "code",
   "execution_count": 17,
   "id": "f3473a6e-5286-4663-8e60-56a51d954b1e",
   "metadata": {},
   "outputs": [
    {
     "name": "stdout",
     "output_type": "stream",
     "text": [
      "Best features: Index(['aa_000', 'ah_000', 'aq_000', 'bb_000', 'bj_000', 'bt_000', 'bu_000',\n",
      "       'bv_000', 'ci_000', 'cq_000'],\n",
      "      dtype='object')\n"
     ]
    },
    {
     "name": "stderr",
     "output_type": "stream",
     "text": [
      "C:\\ProgramData\\anaconda3\\Lib\\site-packages\\sklearn\\feature_selection\\_univariate_selection.py:112: UserWarning: Features [89] are constant.\n",
      "  warnings.warn(\"Features %s are constant.\" % constant_features_idx, UserWarning)\n",
      "C:\\ProgramData\\anaconda3\\Lib\\site-packages\\sklearn\\feature_selection\\_univariate_selection.py:113: RuntimeWarning: invalid value encountered in divide\n",
      "  f = msb / msw\n"
     ]
    }
   ],
   "source": [
    "X = previous.drop('class', axis=1)\n",
    "y = previous['class'].apply(lambda x: 1 if x == 'pos' else 0)\n",
    "\n",
    "selector = SelectKBest(score_func=f_classif, k=10)\n",
    "X_new = selector.fit_transform(X, y)\n",
    "selected_features = X.columns[selector.get_support(indices=True)]\n",
    "print(\"Best features:\", selected_features)"
   ]
  },
  {
   "cell_type": "markdown",
   "id": "d748b9e8-8fd1-4dcf-8379-0855c632e13f",
   "metadata": {},
   "source": [
    "<span style=\"color: red;\">Warning: The characteristic at index 89 is constant.</span>"
   ]
  },
  {
   "cell_type": "code",
   "execution_count": 19,
   "id": "3f8fd2a8-2f18-4860-ae68-a1df0b3dce57",
   "metadata": {},
   "outputs": [
    {
     "name": "stdout",
     "output_type": "stream",
     "text": [
      "constant characteristics: Index(['cd_000'], dtype='object')\n"
     ]
    }
   ],
   "source": [
    "# Identify constant characteristics\n",
    "constant = previous.columns[previous.nunique() == 1]\n",
    "print(\"constant characteristics:\", constant)"
   ]
  },
  {
   "cell_type": "code",
   "execution_count": 20,
   "id": "b568b8a0-c7e9-4438-bd68-b9070efc21d6",
   "metadata": {},
   "outputs": [],
   "source": [
    "# Remove constant characteristics\n",
    "previous_without_constants = previous.drop(columns=constant)"
   ]
  },
  {
   "cell_type": "code",
   "execution_count": 21,
   "id": "09fcdf75-124b-4d8a-b884-8c5dd0a03fe4",
   "metadata": {},
   "outputs": [
    {
     "name": "stdout",
     "output_type": "stream",
     "text": [
      "  class  aa_000    ab_000        ac_000         ad_000  ae_000  af_000  \\\n",
      "0   neg   76698  0.713189  2.130706e+09     280.000000     0.0     0.0   \n",
      "1   neg   33058  0.713189  0.000000e+00  190620.639314     0.0     0.0   \n",
      "2   neg   41040  0.713189  2.280000e+02     100.000000     0.0     0.0   \n",
      "3   neg      12  0.000000  7.000000e+01      66.000000     0.0    10.0   \n",
      "4   neg   60874  0.713189  1.368000e+03     458.000000     0.0     0.0   \n",
      "5   neg   38312  0.713189  2.130706e+09     218.000000     0.0     0.0   \n",
      "6   neg      14  0.000000  6.000000e+00  190620.639314     0.0     0.0   \n",
      "7   neg  102960  0.713189  2.130706e+09     116.000000     0.0     0.0   \n",
      "8   neg   78696  0.713189  0.000000e+00  190620.639314     0.0     0.0   \n",
      "9   pos  153204  0.000000  1.820000e+02  190620.639314     0.0     0.0   \n",
      "\n",
      "   ag_000  ag_001  ag_002  ...     ee_002    ee_003     ee_004     ee_005  \\\n",
      "0     0.0     0.0     0.0  ...  1240520.0  493384.0   721044.0   469792.0   \n",
      "1     0.0     0.0     0.0  ...   421400.0  178064.0   293306.0   245416.0   \n",
      "2     0.0     0.0     0.0  ...   277378.0  159812.0   423992.0   409564.0   \n",
      "3     0.0     0.0     0.0  ...      240.0      46.0       58.0       44.0   \n",
      "4     0.0     0.0     0.0  ...   622012.0  229790.0   405298.0   347188.0   \n",
      "5     0.0     0.0     0.0  ...   388574.0  288278.0   900430.0   300412.0   \n",
      "6     0.0     0.0     0.0  ...      168.0      48.0       60.0       28.0   \n",
      "7     0.0     0.0     0.0  ...   715518.0  384948.0   915978.0  1052166.0   \n",
      "8     0.0     0.0     0.0  ...   699290.0  362510.0  1190028.0  1012704.0   \n",
      "9     0.0     0.0     0.0  ...   129862.0   26872.0    34044.0    22472.0   \n",
      "\n",
      "      ee_006    ee_007    ee_008  ee_009  ef_000  eg_000  \n",
      "0   339156.0  157956.0   73224.0     0.0     0.0     0.0  \n",
      "1   133654.0   81140.0   97576.0  1500.0     0.0     0.0  \n",
      "2   320746.0  158022.0   95128.0   514.0     0.0     0.0  \n",
      "3       10.0       0.0       0.0     0.0     4.0    32.0  \n",
      "4   286954.0  311560.0  433954.0  1218.0     0.0     0.0  \n",
      "5     1534.0     338.0     856.0     0.0     0.0     0.0  \n",
      "6        0.0       0.0       0.0     0.0     0.0     0.0  \n",
      "7  1108672.0  341532.0  129504.0  7832.0     0.0     0.0  \n",
      "8   160090.0   63216.0   41202.0     4.0     0.0     0.0  \n",
      "9    34362.0       0.0       0.0     0.0     0.0     0.0  \n",
      "\n",
      "[10 rows x 170 columns]\n"
     ]
    }
   ],
   "source": [
    "print(previous_without_constants.head(10))"
   ]
  },
  {
   "cell_type": "code",
   "execution_count": 22,
   "id": "cc9815d5-6df2-4759-812e-a09ebdd06506",
   "metadata": {},
   "outputs": [
    {
     "name": "stdout",
     "output_type": "stream",
     "text": [
      "Best features: Index(['aa_000', 'ah_000', 'aq_000', 'bb_000', 'bj_000', 'bt_000', 'bu_000',\n",
      "       'bv_000', 'ci_000', 'cq_000'],\n",
      "      dtype='object')\n"
     ]
    }
   ],
   "source": [
    "X = previous_without_constants.drop('class', axis=1)\n",
    "y = previous_without_constants['class'].apply(lambda x: 1 if x == 'pos' else 0)\n",
    "\n",
    "selector = SelectKBest(score_func=f_classif, k=10)\n",
    "X_new = selector.fit_transform(X, y)\n",
    "selected_features = X.columns[selector.get_support(indices=True)]\n",
    "print(\"Best features:\", selected_features)"
   ]
  },
  {
   "cell_type": "markdown",
   "id": "ee027beb-9003-45a6-8491-c83ce170c4e3",
   "metadata": {},
   "source": [
    "------------------------------------------------------------------------------------------------------------------------------------------------------"
   ]
  },
  {
   "cell_type": "code",
   "execution_count": 24,
   "id": "a0b02c7a-e74b-4592-9e1f-93d66600a7e3",
   "metadata": {},
   "outputs": [],
   "source": [
    "# Preparing the data\n",
    "X = previous_without_constants.drop(columns=['class'])  # Remover a coluna 'class' de X\n",
    "y = previous_without_constants['class'].apply(lambda x: 1 if x == 'pos' else 0)  # Variável target"
   ]
  },
  {
   "cell_type": "code",
   "execution_count": 25,
   "id": "92e7feed-bd89-4f3a-89ed-59a3c4ffff7b",
   "metadata": {},
   "outputs": [],
   "source": [
    "# Division of data in training and testing\n",
    "X_train, X_test, y_train, y_test = train_test_split(X, y, test_size=0.2, random_state=42, stratify=y)"
   ]
  },
  {
   "cell_type": "code",
   "execution_count": 26,
   "id": "54550723-11dc-4612-af1f-0b0677276018",
   "metadata": {},
   "outputs": [
    {
     "data": {
      "text/html": [
       "<style>#sk-container-id-1 {\n",
       "  /* Definition of color scheme common for light and dark mode */\n",
       "  --sklearn-color-text: black;\n",
       "  --sklearn-color-line: gray;\n",
       "  /* Definition of color scheme for unfitted estimators */\n",
       "  --sklearn-color-unfitted-level-0: #fff5e6;\n",
       "  --sklearn-color-unfitted-level-1: #f6e4d2;\n",
       "  --sklearn-color-unfitted-level-2: #ffe0b3;\n",
       "  --sklearn-color-unfitted-level-3: chocolate;\n",
       "  /* Definition of color scheme for fitted estimators */\n",
       "  --sklearn-color-fitted-level-0: #f0f8ff;\n",
       "  --sklearn-color-fitted-level-1: #d4ebff;\n",
       "  --sklearn-color-fitted-level-2: #b3dbfd;\n",
       "  --sklearn-color-fitted-level-3: cornflowerblue;\n",
       "\n",
       "  /* Specific color for light theme */\n",
       "  --sklearn-color-text-on-default-background: var(--sg-text-color, var(--theme-code-foreground, var(--jp-content-font-color1, black)));\n",
       "  --sklearn-color-background: var(--sg-background-color, var(--theme-background, var(--jp-layout-color0, white)));\n",
       "  --sklearn-color-border-box: var(--sg-text-color, var(--theme-code-foreground, var(--jp-content-font-color1, black)));\n",
       "  --sklearn-color-icon: #696969;\n",
       "\n",
       "  @media (prefers-color-scheme: dark) {\n",
       "    /* Redefinition of color scheme for dark theme */\n",
       "    --sklearn-color-text-on-default-background: var(--sg-text-color, var(--theme-code-foreground, var(--jp-content-font-color1, white)));\n",
       "    --sklearn-color-background: var(--sg-background-color, var(--theme-background, var(--jp-layout-color0, #111)));\n",
       "    --sklearn-color-border-box: var(--sg-text-color, var(--theme-code-foreground, var(--jp-content-font-color1, white)));\n",
       "    --sklearn-color-icon: #878787;\n",
       "  }\n",
       "}\n",
       "\n",
       "#sk-container-id-1 {\n",
       "  color: var(--sklearn-color-text);\n",
       "}\n",
       "\n",
       "#sk-container-id-1 pre {\n",
       "  padding: 0;\n",
       "}\n",
       "\n",
       "#sk-container-id-1 input.sk-hidden--visually {\n",
       "  border: 0;\n",
       "  clip: rect(1px 1px 1px 1px);\n",
       "  clip: rect(1px, 1px, 1px, 1px);\n",
       "  height: 1px;\n",
       "  margin: -1px;\n",
       "  overflow: hidden;\n",
       "  padding: 0;\n",
       "  position: absolute;\n",
       "  width: 1px;\n",
       "}\n",
       "\n",
       "#sk-container-id-1 div.sk-dashed-wrapped {\n",
       "  border: 1px dashed var(--sklearn-color-line);\n",
       "  margin: 0 0.4em 0.5em 0.4em;\n",
       "  box-sizing: border-box;\n",
       "  padding-bottom: 0.4em;\n",
       "  background-color: var(--sklearn-color-background);\n",
       "}\n",
       "\n",
       "#sk-container-id-1 div.sk-container {\n",
       "  /* jupyter's `normalize.less` sets `[hidden] { display: none; }`\n",
       "     but bootstrap.min.css set `[hidden] { display: none !important; }`\n",
       "     so we also need the `!important` here to be able to override the\n",
       "     default hidden behavior on the sphinx rendered scikit-learn.org.\n",
       "     See: https://github.com/scikit-learn/scikit-learn/issues/21755 */\n",
       "  display: inline-block !important;\n",
       "  position: relative;\n",
       "}\n",
       "\n",
       "#sk-container-id-1 div.sk-text-repr-fallback {\n",
       "  display: none;\n",
       "}\n",
       "\n",
       "div.sk-parallel-item,\n",
       "div.sk-serial,\n",
       "div.sk-item {\n",
       "  /* draw centered vertical line to link estimators */\n",
       "  background-image: linear-gradient(var(--sklearn-color-text-on-default-background), var(--sklearn-color-text-on-default-background));\n",
       "  background-size: 2px 100%;\n",
       "  background-repeat: no-repeat;\n",
       "  background-position: center center;\n",
       "}\n",
       "\n",
       "/* Parallel-specific style estimator block */\n",
       "\n",
       "#sk-container-id-1 div.sk-parallel-item::after {\n",
       "  content: \"\";\n",
       "  width: 100%;\n",
       "  border-bottom: 2px solid var(--sklearn-color-text-on-default-background);\n",
       "  flex-grow: 1;\n",
       "}\n",
       "\n",
       "#sk-container-id-1 div.sk-parallel {\n",
       "  display: flex;\n",
       "  align-items: stretch;\n",
       "  justify-content: center;\n",
       "  background-color: var(--sklearn-color-background);\n",
       "  position: relative;\n",
       "}\n",
       "\n",
       "#sk-container-id-1 div.sk-parallel-item {\n",
       "  display: flex;\n",
       "  flex-direction: column;\n",
       "}\n",
       "\n",
       "#sk-container-id-1 div.sk-parallel-item:first-child::after {\n",
       "  align-self: flex-end;\n",
       "  width: 50%;\n",
       "}\n",
       "\n",
       "#sk-container-id-1 div.sk-parallel-item:last-child::after {\n",
       "  align-self: flex-start;\n",
       "  width: 50%;\n",
       "}\n",
       "\n",
       "#sk-container-id-1 div.sk-parallel-item:only-child::after {\n",
       "  width: 0;\n",
       "}\n",
       "\n",
       "/* Serial-specific style estimator block */\n",
       "\n",
       "#sk-container-id-1 div.sk-serial {\n",
       "  display: flex;\n",
       "  flex-direction: column;\n",
       "  align-items: center;\n",
       "  background-color: var(--sklearn-color-background);\n",
       "  padding-right: 1em;\n",
       "  padding-left: 1em;\n",
       "}\n",
       "\n",
       "\n",
       "/* Toggleable style: style used for estimator/Pipeline/ColumnTransformer box that is\n",
       "clickable and can be expanded/collapsed.\n",
       "- Pipeline and ColumnTransformer use this feature and define the default style\n",
       "- Estimators will overwrite some part of the style using the `sk-estimator` class\n",
       "*/\n",
       "\n",
       "/* Pipeline and ColumnTransformer style (default) */\n",
       "\n",
       "#sk-container-id-1 div.sk-toggleable {\n",
       "  /* Default theme specific background. It is overwritten whether we have a\n",
       "  specific estimator or a Pipeline/ColumnTransformer */\n",
       "  background-color: var(--sklearn-color-background);\n",
       "}\n",
       "\n",
       "/* Toggleable label */\n",
       "#sk-container-id-1 label.sk-toggleable__label {\n",
       "  cursor: pointer;\n",
       "  display: block;\n",
       "  width: 100%;\n",
       "  margin-bottom: 0;\n",
       "  padding: 0.5em;\n",
       "  box-sizing: border-box;\n",
       "  text-align: center;\n",
       "}\n",
       "\n",
       "#sk-container-id-1 label.sk-toggleable__label-arrow:before {\n",
       "  /* Arrow on the left of the label */\n",
       "  content: \"▸\";\n",
       "  float: left;\n",
       "  margin-right: 0.25em;\n",
       "  color: var(--sklearn-color-icon);\n",
       "}\n",
       "\n",
       "#sk-container-id-1 label.sk-toggleable__label-arrow:hover:before {\n",
       "  color: var(--sklearn-color-text);\n",
       "}\n",
       "\n",
       "/* Toggleable content - dropdown */\n",
       "\n",
       "#sk-container-id-1 div.sk-toggleable__content {\n",
       "  max-height: 0;\n",
       "  max-width: 0;\n",
       "  overflow: hidden;\n",
       "  text-align: left;\n",
       "  /* unfitted */\n",
       "  background-color: var(--sklearn-color-unfitted-level-0);\n",
       "}\n",
       "\n",
       "#sk-container-id-1 div.sk-toggleable__content.fitted {\n",
       "  /* fitted */\n",
       "  background-color: var(--sklearn-color-fitted-level-0);\n",
       "}\n",
       "\n",
       "#sk-container-id-1 div.sk-toggleable__content pre {\n",
       "  margin: 0.2em;\n",
       "  border-radius: 0.25em;\n",
       "  color: var(--sklearn-color-text);\n",
       "  /* unfitted */\n",
       "  background-color: var(--sklearn-color-unfitted-level-0);\n",
       "}\n",
       "\n",
       "#sk-container-id-1 div.sk-toggleable__content.fitted pre {\n",
       "  /* unfitted */\n",
       "  background-color: var(--sklearn-color-fitted-level-0);\n",
       "}\n",
       "\n",
       "#sk-container-id-1 input.sk-toggleable__control:checked~div.sk-toggleable__content {\n",
       "  /* Expand drop-down */\n",
       "  max-height: 200px;\n",
       "  max-width: 100%;\n",
       "  overflow: auto;\n",
       "}\n",
       "\n",
       "#sk-container-id-1 input.sk-toggleable__control:checked~label.sk-toggleable__label-arrow:before {\n",
       "  content: \"▾\";\n",
       "}\n",
       "\n",
       "/* Pipeline/ColumnTransformer-specific style */\n",
       "\n",
       "#sk-container-id-1 div.sk-label input.sk-toggleable__control:checked~label.sk-toggleable__label {\n",
       "  color: var(--sklearn-color-text);\n",
       "  background-color: var(--sklearn-color-unfitted-level-2);\n",
       "}\n",
       "\n",
       "#sk-container-id-1 div.sk-label.fitted input.sk-toggleable__control:checked~label.sk-toggleable__label {\n",
       "  background-color: var(--sklearn-color-fitted-level-2);\n",
       "}\n",
       "\n",
       "/* Estimator-specific style */\n",
       "\n",
       "/* Colorize estimator box */\n",
       "#sk-container-id-1 div.sk-estimator input.sk-toggleable__control:checked~label.sk-toggleable__label {\n",
       "  /* unfitted */\n",
       "  background-color: var(--sklearn-color-unfitted-level-2);\n",
       "}\n",
       "\n",
       "#sk-container-id-1 div.sk-estimator.fitted input.sk-toggleable__control:checked~label.sk-toggleable__label {\n",
       "  /* fitted */\n",
       "  background-color: var(--sklearn-color-fitted-level-2);\n",
       "}\n",
       "\n",
       "#sk-container-id-1 div.sk-label label.sk-toggleable__label,\n",
       "#sk-container-id-1 div.sk-label label {\n",
       "  /* The background is the default theme color */\n",
       "  color: var(--sklearn-color-text-on-default-background);\n",
       "}\n",
       "\n",
       "/* On hover, darken the color of the background */\n",
       "#sk-container-id-1 div.sk-label:hover label.sk-toggleable__label {\n",
       "  color: var(--sklearn-color-text);\n",
       "  background-color: var(--sklearn-color-unfitted-level-2);\n",
       "}\n",
       "\n",
       "/* Label box, darken color on hover, fitted */\n",
       "#sk-container-id-1 div.sk-label.fitted:hover label.sk-toggleable__label.fitted {\n",
       "  color: var(--sklearn-color-text);\n",
       "  background-color: var(--sklearn-color-fitted-level-2);\n",
       "}\n",
       "\n",
       "/* Estimator label */\n",
       "\n",
       "#sk-container-id-1 div.sk-label label {\n",
       "  font-family: monospace;\n",
       "  font-weight: bold;\n",
       "  display: inline-block;\n",
       "  line-height: 1.2em;\n",
       "}\n",
       "\n",
       "#sk-container-id-1 div.sk-label-container {\n",
       "  text-align: center;\n",
       "}\n",
       "\n",
       "/* Estimator-specific */\n",
       "#sk-container-id-1 div.sk-estimator {\n",
       "  font-family: monospace;\n",
       "  border: 1px dotted var(--sklearn-color-border-box);\n",
       "  border-radius: 0.25em;\n",
       "  box-sizing: border-box;\n",
       "  margin-bottom: 0.5em;\n",
       "  /* unfitted */\n",
       "  background-color: var(--sklearn-color-unfitted-level-0);\n",
       "}\n",
       "\n",
       "#sk-container-id-1 div.sk-estimator.fitted {\n",
       "  /* fitted */\n",
       "  background-color: var(--sklearn-color-fitted-level-0);\n",
       "}\n",
       "\n",
       "/* on hover */\n",
       "#sk-container-id-1 div.sk-estimator:hover {\n",
       "  /* unfitted */\n",
       "  background-color: var(--sklearn-color-unfitted-level-2);\n",
       "}\n",
       "\n",
       "#sk-container-id-1 div.sk-estimator.fitted:hover {\n",
       "  /* fitted */\n",
       "  background-color: var(--sklearn-color-fitted-level-2);\n",
       "}\n",
       "\n",
       "/* Specification for estimator info (e.g. \"i\" and \"?\") */\n",
       "\n",
       "/* Common style for \"i\" and \"?\" */\n",
       "\n",
       ".sk-estimator-doc-link,\n",
       "a:link.sk-estimator-doc-link,\n",
       "a:visited.sk-estimator-doc-link {\n",
       "  float: right;\n",
       "  font-size: smaller;\n",
       "  line-height: 1em;\n",
       "  font-family: monospace;\n",
       "  background-color: var(--sklearn-color-background);\n",
       "  border-radius: 1em;\n",
       "  height: 1em;\n",
       "  width: 1em;\n",
       "  text-decoration: none !important;\n",
       "  margin-left: 1ex;\n",
       "  /* unfitted */\n",
       "  border: var(--sklearn-color-unfitted-level-1) 1pt solid;\n",
       "  color: var(--sklearn-color-unfitted-level-1);\n",
       "}\n",
       "\n",
       ".sk-estimator-doc-link.fitted,\n",
       "a:link.sk-estimator-doc-link.fitted,\n",
       "a:visited.sk-estimator-doc-link.fitted {\n",
       "  /* fitted */\n",
       "  border: var(--sklearn-color-fitted-level-1) 1pt solid;\n",
       "  color: var(--sklearn-color-fitted-level-1);\n",
       "}\n",
       "\n",
       "/* On hover */\n",
       "div.sk-estimator:hover .sk-estimator-doc-link:hover,\n",
       ".sk-estimator-doc-link:hover,\n",
       "div.sk-label-container:hover .sk-estimator-doc-link:hover,\n",
       ".sk-estimator-doc-link:hover {\n",
       "  /* unfitted */\n",
       "  background-color: var(--sklearn-color-unfitted-level-3);\n",
       "  color: var(--sklearn-color-background);\n",
       "  text-decoration: none;\n",
       "}\n",
       "\n",
       "div.sk-estimator.fitted:hover .sk-estimator-doc-link.fitted:hover,\n",
       ".sk-estimator-doc-link.fitted:hover,\n",
       "div.sk-label-container:hover .sk-estimator-doc-link.fitted:hover,\n",
       ".sk-estimator-doc-link.fitted:hover {\n",
       "  /* fitted */\n",
       "  background-color: var(--sklearn-color-fitted-level-3);\n",
       "  color: var(--sklearn-color-background);\n",
       "  text-decoration: none;\n",
       "}\n",
       "\n",
       "/* Span, style for the box shown on hovering the info icon */\n",
       ".sk-estimator-doc-link span {\n",
       "  display: none;\n",
       "  z-index: 9999;\n",
       "  position: relative;\n",
       "  font-weight: normal;\n",
       "  right: .2ex;\n",
       "  padding: .5ex;\n",
       "  margin: .5ex;\n",
       "  width: min-content;\n",
       "  min-width: 20ex;\n",
       "  max-width: 50ex;\n",
       "  color: var(--sklearn-color-text);\n",
       "  box-shadow: 2pt 2pt 4pt #999;\n",
       "  /* unfitted */\n",
       "  background: var(--sklearn-color-unfitted-level-0);\n",
       "  border: .5pt solid var(--sklearn-color-unfitted-level-3);\n",
       "}\n",
       "\n",
       ".sk-estimator-doc-link.fitted span {\n",
       "  /* fitted */\n",
       "  background: var(--sklearn-color-fitted-level-0);\n",
       "  border: var(--sklearn-color-fitted-level-3);\n",
       "}\n",
       "\n",
       ".sk-estimator-doc-link:hover span {\n",
       "  display: block;\n",
       "}\n",
       "\n",
       "/* \"?\"-specific style due to the `<a>` HTML tag */\n",
       "\n",
       "#sk-container-id-1 a.estimator_doc_link {\n",
       "  float: right;\n",
       "  font-size: 1rem;\n",
       "  line-height: 1em;\n",
       "  font-family: monospace;\n",
       "  background-color: var(--sklearn-color-background);\n",
       "  border-radius: 1rem;\n",
       "  height: 1rem;\n",
       "  width: 1rem;\n",
       "  text-decoration: none;\n",
       "  /* unfitted */\n",
       "  color: var(--sklearn-color-unfitted-level-1);\n",
       "  border: var(--sklearn-color-unfitted-level-1) 1pt solid;\n",
       "}\n",
       "\n",
       "#sk-container-id-1 a.estimator_doc_link.fitted {\n",
       "  /* fitted */\n",
       "  border: var(--sklearn-color-fitted-level-1) 1pt solid;\n",
       "  color: var(--sklearn-color-fitted-level-1);\n",
       "}\n",
       "\n",
       "/* On hover */\n",
       "#sk-container-id-1 a.estimator_doc_link:hover {\n",
       "  /* unfitted */\n",
       "  background-color: var(--sklearn-color-unfitted-level-3);\n",
       "  color: var(--sklearn-color-background);\n",
       "  text-decoration: none;\n",
       "}\n",
       "\n",
       "#sk-container-id-1 a.estimator_doc_link.fitted:hover {\n",
       "  /* fitted */\n",
       "  background-color: var(--sklearn-color-fitted-level-3);\n",
       "}\n",
       "</style><div id=\"sk-container-id-1\" class=\"sk-top-container\"><div class=\"sk-text-repr-fallback\"><pre>RandomForestClassifier(random_state=42)</pre><b>In a Jupyter environment, please rerun this cell to show the HTML representation or trust the notebook. <br />On GitHub, the HTML representation is unable to render, please try loading this page with nbviewer.org.</b></div><div class=\"sk-container\" hidden><div class=\"sk-item\"><div class=\"sk-estimator fitted sk-toggleable\"><input class=\"sk-toggleable__control sk-hidden--visually\" id=\"sk-estimator-id-1\" type=\"checkbox\" checked><label for=\"sk-estimator-id-1\" class=\"sk-toggleable__label fitted sk-toggleable__label-arrow fitted\">&nbsp;&nbsp;RandomForestClassifier<a class=\"sk-estimator-doc-link fitted\" rel=\"noreferrer\" target=\"_blank\" href=\"https://scikit-learn.org/1.4/modules/generated/sklearn.ensemble.RandomForestClassifier.html\">?<span>Documentation for RandomForestClassifier</span></a><span class=\"sk-estimator-doc-link fitted\">i<span>Fitted</span></span></label><div class=\"sk-toggleable__content fitted\"><pre>RandomForestClassifier(random_state=42)</pre></div> </div></div></div></div>"
      ],
      "text/plain": [
       "RandomForestClassifier(random_state=42)"
      ]
     },
     "execution_count": 26,
     "metadata": {},
     "output_type": "execute_result"
    }
   ],
   "source": [
    "# Creating and training the model\n",
    "model = RandomForestClassifier(random_state=42)\n",
    "model.fit(X_train, y_train)"
   ]
  },
  {
   "cell_type": "code",
   "execution_count": 27,
   "id": "3a6eb0de-5513-4df9-b8bd-7cac87cdbdeb",
   "metadata": {},
   "outputs": [
    {
     "name": "stdout",
     "output_type": "stream",
     "text": [
      "              precision    recall  f1-score   support\n",
      "\n",
      "           0       1.00      1.00      1.00     11800\n",
      "           1       0.90      0.72      0.80       200\n",
      "\n",
      "    accuracy                           0.99     12000\n",
      "   macro avg       0.95      0.86      0.90     12000\n",
      "weighted avg       0.99      0.99      0.99     12000\n",
      "\n"
     ]
    }
   ],
   "source": [
    "# Evaluation of the Model\n",
    "y_pred = model.predict(X_test)\n",
    "print(classification_report(y_test, y_pred))"
   ]
  },
  {
   "cell_type": "markdown",
   "id": "0ed6d738-2dd5-44aa-90a7-5976a70d49f5",
   "metadata": {},
   "source": [
    "## Class Balancing and Training:"
   ]
  },
  {
   "cell_type": "markdown",
   "id": "f0e84cf3-ff1b-4e93-8ec2-6ab43f520787",
   "metadata": {},
   "source": [
    "                              SMOTE (Synthetic Minority Over-sampling Technique)"
   ]
  },
  {
   "cell_type": "code",
   "execution_count": 30,
   "id": "d2328e1d-cc68-4927-a9f3-b3c08baf0dc9",
   "metadata": {},
   "outputs": [],
   "source": [
    "smote = SMOTE(random_state=42)\n",
    "X_smote, y_smote = smote.fit_resample(X_train, y_train)"
   ]
  },
  {
   "cell_type": "code",
   "execution_count": 31,
   "id": "d931d618-3809-4642-8669-e8e54e78e065",
   "metadata": {},
   "outputs": [],
   "source": [
    "# Division of actual data in training and testing\n",
    "X_train_smote, X_test_smote, y_train_smote, y_test_smote = train_test_split(X_smote, y_smote, test_size=0.2, random_state=42, stratify=y_smote)"
   ]
  },
  {
   "cell_type": "markdown",
   "id": "0162edd6-1d5e-45fc-af76-c713a47a9507",
   "metadata": {},
   "source": [
    "-------------------------------------------------------------------------------------------------------------------------------------"
   ]
  },
  {
   "cell_type": "markdown",
   "id": "ece4627b-9001-431b-98b8-c4ac9c17dc87",
   "metadata": {},
   "source": [
    "                    SMOTEENN = SMOTE(Synthetic Minority Over-sampling Technique) + ENN (Edited Nearest Neighbors)"
   ]
  },
  {
   "cell_type": "code",
   "execution_count": 34,
   "id": "839d7598-cd4e-4889-99bc-a4ef9213e3b1",
   "metadata": {},
   "outputs": [],
   "source": [
    "from imblearn.combine import SMOTEENN\n",
    "# Application of SMOTEENN to data resulting from SMOTE\n",
    "smote_enn = SMOTEENN(random_state=42)\n",
    "X_resampled, y_resampled = smote_enn.fit_resample(X_train_smote, y_train_smote)"
   ]
  },
  {
   "cell_type": "markdown",
   "id": "3935ce5e-5a06-40e7-a455-853ce081cf88",
   "metadata": {},
   "source": [
    "-------------------------------------------------------------------------------------------------------------------------------------"
   ]
  },
  {
   "cell_type": "code",
   "execution_count": 35,
   "id": "a71ea1ca-881e-43d2-9a13-322cc8ec12dc",
   "metadata": {},
   "outputs": [],
   "source": [
    "# Data scaling\n",
    "scaler = StandardScaler()\n",
    "X_resampled = scaler.fit_transform(X_resampled)\n",
    "X_test = scaler.transform(X_test)"
   ]
  },
  {
   "cell_type": "code",
   "execution_count": 36,
   "id": "729aed53-adc3-4754-a03b-9b519113efb1",
   "metadata": {},
   "outputs": [],
   "source": [
    "#  Reduction of dimensionality with PCA\n",
    "pca = PCA(n_components=10)\n",
    "X_resampled = pca.fit_transform(X_resampled)\n",
    "X_test = pca.transform(X_test)"
   ]
  },
  {
   "cell_type": "markdown",
   "id": "f59990d0-a159-4c82-a51d-5b384e599826",
   "metadata": {},
   "source": [
    "-------------------------------------------------------------------------------------------------------------------------------------"
   ]
  },
  {
   "cell_type": "code",
   "execution_count": 37,
   "id": "e52b6eef-b04e-4af3-8d1e-a3399225b759",
   "metadata": {},
   "outputs": [
    {
     "data": {
      "text/html": [
       "<style>#sk-container-id-2 {\n",
       "  /* Definition of color scheme common for light and dark mode */\n",
       "  --sklearn-color-text: black;\n",
       "  --sklearn-color-line: gray;\n",
       "  /* Definition of color scheme for unfitted estimators */\n",
       "  --sklearn-color-unfitted-level-0: #fff5e6;\n",
       "  --sklearn-color-unfitted-level-1: #f6e4d2;\n",
       "  --sklearn-color-unfitted-level-2: #ffe0b3;\n",
       "  --sklearn-color-unfitted-level-3: chocolate;\n",
       "  /* Definition of color scheme for fitted estimators */\n",
       "  --sklearn-color-fitted-level-0: #f0f8ff;\n",
       "  --sklearn-color-fitted-level-1: #d4ebff;\n",
       "  --sklearn-color-fitted-level-2: #b3dbfd;\n",
       "  --sklearn-color-fitted-level-3: cornflowerblue;\n",
       "\n",
       "  /* Specific color for light theme */\n",
       "  --sklearn-color-text-on-default-background: var(--sg-text-color, var(--theme-code-foreground, var(--jp-content-font-color1, black)));\n",
       "  --sklearn-color-background: var(--sg-background-color, var(--theme-background, var(--jp-layout-color0, white)));\n",
       "  --sklearn-color-border-box: var(--sg-text-color, var(--theme-code-foreground, var(--jp-content-font-color1, black)));\n",
       "  --sklearn-color-icon: #696969;\n",
       "\n",
       "  @media (prefers-color-scheme: dark) {\n",
       "    /* Redefinition of color scheme for dark theme */\n",
       "    --sklearn-color-text-on-default-background: var(--sg-text-color, var(--theme-code-foreground, var(--jp-content-font-color1, white)));\n",
       "    --sklearn-color-background: var(--sg-background-color, var(--theme-background, var(--jp-layout-color0, #111)));\n",
       "    --sklearn-color-border-box: var(--sg-text-color, var(--theme-code-foreground, var(--jp-content-font-color1, white)));\n",
       "    --sklearn-color-icon: #878787;\n",
       "  }\n",
       "}\n",
       "\n",
       "#sk-container-id-2 {\n",
       "  color: var(--sklearn-color-text);\n",
       "}\n",
       "\n",
       "#sk-container-id-2 pre {\n",
       "  padding: 0;\n",
       "}\n",
       "\n",
       "#sk-container-id-2 input.sk-hidden--visually {\n",
       "  border: 0;\n",
       "  clip: rect(1px 1px 1px 1px);\n",
       "  clip: rect(1px, 1px, 1px, 1px);\n",
       "  height: 1px;\n",
       "  margin: -1px;\n",
       "  overflow: hidden;\n",
       "  padding: 0;\n",
       "  position: absolute;\n",
       "  width: 1px;\n",
       "}\n",
       "\n",
       "#sk-container-id-2 div.sk-dashed-wrapped {\n",
       "  border: 1px dashed var(--sklearn-color-line);\n",
       "  margin: 0 0.4em 0.5em 0.4em;\n",
       "  box-sizing: border-box;\n",
       "  padding-bottom: 0.4em;\n",
       "  background-color: var(--sklearn-color-background);\n",
       "}\n",
       "\n",
       "#sk-container-id-2 div.sk-container {\n",
       "  /* jupyter's `normalize.less` sets `[hidden] { display: none; }`\n",
       "     but bootstrap.min.css set `[hidden] { display: none !important; }`\n",
       "     so we also need the `!important` here to be able to override the\n",
       "     default hidden behavior on the sphinx rendered scikit-learn.org.\n",
       "     See: https://github.com/scikit-learn/scikit-learn/issues/21755 */\n",
       "  display: inline-block !important;\n",
       "  position: relative;\n",
       "}\n",
       "\n",
       "#sk-container-id-2 div.sk-text-repr-fallback {\n",
       "  display: none;\n",
       "}\n",
       "\n",
       "div.sk-parallel-item,\n",
       "div.sk-serial,\n",
       "div.sk-item {\n",
       "  /* draw centered vertical line to link estimators */\n",
       "  background-image: linear-gradient(var(--sklearn-color-text-on-default-background), var(--sklearn-color-text-on-default-background));\n",
       "  background-size: 2px 100%;\n",
       "  background-repeat: no-repeat;\n",
       "  background-position: center center;\n",
       "}\n",
       "\n",
       "/* Parallel-specific style estimator block */\n",
       "\n",
       "#sk-container-id-2 div.sk-parallel-item::after {\n",
       "  content: \"\";\n",
       "  width: 100%;\n",
       "  border-bottom: 2px solid var(--sklearn-color-text-on-default-background);\n",
       "  flex-grow: 1;\n",
       "}\n",
       "\n",
       "#sk-container-id-2 div.sk-parallel {\n",
       "  display: flex;\n",
       "  align-items: stretch;\n",
       "  justify-content: center;\n",
       "  background-color: var(--sklearn-color-background);\n",
       "  position: relative;\n",
       "}\n",
       "\n",
       "#sk-container-id-2 div.sk-parallel-item {\n",
       "  display: flex;\n",
       "  flex-direction: column;\n",
       "}\n",
       "\n",
       "#sk-container-id-2 div.sk-parallel-item:first-child::after {\n",
       "  align-self: flex-end;\n",
       "  width: 50%;\n",
       "}\n",
       "\n",
       "#sk-container-id-2 div.sk-parallel-item:last-child::after {\n",
       "  align-self: flex-start;\n",
       "  width: 50%;\n",
       "}\n",
       "\n",
       "#sk-container-id-2 div.sk-parallel-item:only-child::after {\n",
       "  width: 0;\n",
       "}\n",
       "\n",
       "/* Serial-specific style estimator block */\n",
       "\n",
       "#sk-container-id-2 div.sk-serial {\n",
       "  display: flex;\n",
       "  flex-direction: column;\n",
       "  align-items: center;\n",
       "  background-color: var(--sklearn-color-background);\n",
       "  padding-right: 1em;\n",
       "  padding-left: 1em;\n",
       "}\n",
       "\n",
       "\n",
       "/* Toggleable style: style used for estimator/Pipeline/ColumnTransformer box that is\n",
       "clickable and can be expanded/collapsed.\n",
       "- Pipeline and ColumnTransformer use this feature and define the default style\n",
       "- Estimators will overwrite some part of the style using the `sk-estimator` class\n",
       "*/\n",
       "\n",
       "/* Pipeline and ColumnTransformer style (default) */\n",
       "\n",
       "#sk-container-id-2 div.sk-toggleable {\n",
       "  /* Default theme specific background. It is overwritten whether we have a\n",
       "  specific estimator or a Pipeline/ColumnTransformer */\n",
       "  background-color: var(--sklearn-color-background);\n",
       "}\n",
       "\n",
       "/* Toggleable label */\n",
       "#sk-container-id-2 label.sk-toggleable__label {\n",
       "  cursor: pointer;\n",
       "  display: block;\n",
       "  width: 100%;\n",
       "  margin-bottom: 0;\n",
       "  padding: 0.5em;\n",
       "  box-sizing: border-box;\n",
       "  text-align: center;\n",
       "}\n",
       "\n",
       "#sk-container-id-2 label.sk-toggleable__label-arrow:before {\n",
       "  /* Arrow on the left of the label */\n",
       "  content: \"▸\";\n",
       "  float: left;\n",
       "  margin-right: 0.25em;\n",
       "  color: var(--sklearn-color-icon);\n",
       "}\n",
       "\n",
       "#sk-container-id-2 label.sk-toggleable__label-arrow:hover:before {\n",
       "  color: var(--sklearn-color-text);\n",
       "}\n",
       "\n",
       "/* Toggleable content - dropdown */\n",
       "\n",
       "#sk-container-id-2 div.sk-toggleable__content {\n",
       "  max-height: 0;\n",
       "  max-width: 0;\n",
       "  overflow: hidden;\n",
       "  text-align: left;\n",
       "  /* unfitted */\n",
       "  background-color: var(--sklearn-color-unfitted-level-0);\n",
       "}\n",
       "\n",
       "#sk-container-id-2 div.sk-toggleable__content.fitted {\n",
       "  /* fitted */\n",
       "  background-color: var(--sklearn-color-fitted-level-0);\n",
       "}\n",
       "\n",
       "#sk-container-id-2 div.sk-toggleable__content pre {\n",
       "  margin: 0.2em;\n",
       "  border-radius: 0.25em;\n",
       "  color: var(--sklearn-color-text);\n",
       "  /* unfitted */\n",
       "  background-color: var(--sklearn-color-unfitted-level-0);\n",
       "}\n",
       "\n",
       "#sk-container-id-2 div.sk-toggleable__content.fitted pre {\n",
       "  /* unfitted */\n",
       "  background-color: var(--sklearn-color-fitted-level-0);\n",
       "}\n",
       "\n",
       "#sk-container-id-2 input.sk-toggleable__control:checked~div.sk-toggleable__content {\n",
       "  /* Expand drop-down */\n",
       "  max-height: 200px;\n",
       "  max-width: 100%;\n",
       "  overflow: auto;\n",
       "}\n",
       "\n",
       "#sk-container-id-2 input.sk-toggleable__control:checked~label.sk-toggleable__label-arrow:before {\n",
       "  content: \"▾\";\n",
       "}\n",
       "\n",
       "/* Pipeline/ColumnTransformer-specific style */\n",
       "\n",
       "#sk-container-id-2 div.sk-label input.sk-toggleable__control:checked~label.sk-toggleable__label {\n",
       "  color: var(--sklearn-color-text);\n",
       "  background-color: var(--sklearn-color-unfitted-level-2);\n",
       "}\n",
       "\n",
       "#sk-container-id-2 div.sk-label.fitted input.sk-toggleable__control:checked~label.sk-toggleable__label {\n",
       "  background-color: var(--sklearn-color-fitted-level-2);\n",
       "}\n",
       "\n",
       "/* Estimator-specific style */\n",
       "\n",
       "/* Colorize estimator box */\n",
       "#sk-container-id-2 div.sk-estimator input.sk-toggleable__control:checked~label.sk-toggleable__label {\n",
       "  /* unfitted */\n",
       "  background-color: var(--sklearn-color-unfitted-level-2);\n",
       "}\n",
       "\n",
       "#sk-container-id-2 div.sk-estimator.fitted input.sk-toggleable__control:checked~label.sk-toggleable__label {\n",
       "  /* fitted */\n",
       "  background-color: var(--sklearn-color-fitted-level-2);\n",
       "}\n",
       "\n",
       "#sk-container-id-2 div.sk-label label.sk-toggleable__label,\n",
       "#sk-container-id-2 div.sk-label label {\n",
       "  /* The background is the default theme color */\n",
       "  color: var(--sklearn-color-text-on-default-background);\n",
       "}\n",
       "\n",
       "/* On hover, darken the color of the background */\n",
       "#sk-container-id-2 div.sk-label:hover label.sk-toggleable__label {\n",
       "  color: var(--sklearn-color-text);\n",
       "  background-color: var(--sklearn-color-unfitted-level-2);\n",
       "}\n",
       "\n",
       "/* Label box, darken color on hover, fitted */\n",
       "#sk-container-id-2 div.sk-label.fitted:hover label.sk-toggleable__label.fitted {\n",
       "  color: var(--sklearn-color-text);\n",
       "  background-color: var(--sklearn-color-fitted-level-2);\n",
       "}\n",
       "\n",
       "/* Estimator label */\n",
       "\n",
       "#sk-container-id-2 div.sk-label label {\n",
       "  font-family: monospace;\n",
       "  font-weight: bold;\n",
       "  display: inline-block;\n",
       "  line-height: 1.2em;\n",
       "}\n",
       "\n",
       "#sk-container-id-2 div.sk-label-container {\n",
       "  text-align: center;\n",
       "}\n",
       "\n",
       "/* Estimator-specific */\n",
       "#sk-container-id-2 div.sk-estimator {\n",
       "  font-family: monospace;\n",
       "  border: 1px dotted var(--sklearn-color-border-box);\n",
       "  border-radius: 0.25em;\n",
       "  box-sizing: border-box;\n",
       "  margin-bottom: 0.5em;\n",
       "  /* unfitted */\n",
       "  background-color: var(--sklearn-color-unfitted-level-0);\n",
       "}\n",
       "\n",
       "#sk-container-id-2 div.sk-estimator.fitted {\n",
       "  /* fitted */\n",
       "  background-color: var(--sklearn-color-fitted-level-0);\n",
       "}\n",
       "\n",
       "/* on hover */\n",
       "#sk-container-id-2 div.sk-estimator:hover {\n",
       "  /* unfitted */\n",
       "  background-color: var(--sklearn-color-unfitted-level-2);\n",
       "}\n",
       "\n",
       "#sk-container-id-2 div.sk-estimator.fitted:hover {\n",
       "  /* fitted */\n",
       "  background-color: var(--sklearn-color-fitted-level-2);\n",
       "}\n",
       "\n",
       "/* Specification for estimator info (e.g. \"i\" and \"?\") */\n",
       "\n",
       "/* Common style for \"i\" and \"?\" */\n",
       "\n",
       ".sk-estimator-doc-link,\n",
       "a:link.sk-estimator-doc-link,\n",
       "a:visited.sk-estimator-doc-link {\n",
       "  float: right;\n",
       "  font-size: smaller;\n",
       "  line-height: 1em;\n",
       "  font-family: monospace;\n",
       "  background-color: var(--sklearn-color-background);\n",
       "  border-radius: 1em;\n",
       "  height: 1em;\n",
       "  width: 1em;\n",
       "  text-decoration: none !important;\n",
       "  margin-left: 1ex;\n",
       "  /* unfitted */\n",
       "  border: var(--sklearn-color-unfitted-level-1) 1pt solid;\n",
       "  color: var(--sklearn-color-unfitted-level-1);\n",
       "}\n",
       "\n",
       ".sk-estimator-doc-link.fitted,\n",
       "a:link.sk-estimator-doc-link.fitted,\n",
       "a:visited.sk-estimator-doc-link.fitted {\n",
       "  /* fitted */\n",
       "  border: var(--sklearn-color-fitted-level-1) 1pt solid;\n",
       "  color: var(--sklearn-color-fitted-level-1);\n",
       "}\n",
       "\n",
       "/* On hover */\n",
       "div.sk-estimator:hover .sk-estimator-doc-link:hover,\n",
       ".sk-estimator-doc-link:hover,\n",
       "div.sk-label-container:hover .sk-estimator-doc-link:hover,\n",
       ".sk-estimator-doc-link:hover {\n",
       "  /* unfitted */\n",
       "  background-color: var(--sklearn-color-unfitted-level-3);\n",
       "  color: var(--sklearn-color-background);\n",
       "  text-decoration: none;\n",
       "}\n",
       "\n",
       "div.sk-estimator.fitted:hover .sk-estimator-doc-link.fitted:hover,\n",
       ".sk-estimator-doc-link.fitted:hover,\n",
       "div.sk-label-container:hover .sk-estimator-doc-link.fitted:hover,\n",
       ".sk-estimator-doc-link.fitted:hover {\n",
       "  /* fitted */\n",
       "  background-color: var(--sklearn-color-fitted-level-3);\n",
       "  color: var(--sklearn-color-background);\n",
       "  text-decoration: none;\n",
       "}\n",
       "\n",
       "/* Span, style for the box shown on hovering the info icon */\n",
       ".sk-estimator-doc-link span {\n",
       "  display: none;\n",
       "  z-index: 9999;\n",
       "  position: relative;\n",
       "  font-weight: normal;\n",
       "  right: .2ex;\n",
       "  padding: .5ex;\n",
       "  margin: .5ex;\n",
       "  width: min-content;\n",
       "  min-width: 20ex;\n",
       "  max-width: 50ex;\n",
       "  color: var(--sklearn-color-text);\n",
       "  box-shadow: 2pt 2pt 4pt #999;\n",
       "  /* unfitted */\n",
       "  background: var(--sklearn-color-unfitted-level-0);\n",
       "  border: .5pt solid var(--sklearn-color-unfitted-level-3);\n",
       "}\n",
       "\n",
       ".sk-estimator-doc-link.fitted span {\n",
       "  /* fitted */\n",
       "  background: var(--sklearn-color-fitted-level-0);\n",
       "  border: var(--sklearn-color-fitted-level-3);\n",
       "}\n",
       "\n",
       ".sk-estimator-doc-link:hover span {\n",
       "  display: block;\n",
       "}\n",
       "\n",
       "/* \"?\"-specific style due to the `<a>` HTML tag */\n",
       "\n",
       "#sk-container-id-2 a.estimator_doc_link {\n",
       "  float: right;\n",
       "  font-size: 1rem;\n",
       "  line-height: 1em;\n",
       "  font-family: monospace;\n",
       "  background-color: var(--sklearn-color-background);\n",
       "  border-radius: 1rem;\n",
       "  height: 1rem;\n",
       "  width: 1rem;\n",
       "  text-decoration: none;\n",
       "  /* unfitted */\n",
       "  color: var(--sklearn-color-unfitted-level-1);\n",
       "  border: var(--sklearn-color-unfitted-level-1) 1pt solid;\n",
       "}\n",
       "\n",
       "#sk-container-id-2 a.estimator_doc_link.fitted {\n",
       "  /* fitted */\n",
       "  border: var(--sklearn-color-fitted-level-1) 1pt solid;\n",
       "  color: var(--sklearn-color-fitted-level-1);\n",
       "}\n",
       "\n",
       "/* On hover */\n",
       "#sk-container-id-2 a.estimator_doc_link:hover {\n",
       "  /* unfitted */\n",
       "  background-color: var(--sklearn-color-unfitted-level-3);\n",
       "  color: var(--sklearn-color-background);\n",
       "  text-decoration: none;\n",
       "}\n",
       "\n",
       "#sk-container-id-2 a.estimator_doc_link.fitted:hover {\n",
       "  /* fitted */\n",
       "  background-color: var(--sklearn-color-fitted-level-3);\n",
       "}\n",
       "</style><div id=\"sk-container-id-2\" class=\"sk-top-container\"><div class=\"sk-text-repr-fallback\"><pre>RandomForestClassifier(random_state=42)</pre><b>In a Jupyter environment, please rerun this cell to show the HTML representation or trust the notebook. <br />On GitHub, the HTML representation is unable to render, please try loading this page with nbviewer.org.</b></div><div class=\"sk-container\" hidden><div class=\"sk-item\"><div class=\"sk-estimator fitted sk-toggleable\"><input class=\"sk-toggleable__control sk-hidden--visually\" id=\"sk-estimator-id-2\" type=\"checkbox\" checked><label for=\"sk-estimator-id-2\" class=\"sk-toggleable__label fitted sk-toggleable__label-arrow fitted\">&nbsp;&nbsp;RandomForestClassifier<a class=\"sk-estimator-doc-link fitted\" rel=\"noreferrer\" target=\"_blank\" href=\"https://scikit-learn.org/1.4/modules/generated/sklearn.ensemble.RandomForestClassifier.html\">?<span>Documentation for RandomForestClassifier</span></a><span class=\"sk-estimator-doc-link fitted\">i<span>Fitted</span></span></label><div class=\"sk-toggleable__content fitted\"><pre>RandomForestClassifier(random_state=42)</pre></div> </div></div></div></div>"
      ],
      "text/plain": [
       "RandomForestClassifier(random_state=42)"
      ]
     },
     "execution_count": 37,
     "metadata": {},
     "output_type": "execute_result"
    }
   ],
   "source": [
    "# Model training with the re-shown data\n",
    "model_resampled = RandomForestClassifier(random_state=42)\n",
    "model_resampled.fit(X_resampled, y_resampled)"
   ]
  },
  {
   "cell_type": "markdown",
   "id": "d906c8db-870b-4cb5-baaa-2e0b5cba1915",
   "metadata": {},
   "source": [
    "## Evaluation of the Model:"
   ]
  },
  {
   "cell_type": "code",
   "execution_count": 39,
   "id": "0bd1a954-68e7-4073-8ba6-802d70087331",
   "metadata": {},
   "outputs": [
    {
     "name": "stdout",
     "output_type": "stream",
     "text": [
      "Classification Report after applying SMOTE and SMOTEENN:\n",
      "              precision    recall  f1-score   support\n",
      "\n",
      "           0       1.00      0.97      0.98     11800\n",
      "           1       0.33      0.94      0.49       200\n",
      "\n",
      "    accuracy                           0.97     12000\n",
      "   macro avg       0.66      0.96      0.73     12000\n",
      "weighted avg       0.99      0.97      0.97     12000\n",
      "\n"
     ]
    }
   ],
   "source": [
    "y_pred_resampled = model_resampled.predict(X_test)\n",
    "print(\"Classification Report after applying SMOTE and SMOTEENN:\")\n",
    "print(classification_report(y_test, y_pred_resampled))"
   ]
  },
  {
   "cell_type": "markdown",
   "id": "9e9d9ac6-83a4-4bf4-a380-61de7c2ab806",
   "metadata": {},
   "source": [
    "---------------------------------------------------------------------------------------------------------------------------"
   ]
  },
  {
   "cell_type": "markdown",
   "id": "d7936500-252b-4d2b-a572-891720506a51",
   "metadata": {},
   "source": [
    "# Apply the trained model in the present data and evaluate its performance."
   ]
  },
  {
   "cell_type": "markdown",
   "id": "c3c9b8ff-c3f2-4a6c-88ad-98328458bc4b",
   "metadata": {},
   "source": [
    "## Prepare data for forecast: "
   ]
  },
  {
   "cell_type": "code",
   "execution_count": 43,
   "id": "18c750c8-8e6d-43b0-af69-137563b7ffce",
   "metadata": {},
   "outputs": [],
   "source": [
    "pres = 'C:\\\\Users\\\\PICHAU\\\\Downloads\\\\air_system_present_year.csv'"
   ]
  },
  {
   "cell_type": "code",
   "execution_count": 44,
   "id": "3ae2af48-be16-4d20-94ae-d98982927dd1",
   "metadata": {},
   "outputs": [],
   "source": [
    "present = pd.read_csv(pres, na_values='na')"
   ]
  },
  {
   "cell_type": "markdown",
   "id": "1ede3abb-6b94-4ac7-b65d-ca7c76e2956b",
   "metadata": {},
   "source": [
    "## Initial Data Exploration:"
   ]
  },
  {
   "cell_type": "code",
   "execution_count": 46,
   "id": "6fe9e49e-7e8d-4c0e-9a3e-16f27c644cd1",
   "metadata": {},
   "outputs": [
    {
     "name": "stdout",
     "output_type": "stream",
     "text": [
      "  class  aa_000  ab_000        ac_000  ad_000  ae_000  af_000  ag_000  ag_001  \\\n",
      "0   neg      60     0.0  2.000000e+01    12.0     0.0     0.0     0.0     0.0   \n",
      "1   neg      82     0.0  6.800000e+01    40.0     0.0     0.0     0.0     0.0   \n",
      "2   neg   66002     2.0  2.120000e+02   112.0     0.0     0.0     0.0     0.0   \n",
      "3   neg   59816     NaN  1.010000e+03   936.0     0.0     0.0     0.0     0.0   \n",
      "4   neg    1814     NaN  1.560000e+02   140.0     0.0     0.0     0.0     0.0   \n",
      "5   neg     174     NaN  2.600000e+01    24.0     0.0     0.0     NaN     NaN   \n",
      "6   neg   40202     NaN  6.400000e+02   606.0     0.0     0.0     0.0     0.0   \n",
      "7   neg  120278     NaN  2.130706e+09   256.0     0.0     0.0     0.0     0.0   \n",
      "8   neg   14592     0.0  2.130706e+09   162.0     0.0     0.0     0.0     0.0   \n",
      "9   neg   28338     NaN  2.130706e+09   238.0     0.0     0.0     0.0     0.0   \n",
      "\n",
      "   ag_002  ...     ee_002    ee_003    ee_004    ee_005     ee_006    ee_007  \\\n",
      "0     0.0  ...     1098.0     138.0     412.0     654.0       78.0      88.0   \n",
      "1     0.0  ...     1068.0     276.0    1620.0     116.0       86.0     462.0   \n",
      "2     0.0  ...   495076.0  380368.0  440134.0  269556.0  1315022.0  153680.0   \n",
      "3     0.0  ...   540820.0  243270.0  483302.0  485332.0   431376.0  210074.0   \n",
      "4     0.0  ...     7646.0    4144.0   18466.0   49782.0     3176.0     482.0   \n",
      "5     NaN  ...        NaN       NaN       NaN       NaN        NaN       NaN   \n",
      "6     0.0  ...   526218.0  239734.0  439556.0  374248.0   169096.0   53658.0   \n",
      "7     0.0  ...  1006722.0  459658.0  876356.0  689532.0   568540.0  500624.0   \n",
      "8     0.0  ...   105024.0   57398.0   49152.0   38256.0   243268.0  145144.0   \n",
      "9     0.0  ...   357006.0  150056.0  264776.0  239282.0   140548.0   74750.0   \n",
      "\n",
      "      ee_008   ee_009  ef_000  eg_000  \n",
      "0        0.0      0.0     0.0     0.0  \n",
      "1        0.0      0.0     0.0     0.0  \n",
      "2      516.0      0.0     0.0     0.0  \n",
      "3   281662.0   3232.0     0.0     0.0  \n",
      "4       76.0      0.0     0.0     0.0  \n",
      "5        NaN      NaN     0.0     0.0  \n",
      "6    41054.0    320.0     0.0     0.0  \n",
      "7  1006628.0  34820.0     0.0     0.0  \n",
      "8        0.0      0.0     0.0     0.0  \n",
      "9    32958.0     84.0     0.0     0.0  \n",
      "\n",
      "[10 rows x 171 columns]\n"
     ]
    }
   ],
   "source": [
    "print(present.head(10))"
   ]
  },
  {
   "cell_type": "code",
   "execution_count": 47,
   "id": "04856c40-002c-4fe2-bbeb-4aa4e5726367",
   "metadata": {},
   "outputs": [
    {
     "name": "stdout",
     "output_type": "stream",
     "text": [
      "<class 'pandas.core.frame.DataFrame'>\n",
      "RangeIndex: 16000 entries, 0 to 15999\n",
      "Columns: 171 entries, class to eg_000\n",
      "dtypes: float64(169), int64(1), object(1)\n",
      "memory usage: 20.9+ MB\n",
      "None\n"
     ]
    }
   ],
   "source": [
    "print(present.info())"
   ]
  },
  {
   "cell_type": "code",
   "execution_count": 48,
   "id": "22de54b4-80bd-48c3-a80d-22b01f8ff88b",
   "metadata": {},
   "outputs": [
    {
     "name": "stdout",
     "output_type": "stream",
     "text": [
      "             aa_000       ab_000        ac_000        ad_000        ae_000  \\\n",
      "count  1.600000e+04  3637.000000  1.507400e+04  12019.000000  15310.000000   \n",
      "mean   6.799698e+04     0.772065  3.580393e+08    439.498794      6.428347   \n",
      "std    5.035350e+05     2.589224  7.966968e+08   1551.328109    118.186469   \n",
      "min    0.000000e+00     0.000000  0.000000e+00      0.000000      0.000000   \n",
      "25%    9.280000e+02     0.000000  1.600000e+01     26.000000      0.000000   \n",
      "50%    3.098200e+04     0.000000  1.590000e+02    130.000000      0.000000   \n",
      "75%    4.947900e+04     0.000000  1.003500e+03    430.000000      0.000000   \n",
      "max    4.294967e+07    58.000000  2.130707e+09  87038.000000  11044.000000   \n",
      "\n",
      "             af_000         ag_000        ag_001        ag_002        ag_003  \\\n",
      "count  15310.000000   15811.000000  1.581100e+04  1.581100e+04  1.581100e+04   \n",
      "mean      10.195950     120.858516  2.064204e+03  1.379236e+04  1.126276e+05   \n",
      "std      167.260463    6454.660300  8.925778e+04  2.358405e+05  1.025843e+06   \n",
      "min        0.000000       0.000000  0.000000e+00  0.000000e+00  0.000000e+00   \n",
      "25%        0.000000       0.000000  0.000000e+00  0.000000e+00  0.000000e+00   \n",
      "50%        0.000000       0.000000  0.000000e+00  0.000000e+00  0.000000e+00   \n",
      "75%        0.000000       0.000000  0.000000e+00  0.000000e+00  0.000000e+00   \n",
      "max    14186.000000  736174.000000  1.047252e+07  1.914916e+07  7.305747e+07   \n",
      "\n",
      "       ...        ee_002        ee_003        ee_004        ee_005  \\\n",
      "count  ...  1.580800e+04  1.580800e+04  1.580800e+04  1.580800e+04   \n",
      "mean   ...  4.649135e+05  2.212010e+05  4.690886e+05  4.256696e+05   \n",
      "std    ...  1.255197e+06  5.828691e+05  1.267550e+06  1.259560e+06   \n",
      "min    ...  0.000000e+00  0.000000e+00  0.000000e+00  0.000000e+00   \n",
      "25%    ...  3.178000e+03  1.256000e+03  2.883500e+03  3.869500e+03   \n",
      "50%    ...  2.409860e+05  1.147800e+05  2.297080e+05  1.956510e+05   \n",
      "75%    ...  4.391320e+05  2.189510e+05  4.714860e+05  4.034105e+05   \n",
      "max    ...  5.382333e+07  2.207969e+07  4.859750e+07  5.604348e+07   \n",
      "\n",
      "             ee_006        ee_007        ee_008        ee_009        ef_000  \\\n",
      "count  1.580800e+04  1.580800e+04  1.580800e+04  1.580800e+04  15238.000000   \n",
      "mean   3.559239e+05  3.524014e+05  1.442759e+05  8.560355e+03      0.064969   \n",
      "std    1.199544e+06  1.628545e+06  5.368225e+05  5.329946e+04      3.374657   \n",
      "min    0.000000e+00  0.000000e+00  0.000000e+00  0.000000e+00      0.000000   \n",
      "25%    6.100000e+02  1.240000e+02  0.000000e+00  0.000000e+00      0.000000   \n",
      "50%    9.657000e+04  4.201300e+04  3.985000e+03  0.000000e+00      0.000000   \n",
      "75%    2.790355e+05  1.699100e+05  1.389310e+05  1.907000e+03      0.000000   \n",
      "max    4.215944e+07  4.747137e+07  1.718575e+07  4.570398e+06    340.000000   \n",
      "\n",
      "             eg_000  \n",
      "count  15238.000000  \n",
      "mean       0.242683  \n",
      "std       14.339059  \n",
      "min        0.000000  \n",
      "25%        0.000000  \n",
      "50%        0.000000  \n",
      "75%        0.000000  \n",
      "max     1720.000000  \n",
      "\n",
      "[8 rows x 170 columns]\n"
     ]
    }
   ],
   "source": [
    "# Descrever estatísticas descritivas dos dados\n",
    "print(present.describe())"
   ]
  },
  {
   "cell_type": "code",
   "execution_count": 49,
   "id": "0a34d151-1459-499f-8fea-f357f9aebe69",
   "metadata": {},
   "outputs": [
    {
     "name": "stdout",
     "output_type": "stream",
     "text": [
      "ab_000    12363\n",
      "ac_000      926\n",
      "ad_000     3981\n",
      "ae_000      690\n",
      "af_000      690\n",
      "          ...  \n",
      "ee_007      192\n",
      "ee_008      192\n",
      "ee_009      192\n",
      "ef_000      762\n",
      "eg_000      762\n",
      "Length: 169, dtype: int64\n"
     ]
    }
   ],
   "source": [
    "# Check missing values\n",
    "missing_values = present.isna().sum()\n",
    "print(missing_values[missing_values > 0])"
   ]
  },
  {
   "cell_type": "markdown",
   "id": "98cd8ce9-7b3c-473f-b3a2-0e809529587a",
   "metadata": {},
   "source": [
    "## Exploratory Analysis and Data Preparation:"
   ]
  },
  {
   "cell_type": "code",
   "execution_count": 51,
   "id": "3258fcbb-ba18-493e-989b-3de02ec7073e",
   "metadata": {},
   "outputs": [
    {
     "data": {
      "image/png": "[encoded data removed]",
      "text/plain": [
       "<Figure size 640x480 with 1 Axes>"
      ]
     },
     "metadata": {},
     "output_type": "display_data"
    },
    {
     "name": "stdout",
     "output_type": "stream",
     "text": [
      "ab_000    12363\n",
      "ac_000      926\n",
      "ad_000     3981\n",
      "ae_000      690\n",
      "af_000      690\n",
      "          ...  \n",
      "ee_007      192\n",
      "ee_008      192\n",
      "ee_009      192\n",
      "ef_000      762\n",
      "eg_000      762\n",
      "Length: 169, dtype: int64\n"
     ]
    }
   ],
   "source": [
    "sns.countplot(x='class', data=present)\n",
    "plt.title('class distribution')\n",
    "plt.show()\n",
    "\n",
    "missing_values = present.isna().sum()\n",
    "print(missing_values[missing_values > 0])"
   ]
  },
  {
   "cell_type": "code",
   "execution_count": 52,
   "id": "3b4953e6-9b17-43c8-9047-61fbc921b41a",
   "metadata": {},
   "outputs": [],
   "source": [
    "# Exclude non-numeric columns and fill with the mean\n",
    "numerical_cols = present.select_dtypes(include=['number']).columns\n",
    "present[numerical_cols] = present[numerical_cols].fillna(present[numerical_cols].mean())"
   ]
  },
  {
   "cell_type": "code",
   "execution_count": 53,
   "id": "a8377d34-7be9-4928-acca-8f81acb21b46",
   "metadata": {},
   "outputs": [
    {
     "name": "stdout",
     "output_type": "stream",
     "text": [
      "Series([], dtype: int64)\n"
     ]
    }
   ],
   "source": [
    "missing_values = present.isna().sum()\n",
    "print(missing_values[missing_values > 0])"
   ]
  },
  {
   "cell_type": "code",
   "execution_count": 54,
   "id": "242b8a78-96bb-4189-baee-2ec3d814c421",
   "metadata": {},
   "outputs": [
    {
     "name": "stdout",
     "output_type": "stream",
     "text": [
      "  class  aa_000    ab_000        ac_000  ad_000  ae_000  af_000      ag_000  \\\n",
      "0   neg      60  0.000000  2.000000e+01    12.0     0.0     0.0    0.000000   \n",
      "1   neg      82  0.000000  6.800000e+01    40.0     0.0     0.0    0.000000   \n",
      "2   neg   66002  2.000000  2.120000e+02   112.0     0.0     0.0    0.000000   \n",
      "3   neg   59816  0.772065  1.010000e+03   936.0     0.0     0.0    0.000000   \n",
      "4   neg    1814  0.772065  1.560000e+02   140.0     0.0     0.0    0.000000   \n",
      "5   neg     174  0.772065  2.600000e+01    24.0     0.0     0.0  120.858516   \n",
      "6   neg   40202  0.772065  6.400000e+02   606.0     0.0     0.0    0.000000   \n",
      "7   neg  120278  0.772065  2.130706e+09   256.0     0.0     0.0    0.000000   \n",
      "8   neg   14592  0.000000  2.130706e+09   162.0     0.0     0.0    0.000000   \n",
      "9   neg   28338  0.772065  2.130706e+09   238.0     0.0     0.0    0.000000   \n",
      "\n",
      "        ag_001        ag_002  ...        ee_002         ee_003         ee_004  \\\n",
      "0     0.000000      0.000000  ...  1.098000e+03     138.000000     412.000000   \n",
      "1     0.000000      0.000000  ...  1.068000e+03     276.000000    1620.000000   \n",
      "2     0.000000      0.000000  ...  4.950760e+05  380368.000000  440134.000000   \n",
      "3     0.000000      0.000000  ...  5.408200e+05  243270.000000  483302.000000   \n",
      "4     0.000000      0.000000  ...  7.646000e+03    4144.000000   18466.000000   \n",
      "5  2064.203656  13792.360509  ...  4.649135e+05  221200.962424  469088.572495   \n",
      "6     0.000000      0.000000  ...  5.262180e+05  239734.000000  439556.000000   \n",
      "7     0.000000      0.000000  ...  1.006722e+06  459658.000000  876356.000000   \n",
      "8     0.000000      0.000000  ...  1.050240e+05   57398.000000   49152.000000   \n",
      "9     0.000000      0.000000  ...  3.570060e+05  150056.000000  264776.000000   \n",
      "\n",
      "          ee_005        ee_006         ee_007        ee_008        ee_009  \\\n",
      "0     654.000000  7.800000e+01      88.000000  0.000000e+00      0.000000   \n",
      "1     116.000000  8.600000e+01     462.000000  0.000000e+00      0.000000   \n",
      "2  269556.000000  1.315022e+06  153680.000000  5.160000e+02      0.000000   \n",
      "3  485332.000000  4.313760e+05  210074.000000  2.816620e+05   3232.000000   \n",
      "4   49782.000000  3.176000e+03     482.000000  7.600000e+01      0.000000   \n",
      "5  425669.551746  3.559239e+05  352401.430668  1.442759e+05   8560.354884   \n",
      "6  374248.000000  1.690960e+05   53658.000000  4.105400e+04    320.000000   \n",
      "7  689532.000000  5.685400e+05  500624.000000  1.006628e+06  34820.000000   \n",
      "8   38256.000000  2.432680e+05  145144.000000  0.000000e+00      0.000000   \n",
      "9  239282.000000  1.405480e+05   74750.000000  3.295800e+04     84.000000   \n",
      "\n",
      "   ef_000  eg_000  \n",
      "0     0.0     0.0  \n",
      "1     0.0     0.0  \n",
      "2     0.0     0.0  \n",
      "3     0.0     0.0  \n",
      "4     0.0     0.0  \n",
      "5     0.0     0.0  \n",
      "6     0.0     0.0  \n",
      "7     0.0     0.0  \n",
      "8     0.0     0.0  \n",
      "9     0.0     0.0  \n",
      "\n",
      "[10 rows x 171 columns]\n"
     ]
    }
   ],
   "source": [
    "print(present.head(10))"
   ]
  },
  {
   "cell_type": "markdown",
   "id": "a4a86f00-5fa4-4542-9917-b782c91b4e59",
   "metadata": {},
   "source": [
    "### F TESTE of ANOVA"
   ]
  },
  {
   "cell_type": "markdown",
   "id": "c26247e9-51f1-47af-9797-16bfdedf10ca",
   "metadata": {},
   "source": [
    "#### Selection of Characteristics"
   ]
  },
  {
   "cell_type": "code",
   "execution_count": 57,
   "id": "cc2409f9-28f2-4d0b-a4d3-061e4e7230f3",
   "metadata": {},
   "outputs": [
    {
     "name": "stdout",
     "output_type": "stream",
     "text": [
      "Best features: Index(['ah_000', 'an_000', 'ao_000', 'bb_000', 'bg_000', 'bu_000', 'bv_000',\n",
      "       'by_000', 'ci_000', 'cq_000'],\n",
      "      dtype='object')\n"
     ]
    },
    {
     "name": "stderr",
     "output_type": "stream",
     "text": [
      "C:\\ProgramData\\anaconda3\\Lib\\site-packages\\sklearn\\feature_selection\\_univariate_selection.py:112: UserWarning: Features [89] are constant.\n",
      "  warnings.warn(\"Features %s are constant.\" % constant_features_idx, UserWarning)\n",
      "C:\\ProgramData\\anaconda3\\Lib\\site-packages\\sklearn\\feature_selection\\_univariate_selection.py:113: RuntimeWarning: invalid value encountered in divide\n",
      "  f = msb / msw\n"
     ]
    }
   ],
   "source": [
    "X = present.drop('class', axis=1)\n",
    "y = present['class'].apply(lambda x: 1 if x == 'pos' else 0)\n",
    "\n",
    "selector = SelectKBest(score_func=f_classif, k=10)\n",
    "X_new = selector.fit_transform(X, y)\n",
    "selected_features = X.columns[selector.get_support(indices=True)]\n",
    "print(\"Best features:\", selected_features)"
   ]
  },
  {
   "cell_type": "markdown",
   "id": "866b6364-1bbb-4b41-9884-e2a768d82ad4",
   "metadata": {},
   "source": [
    "<span style=\"color: red;\">Warning: The characteristic at index 89 is constant.</span>"
   ]
  },
  {
   "cell_type": "code",
   "execution_count": 59,
   "id": "5e082060-4261-4329-8997-6e82f24ac287",
   "metadata": {},
   "outputs": [
    {
     "name": "stdout",
     "output_type": "stream",
     "text": [
      "constant_characteristics: Index(['cd_000'], dtype='object')\n"
     ]
    }
   ],
   "source": [
    "# Identify constant characteristics\n",
    "constant = present.columns[present.nunique() == 1]\n",
    "print(\"constant_characteristics:\", constant)"
   ]
  },
  {
   "cell_type": "code",
   "execution_count": 60,
   "id": "5aa79c01-34b4-421c-83fe-8098ce565bd7",
   "metadata": {},
   "outputs": [],
   "source": [
    "# Remove constant characteristics\n",
    "present_without_constants = present.drop(columns=constant)"
   ]
  },
  {
   "cell_type": "code",
   "execution_count": 61,
   "id": "0b482811-583e-40be-9e34-4a03c799e71a",
   "metadata": {},
   "outputs": [
    {
     "name": "stdout",
     "output_type": "stream",
     "text": [
      "Number of columns after constant removal: 170\n"
     ]
    }
   ],
   "source": [
    "print(\"Number of columns after constant removal:\", len(present_without_constants.columns))"
   ]
  },
  {
   "cell_type": "code",
   "execution_count": 62,
   "id": "140810ec-d5bd-404d-801b-5edcf803dd98",
   "metadata": {},
   "outputs": [
    {
     "name": "stdout",
     "output_type": "stream",
     "text": [
      "  class  aa_000    ab_000  ac_000  ad_000  ae_000  af_000  ag_000  ag_001  \\\n",
      "0   neg      60  0.000000    20.0    12.0     0.0     0.0     0.0     0.0   \n",
      "1   neg      82  0.000000    68.0    40.0     0.0     0.0     0.0     0.0   \n",
      "2   neg   66002  2.000000   212.0   112.0     0.0     0.0     0.0     0.0   \n",
      "3   neg   59816  0.772065  1010.0   936.0     0.0     0.0     0.0     0.0   \n",
      "4   neg    1814  0.772065   156.0   140.0     0.0     0.0     0.0     0.0   \n",
      "\n",
      "   ag_002  ...    ee_002    ee_003    ee_004    ee_005     ee_006    ee_007  \\\n",
      "0     0.0  ...    1098.0     138.0     412.0     654.0       78.0      88.0   \n",
      "1     0.0  ...    1068.0     276.0    1620.0     116.0       86.0     462.0   \n",
      "2     0.0  ...  495076.0  380368.0  440134.0  269556.0  1315022.0  153680.0   \n",
      "3     0.0  ...  540820.0  243270.0  483302.0  485332.0   431376.0  210074.0   \n",
      "4     0.0  ...    7646.0    4144.0   18466.0   49782.0     3176.0     482.0   \n",
      "\n",
      "     ee_008  ee_009  ef_000  eg_000  \n",
      "0       0.0     0.0     0.0     0.0  \n",
      "1       0.0     0.0     0.0     0.0  \n",
      "2     516.0     0.0     0.0     0.0  \n",
      "3  281662.0  3232.0     0.0     0.0  \n",
      "4      76.0     0.0     0.0     0.0  \n",
      "\n",
      "[5 rows x 170 columns]\n"
     ]
    }
   ],
   "source": [
    "print(present_without_constants.head())"
   ]
  },
  {
   "cell_type": "code",
   "execution_count": 63,
   "id": "939d8fe1-8d14-4a4d-9f6c-2125462dd8d4",
   "metadata": {},
   "outputs": [
    {
     "name": "stdout",
     "output_type": "stream",
     "text": [
      "Best features: Index(['ah_000', 'an_000', 'ao_000', 'bb_000', 'bg_000', 'bu_000', 'bv_000',\n",
      "       'by_000', 'ci_000', 'cq_000'],\n",
      "      dtype='object')\n"
     ]
    }
   ],
   "source": [
    "X = present_without_constants.drop('class', axis=1)\n",
    "y = present_without_constants['class'].apply(lambda x: 1 if x == 'pos' else 0)\n",
    "\n",
    "selector = SelectKBest(score_func=f_classif, k=10)\n",
    "X_new = selector.fit_transform(X, y)\n",
    "selected_features = X.columns[selector.get_support(indices=True)]\n",
    "print(\"Best features:\", selected_features)"
   ]
  },
  {
   "cell_type": "markdown",
   "id": "ed81dfe1-4178-41e6-a082-7fbe96f78479",
   "metadata": {},
   "source": [
    "## Prediction :"
   ]
  },
  {
   "cell_type": "code",
   "execution_count": 65,
   "id": "8dc3a5e7-c010-4730-bae0-c40f1d5fd307",
   "metadata": {},
   "outputs": [
    {
     "name": "stdout",
     "output_type": "stream",
     "text": [
      "Present Data Classification Report after applying SMOTE and SMOTEENN:\n",
      "              precision    recall  f1-score   support\n",
      "\n",
      "           0       1.00      0.97      0.98     15625\n",
      "           1       0.43      0.94      0.59       375\n",
      "\n",
      "    accuracy                           0.97     16000\n",
      "   macro avg       0.71      0.95      0.79     16000\n",
      "weighted avg       0.99      0.97      0.97     16000\n",
      "\n"
     ]
    }
   ],
   "source": [
    "# Preparation of current set data\n",
    "X_present = present_without_constants.drop(columns=['class'])\n",
    "X_present = scaler.transform(X_present)\n",
    "X_present = pca.transform(X_present)\n",
    "y_true = present_without_constants['class'].apply(lambda x: 1 if x == 'pos' else 0)\n",
    "\n",
    "# prediction \n",
    "y_pred_present_resampled = model_resampled.predict(X_present)\n",
    "print(\"Present Data Classification Report after applying SMOTE and SMOTEENN:\")\n",
    "print(classification_report(y_true, y_pred_present_resampled))\n",
    "\n",
    "#y_pred = model.predict(X) \n",
    "\n",
    "#print(classification_report(y_true, y_pred))\n"
   ]
  },
  {
   "cell_type": "markdown",
   "id": "5ac9d01c-df23-4712-a922-127b64cf8819",
   "metadata": {},
   "source": [
    "-------------------------------------------------------------------------------------------------------------------------------------------------------------"
   ]
  },
  {
   "cell_type": "markdown",
   "id": "5236ac77-52ba-47b0-8dff-4ef8f76ada53",
   "metadata": {},
   "source": [
    "##                                                      Confusion Matrix"
   ]
  },
  {
   "cell_type": "code",
   "execution_count": 68,
   "id": "b885892e-69fb-46fb-95e9-93e756591b55",
   "metadata": {},
   "outputs": [
    {
     "data": {
      "image/png": "[encoded data removed]",
      "text/plain": [
       "<Figure size 800x600 with 1 Axes>"
      ]
     },
     "metadata": {},
     "output_type": "display_data"
    }
   ],
   "source": [
    "from sklearn.metrics import confusion_matrix\n",
    "#import seaborn as sns\n",
    "#import matplotlib.pyplot as plt\n",
    "\n",
    "cm = confusion_matrix(y_true, y_pred_present_resampled)\n",
    "\n",
    "tn, fp, fn, tp = cm.ravel()  # tn: true negative, fp: false positive, fn: false negative, tp: true positive\n",
    "\n",
    "plt.figure(figsize=(8, 6))\n",
    "sns.heatmap(cm, annot=True, fmt='d', cmap='Blues', cbar=False,\n",
    "            xticklabels=['neg', 'pos'], yticklabels=['neg', 'pos'])\n",
    "plt.xlabel('Previsto')\n",
    "plt.ylabel('Real')\n",
    "plt.title('Confusion Matrix')\n",
    "plt.show()"
   ]
  },
  {
   "cell_type": "markdown",
   "id": "362d4001-1b79-4f39-ae25-38bd3ccb2521",
   "metadata": {},
   "source": [
    "                                                              Confusion Matrix:\n",
    "                                                             \n",
    "                                                                       predicted\n",
    "                                                                        0   1\n",
    "                                                               True\n",
    "                                                               0        TN  FP\n",
    "                                                               1        FN  TP"
   ]
  },
  {
   "cell_type": "code",
   "execution_count": 70,
   "id": "00a751f7-8c7f-41c5-ad89-9ba1ab9d07c5",
   "metadata": {},
   "outputs": [
    {
     "name": "stdout",
     "output_type": "stream",
     "text": [
      "tn= 15155\n",
      "tp= 352\n",
      "fn= 23\n",
      "fp= 470\n"
     ]
    }
   ],
   "source": [
    "print(\"tn=\",tn);print(\"tp=\",tp);print(\"fn=\",fn);print(\"fp=\",fp)"
   ]
  },
  {
   "cell_type": "code",
   "execution_count": 71,
   "id": "8c3585f4-adf4-48b8-a4d3-06ad711d12db",
   "metadata": {},
   "outputs": [
    {
     "name": "stdout",
     "output_type": "stream",
     "text": [
      "support_zero= 15625\n",
      "support_uno= 375\n"
     ]
    }
   ],
   "source": [
    "\n",
    " # class 0 (N):\n",
    "# classification_report\n",
    "support_zero= tn + fp #(confusion_matrix)\n",
    "print(\"support_zero=\",support_zero)\n",
    "\n",
    " # class 1 (P):\n",
    "# classification_report\n",
    "support_uno= fn + tp #(confusion_matrix)\n",
    "print(\"support_uno=\",support_uno)\n"
   ]
  },
  {
   "cell_type": "code",
   "execution_count": 72,
   "id": "ef0265c3-4a15-4ba2-bb2c-00b2508cc726",
   "metadata": {},
   "outputs": [
    {
     "name": "stdout",
     "output_type": "stream",
     "text": [
      "Cost of inspection without defect : $ 4700\n",
      "Cost for Identified Defect: $ 8800\n",
      " Cost for Unidentified Defect: $ 11500\n",
      "Total_cost: $ 25000\n"
     ]
    }
   ],
   "source": [
    "# Cost of Inspection without Defect (FP):\n",
    "# Cost for each false positive = $10\n",
    "\n",
    "Inspection_without_defect = fp * 10\n",
    "\n",
    "print(\"Cost of inspection without defect : $\", Inspection_without_defect)\n",
    "\n",
    "# Preventive Maintenance Cost for Identified Defect (TP):\n",
    "# Cost for each true positive = $25\n",
    "\n",
    "Identified_Defect = tp * 25\n",
    "print(\"Cost for Identified Defect: $\", Identified_Defect)\n",
    "\n",
    "#Corrective Maintenance Cost for Unidentified Defect (FN):\n",
    "#Cost for each false negative = $500\n",
    "\n",
    "Unidentified_Defect = fn * 500\n",
    "print(\" Cost for Unidentified Defect: $\", Unidentified_Defect)\n",
    "\n",
    "#------------------------------------------------------------------------\n",
    "\n",
    "total_cost=Unidentified_Defect+Identified_Defect+Inspection_without_defect\n",
    "print(\"Total_cost: $\", total_cost)"
   ]
  },
  {
   "cell_type": "code",
   "execution_count": 73,
   "id": "6117513d-e486-4686-9826-915ed0789597",
   "metadata": {},
   "outputs": [
    {
     "data": {
      "image/png": "[encoded data removed]",
      "text/plain": [
       "<Figure size 1000x600 with 1 Axes>"
      ]
     },
     "metadata": {},
     "output_type": "display_data"
    }
   ],
   "source": [
    "import matplotlib.pyplot as plt\n",
    "\n",
    "\n",
    "categories = ['2016', '2017', '2018', '2019', '2020', '2022 AI planning']\n",
    "expenses = [24000, 26000, 28999, 32000, 37000]\n",
    "\n",
    "expenses.append(total_cost)\n",
    "\n",
    "\n",
    "plt.figure(figsize=(10, 6))\n",
    "plt.bar(categories, expenses, color=['blue']*5 + ['green'])\n",
    "\n",
    "\n",
    "plt.title('Comparison of Expenses of Maintenance')\n",
    "plt.xlabel('categories')\n",
    "plt.ylabel('expenses(in dollars)')\n",
    "\n",
    "\n",
    "for i, valor in enumerate(expenses):\n",
    "    plt.text(i, valor + 500, f'${valor}', ha='center', va='bottom')\n",
    "\n",
    "\n",
    "plt.grid(axis='y', linestyle='--', alpha=0.7)\n",
    "plt.tight_layout()\n",
    "plt.show()"
   ]
  },
  {
   "cell_type": "markdown",
   "id": "09325032-54f1-4c0a-9e2d-2d9a951204e6",
   "metadata": {},
   "source": [
    "### Critical Factors:\n",
    "#### WHAT SHOULD BE IMPROVED?"
   ]
  },
  {
   "cell_type": "code",
   "execution_count": 75,
   "id": "63d259b2-3ace-4ba2-8c4e-248057f91a5f",
   "metadata": {},
   "outputs": [
    {
     "data": {
      "image/png": "[encoded data removed]",
      "text/plain": [
       "<Figure size 640x480 with 1 Axes>"
      ]
     },
     "metadata": {},
     "output_type": "display_data"
    }
   ],
   "source": [
    "from sklearn.metrics import roc_curve, auc\n",
    "fpr, tpr, thresholds = roc_curve(y_true, y_pred_present_resampled)\n",
    "roc_auc = auc(fpr, tpr)\n",
    "plt.figure()\n",
    "lw = 2\n",
    "plt.plot(fpr, tpr, color='darkorange', lw=lw, label='ROC curve (area = %0.2f)' % roc_auc)\n",
    "plt.plot([0, 1], [0, 1], color='navy', lw=lw, linestyle='--')\n",
    "plt.xlim([0.0, 1.0])\n",
    "plt.ylim([0.0, 1.05])\n",
    "plt.xlabel('False Positive Rate')\n",
    "plt.ylabel('True Positive Rate')\n",
    "plt.title('Receiver Operating Characteristic')\n",
    "plt.legend(loc=\"lower right\")\n",
    "plt.show()"
   ]
  },
  {
   "cell_type": "code",
   "execution_count": 76,
   "id": "7369a27c-c4e4-476e-9021-02af06799756",
   "metadata": {},
   "outputs": [
    {
     "data": {
      "image/png": "[encoded data removed]",
      "text/plain": [
       "<Figure size 640x480 with 1 Axes>"
      ]
     },
     "metadata": {},
     "output_type": "display_data"
    }
   ],
   "source": [
    "fpr, tpr, thresholds = roc_curve(y_true, y_pred_present_resampled)\n",
    "fnr = 1 - tpr\n",
    "tnr = 1 - fpr\n",
    "roc_auc = auc(fnr, tnr)\n",
    "plt.figure()\n",
    "lw = 2\n",
    "plt.plot(fnr, tnr, color='darkorange', lw=lw, label='Curva ROC (área = %0.2f)' % roc_auc)\n",
    "plt.plot([0, 1], [0, 1], color='navy', lw=lw, linestyle='--')\n",
    "plt.xlim([0.0, 1.0])\n",
    "plt.ylim([0.0, 1.05])\n",
    "plt.xlabel('Taxa de Falsos Negativos')\n",
    "plt.ylabel('Taxa de Verdadeiros Negativos')\n",
    "plt.title('Receiver Operating Characteristic com Taxa de Falsos Negativos e Verdadeiros Negativos')\n",
    "plt.legend(loc=\"lower right\")\n",
    "plt.show()"
   ]
  },
  {
   "cell_type": "markdown",
   "id": "bc3d9884-d682-4cef-9ac8-7769ed7b482b",
   "metadata": {},
   "source": [
    "<span style=\"color: red;\">For reasons of costs mainly false negatives should be more accurately predicted:</span>"
   ]
  },
  {
   "cell_type": "raw",
   "id": "527bc3ae-a1e2-48c3-b205-3f1bd7f3d927",
   "metadata": {},
   "source": [
    " What would I do from now on?\n",
    "1- I would use techniques to perform model hyperparameter optimization;\n",
    "2- I would like to try other balancing techniques;\n",
    "3- I would compare \"RandomForest\" with other models."
   ]
  },
  {
   "cell_type": "markdown",
   "id": "ddf359f1-6306-4d4e-845a-79c1afc04570",
   "metadata": {},
   "source": [
    "##                                                         Business metric\r\n"
   ]
  },
  {
   "cell_type": "markdown",
   "id": "8f78acc6-4132-402c-8467-e915722602a9",
   "metadata": {},
   "source": [
    "  ###                                            1- Percentage of Reduction of Costs:\n",
    "  #####  (Compared to higher previous costs)"
   ]
  },
  {
   "cell_type": "code",
   "execution_count": 80,
   "id": "ce31abe3-ca5e-4bb4-bd81-926dc099c189",
   "metadata": {},
   "outputs": [],
   "source": [
    "higher_Previous_costs=37000\n",
    "Estimated_Costs=total_cost"
   ]
  },
  {
   "cell_type": "code",
   "execution_count": 81,
   "id": "b6714351-d24d-4088-94cf-d40bc53289c3",
   "metadata": {},
   "outputs": [],
   "source": [
    "Percentage_Reduction_Costs=((higher_Previous_costs-Estimated_Costs)/higher_Previous_costs)*100"
   ]
  },
  {
   "cell_type": "code",
   "execution_count": 82,
   "id": "6cff0035-4942-499d-947b-5147256bfab9",
   "metadata": {},
   "outputs": [
    {
     "name": "stdout",
     "output_type": "stream",
     "text": [
      " Percentage_Reduction_Costs: % 32.432432432432435\n"
     ]
    }
   ],
   "source": [
    "print(\" Percentage_Reduction_Costs: %\", Percentage_Reduction_Costs)"
   ]
  },
  {
   "cell_type": "markdown",
   "id": "c2c8aaca-be15-46e9-b7af-e9185e0fdd19",
   "metadata": {},
   "source": [
    " ###                                            2- Absolute Economy:"
   ]
  },
  {
   "cell_type": "code",
   "execution_count": 84,
   "id": "c4d503dd-5559-4bb9-a614-9707c703c20e",
   "metadata": {},
   "outputs": [
    {
     "name": "stdout",
     "output_type": "stream",
     "text": [
      " Absolute_Economy: $ 12000\n"
     ]
    }
   ],
   "source": [
    "Absolute_Economy=higher_Previous_costs-Estimated_Costs\n",
    "print(\" Absolute_Economy: $\", Absolute_Economy)"
   ]
  },
  {
   "cell_type": "code",
   "execution_count": null,
   "id": "7b00daad-d4ff-47f5-bc9a-bdf69fe407ef",
   "metadata": {},
   "outputs": [],
   "source": []
  },
  {
   "cell_type": "code",
   "execution_count": null,
   "id": "5cd4955f-ae3d-4de0-85c2-29489f57f4dd",
   "metadata": {},
   "outputs": [],
   "source": []
  },
  {
   "cell_type": "code",
   "execution_count": null,
   "id": "308dca5e-1baf-4d80-9787-23d720de7701",
   "metadata": {},
   "outputs": [],
   "source": []
  },
  {
   "cell_type": "code",
   "execution_count": null,
   "id": "6345fc2e-e1a6-44d6-a628-c4c7aa868600",
   "metadata": {},
   "outputs": [],
   "source": []
  },
  {
   "cell_type": "code",
   "execution_count": null,
   "id": "7dcb93ee-de7e-422d-978e-5818c0e0cc06",
   "metadata": {},
   "outputs": [],
   "source": []
  }
 ],
 "metadata": {
  "kernelspec": {
   "display_name": "Python 3 (ipykernel)",
   "language": "python",
   "name": "python3"
  },
  "language_info": {
   "codemirror_mode": {
    "name": "ipython",
    "version": 3
   },
   "file_extension": ".py",
   "mimetype": "text/x-python",
   "name": "python",
   "nbconvert_exporter": "python",
   "pygments_lexer": "ipython3",
   "version": "3.12.4"
  }
 },
 "nbformat": 4,
 "nbformat_minor": 5
}
