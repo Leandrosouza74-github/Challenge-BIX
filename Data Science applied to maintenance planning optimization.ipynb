{
 "cells": [
  {
   "cell_type": "markdown",
   "id": "7db34eb7-2565-47b0-b0c8-b0f3b9aa28d7",
   "metadata": {},
   "source": [
    "#                                                        Data Science applied to maintenance planning optimization"
"#                                                        Data Science applied to maintenance planning optimization"
   ]
  },
  {
   "cell_type": "code",
   "execution_count": 2,
   "id": "6c81ec7c-fab8-49a5-b56c-a01cec82f2e7",
   "metadata": {},
   "outputs": [],
   "source": [
    "import numpy as np\n",
    "import pandas as pd\n",
    "import matplotlib.pyplot as plt\n",
    "import seaborn as sns\n",
    "from sklearn.model_selection import train_test_split\n",
    "from sklearn.ensemble import RandomForestClassifier\n",
    "from sklearn.metrics import classification_report\n",
    "from sklearn.feature_selection import SelectKBest, f_classif\n",
    "from imblearn.over_sampling import SMOTE\n",
    "from sklearn.decomposition import PCA\n",
    "from sklearn.preprocessing import StandardScaler\n",
    "from sklearn.model_selection import train_test_split, GridSearchCV"
   ]
  },
  {
   "cell_type": "code",
   "execution_count": 3,
   "id": "29628d94-2d51-4291-930d-70b85a0b2931",
   "metadata": {},
   "outputs": [],
   "source": [
    "prev='C:\\\\Users\\\\PICHAU\\\\Downloads\\\\air_system_previous_years.csv'"
   ]
  },
  {
   "cell_type": "code",
   "execution_count": 4,
   "id": "f626f533-ea06-4cf8-8496-b17900c7d86e",
   "metadata": {},
   "outputs": [],
   "source": [
    "previous = pd.read_csv(prev, na_values='na')"
   ]
  },
  {
   "cell_type": "markdown",
   "id": "35119cf4-26d2-45d4-8025-e6d2fe5ae762",
   "metadata": {},
   "source": [
    "## Initial Data Exploration:"
   ]
  },
  {
   "cell_type": "code",
   "execution_count": 6,
   "id": "5e7f029a-7b8e-4c84-bd0a-ce1cf44c884c",
   "metadata": {},
   "outputs": [
    {
     "name": "stdout",
     "output_type": "stream",
     "text": [
      "  class  aa_000  ab_000        ac_000  ad_000  ae_000  af_000  ag_000  ag_001  \\\n",
      "0   neg   76698     NaN  2.130706e+09   280.0     0.0     0.0     0.0     0.0   \n",
      "1   neg   33058     NaN  0.000000e+00     NaN     0.0     0.0     0.0     0.0   \n",
      "2   neg   41040     NaN  2.280000e+02   100.0     0.0     0.0     0.0     0.0   \n",
      "3   neg      12     0.0  7.000000e+01    66.0     0.0    10.0     0.0     0.0   \n",
      "4   neg   60874     NaN  1.368000e+03   458.0     0.0     0.0     0.0     0.0   \n",
      "5   neg   38312     NaN  2.130706e+09   218.0     0.0     0.0     0.0     0.0   \n",
      "6   neg      14     0.0  6.000000e+00     NaN     0.0     0.0     0.0     0.0   \n",
      "7   neg  102960     NaN  2.130706e+09   116.0     0.0     0.0     0.0     0.0   \n",
      "8   neg   78696     NaN  0.000000e+00     NaN     0.0     0.0     0.0     0.0   \n",
      "9   pos  153204     0.0  1.820000e+02     NaN     0.0     0.0     0.0     0.0   \n",
      "\n",
      "   ag_002  ...     ee_002    ee_003     ee_004     ee_005     ee_006  \\\n",
      "0     0.0  ...  1240520.0  493384.0   721044.0   469792.0   339156.0   \n",
      "1     0.0  ...   421400.0  178064.0   293306.0   245416.0   133654.0   \n",
      "2     0.0  ...   277378.0  159812.0   423992.0   409564.0   320746.0   \n",
      "3     0.0  ...      240.0      46.0       58.0       44.0       10.0   \n",
      "4     0.0  ...   622012.0  229790.0   405298.0   347188.0   286954.0   \n",
      "5     0.0  ...   388574.0  288278.0   900430.0   300412.0     1534.0   \n",
      "6     0.0  ...      168.0      48.0       60.0       28.0        0.0   \n",
      "7     0.0  ...   715518.0  384948.0   915978.0  1052166.0  1108672.0   \n",
      "8     0.0  ...   699290.0  362510.0  1190028.0  1012704.0   160090.0   \n",
      "9     0.0  ...   129862.0   26872.0    34044.0    22472.0    34362.0   \n",
      "\n",
      "     ee_007    ee_008  ee_009  ef_000  eg_000  \n",
      "0  157956.0   73224.0     0.0     0.0     0.0  \n",
      "1   81140.0   97576.0  1500.0     0.0     0.0  \n",
      "2  158022.0   95128.0   514.0     0.0     0.0  \n",
      "3       0.0       0.0     0.0     4.0    32.0  \n",
      "4  311560.0  433954.0  1218.0     0.0     0.0  \n",
      "5     338.0     856.0     0.0     0.0     0.0  \n",
      "6       0.0       0.0     0.0     0.0     0.0  \n",
      "7  341532.0  129504.0  7832.0     0.0     0.0  \n",
      "8   63216.0   41202.0     4.0     0.0     0.0  \n",
      "9       0.0       0.0     0.0     0.0     0.0  \n",
      "\n",
      "[10 rows x 171 columns]\n"
     ]
    }
   ],
   "source": [
    "print(previous.head(10))"
   ]
  },
  {
   "cell_type": "code",
   "execution_count": 7,
   "id": "3ac43e94-49fc-4dfe-95a9-bf8e7fecd18c",
   "metadata": {},
   "outputs": [
    {
     "name": "stdout",
     "output_type": "stream",
     "text": [
      "<class 'pandas.core.frame.DataFrame'>\n",
      "RangeIndex: 60000 entries, 0 to 59999\n",
      "Columns: 171 entries, class to eg_000\n",
      "dtypes: float64(169), int64(1), object(1)\n",
      "memory usage: 78.3+ MB\n",
      "None\n"
     ]
    }
   ],
   "source": [
    "print(previous.info())"
   ]
  },
  {
   "cell_type": "code",
   "execution_count": 8,
   "id": "430f9420-f471-43a8-a1c1-7da78ff2b306",
   "metadata": {},
   "outputs": [
    {
     "name": "stdout",
     "output_type": "stream",
     "text": [
      "             aa_000        ab_000        ac_000        ad_000        ae_000  \\\n",
      "count  6.000000e+04  13671.000000  5.666500e+04  4.513900e+04  57500.000000   \n",
      "mean   5.933650e+04      0.713189  3.560143e+08  1.906206e+05      6.819130   \n",
      "std    1.454301e+05      3.478962  7.948749e+08  4.040441e+07    161.543373   \n",
      "min    0.000000e+00      0.000000  0.000000e+00  0.000000e+00      0.000000   \n",
      "25%    8.340000e+02      0.000000  1.600000e+01  2.400000e+01      0.000000   \n",
      "50%    3.077600e+04      0.000000  1.520000e+02  1.260000e+02      0.000000   \n",
      "75%    4.866800e+04      0.000000  9.640000e+02  4.300000e+02      0.000000   \n",
      "max    2.746564e+06    204.000000  2.130707e+09  8.584298e+09  21050.000000   \n",
      "\n",
      "             af_000        ag_000        ag_001        ag_002        ag_003  \\\n",
      "count  57500.000000  5.932900e+04  5.932900e+04  5.932900e+04  5.932900e+04   \n",
      "mean      11.006817  2.216364e+02  9.757223e+02  8.606015e+03  8.859128e+04   \n",
      "std      209.792592  2.047846e+04  3.420053e+04  1.503220e+05  7.617312e+05   \n",
      "min        0.000000  0.000000e+00  0.000000e+00  0.000000e+00  0.000000e+00   \n",
      "25%        0.000000  0.000000e+00  0.000000e+00  0.000000e+00  0.000000e+00   \n",
      "50%        0.000000  0.000000e+00  0.000000e+00  0.000000e+00  0.000000e+00   \n",
      "75%        0.000000  0.000000e+00  0.000000e+00  0.000000e+00  0.000000e+00   \n",
      "max    20070.000000  3.376892e+06  4.109372e+06  1.055286e+07  6.340207e+07   \n",
      "\n",
      "       ...        ee_002        ee_003        ee_004        ee_005  \\\n",
      "count  ...  5.932900e+04  5.932900e+04  5.932900e+04  5.932900e+04   \n",
      "mean   ...  4.454897e+05  2.111264e+05  4.457343e+05  3.939462e+05   \n",
      "std    ...  1.155540e+06  5.433188e+05  1.168314e+06  1.121044e+06   \n",
      "min    ...  0.000000e+00  0.000000e+00  0.000000e+00  0.000000e+00   \n",
      "25%    ...  2.936000e+03  1.166000e+03  2.700000e+03  3.584000e+03   \n",
      "50%    ...  2.337960e+05  1.120860e+05  2.215180e+05  1.899880e+05   \n",
      "75%    ...  4.383960e+05  2.182320e+05  4.666140e+05  4.032220e+05   \n",
      "max    ...  7.793393e+07  3.775839e+07  9.715238e+07  5.743524e+07   \n",
      "\n",
      "             ee_006        ee_007        ee_008        ee_009        ef_000  \\\n",
      "count  5.932900e+04  5.932900e+04  5.932900e+04  5.932900e+04  57276.000000   \n",
      "mean   3.330582e+05  3.462714e+05  1.387300e+05  8.388915e+03      0.090579   \n",
      "std    1.069160e+06  1.728056e+06  4.495100e+05  4.747043e+04      4.368855   \n",
      "min    0.000000e+00  0.000000e+00  0.000000e+00  0.000000e+00      0.000000   \n",
      "25%    5.120000e+02  1.100000e+02  0.000000e+00  0.000000e+00      0.000000   \n",
      "50%    9.243200e+04  4.109800e+04  3.812000e+03  0.000000e+00      0.000000   \n",
      "75%    2.750940e+05  1.678140e+05  1.397240e+05  2.028000e+03      0.000000   \n",
      "max    3.160781e+07  1.195801e+08  1.926740e+07  3.810078e+06    482.000000   \n",
      "\n",
      "             eg_000  \n",
      "count  57277.000000  \n",
      "mean       0.212756  \n",
      "std        8.830641  \n",
      "min        0.000000  \n",
      "25%        0.000000  \n",
      "50%        0.000000  \n",
      "75%        0.000000  \n",
      "max     1146.000000  \n",
      "\n",
      "[8 rows x 170 columns]\n"
     ]
    }
   ],
   "source": [
    "print(previous.describe())"
   ]
  },
  {
   "cell_type": "code",
   "execution_count": 9,
   "id": "8c34c780-2de3-469e-ab0b-5f9d226cc50a",
   "metadata": {},
   "outputs": [
    {
     "name": "stdout",
     "output_type": "stream",
     "text": [
      "ab_000    46329\n",
      "ac_000     3335\n",
      "ad_000    14861\n",
      "ae_000     2500\n",
      "af_000     2500\n",
      "          ...  \n",
      "ee_007      671\n",
      "ee_008      671\n",
      "ee_009      671\n",
      "ef_000     2724\n",
      "eg_000     2723\n",
      "Length: 169, dtype: int64\n"
     ]
    }
   ],
   "source": [
    "missing_values = previous.isna().sum()\n",
    "print(missing_values[missing_values > 0])"
   ]
  },
  {
   "cell_type": "code",
   "execution_count": 10,
   "id": "9e532b86-a2d1-4145-ad20-34b63c71d12e",
   "metadata": {},
   "outputs": [
    {
     "data": {
      "image/png": "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",
      "text/plain": [
       "<Figure size 640x480 with 1 Axes>"
      ]
     },
     "metadata": {},
     "output_type": "display_data"
    },
    {
     "name": "stdout",
     "output_type": "stream",
     "text": [
      "ab_000    46329\n",
      "ac_000     3335\n",
      "ad_000    14861\n",
      "ae_000     2500\n",
      "af_000     2500\n",
      "          ...  \n",
      "ee_007      671\n",
      "ee_008      671\n",
      "ee_009      671\n",
      "ef_000     2724\n",
      "eg_000     2723\n",
      "Length: 169, dtype: int64\n"
     ]
    }
   ],
   "source": [
    "sns.countplot(x='class', data=previous)\n",
    "plt.title('class distribution')\n",
    "plt.show()\n",
    "\n",
    "missing_values = previous.isna().sum()\n",
    "print(missing_values[missing_values > 0])"
   ]
  },
  {
   "cell_type": "code",
   "execution_count": 11,
   "id": "c2cb74b8-42fa-49b2-82e3-b1f58c814383",
   "metadata": {},
   "outputs": [],
   "source": [
    "numerical_cols = previous.select_dtypes(include=['number']).columns\n",
    "previous[numerical_cols] = previous[numerical_cols].fillna(previous[numerical_cols].mean())\n"
   ]
  },
  {
   "cell_type": "code",
   "execution_count": 12,
   "id": "d9a5ceef-8ec4-4a85-82c4-efadd36cde25",
   "metadata": {},
   "outputs": [
    {
     "name": "stdout",
     "output_type": "stream",
     "text": [
      "Series([], dtype: int64)\n"
     ]
    }
   ],
   "source": [
    "missing_values = previous.isna().sum()\n",
    "print(missing_values[missing_values > 0])"
   ]
  },
  {
   "cell_type": "code",
   "execution_count": 13,
   "id": "15cb782b-3200-4f49-8f9b-177dd1b998a3",
   "metadata": {},
   "outputs": [
    {
     "name": "stdout",
     "output_type": "stream",
     "text": [
      "  class  aa_000    ab_000        ac_000         ad_000  ae_000  af_000  \\\n",
      "0   neg   76698  0.713189  2.130706e+09     280.000000     0.0     0.0   \n",
      "1   neg   33058  0.713189  0.000000e+00  190620.639314     0.0     0.0   \n",
      "2   neg   41040  0.713189  2.280000e+02     100.000000     0.0     0.0   \n",
      "3   neg      12  0.000000  7.000000e+01      66.000000     0.0    10.0   \n",
      "4   neg   60874  0.713189  1.368000e+03     458.000000     0.0     0.0   \n",
      "5   neg   38312  0.713189  2.130706e+09     218.000000     0.0     0.0   \n",
      "6   neg      14  0.000000  6.000000e+00  190620.639314     0.0     0.0   \n",
      "7   neg  102960  0.713189  2.130706e+09     116.000000     0.0     0.0   \n",
      "8   neg   78696  0.713189  0.000000e+00  190620.639314     0.0     0.0   \n",
      "9   pos  153204  0.000000  1.820000e+02  190620.639314     0.0     0.0   \n",
      "\n",
      "   ag_000  ag_001  ag_002  ...     ee_002    ee_003     ee_004     ee_005  \\\n",
      "0     0.0     0.0     0.0  ...  1240520.0  493384.0   721044.0   469792.0   \n",
      "1     0.0     0.0     0.0  ...   421400.0  178064.0   293306.0   245416.0   \n",
      "2     0.0     0.0     0.0  ...   277378.0  159812.0   423992.0   409564.0   \n",
      "3     0.0     0.0     0.0  ...      240.0      46.0       58.0       44.0   \n",
      "4     0.0     0.0     0.0  ...   622012.0  229790.0   405298.0   347188.0   \n",
      "5     0.0     0.0     0.0  ...   388574.0  288278.0   900430.0   300412.0   \n",
      "6     0.0     0.0     0.0  ...      168.0      48.0       60.0       28.0   \n",
      "7     0.0     0.0     0.0  ...   715518.0  384948.0   915978.0  1052166.0   \n",
      "8     0.0     0.0     0.0  ...   699290.0  362510.0  1190028.0  1012704.0   \n",
      "9     0.0     0.0     0.0  ...   129862.0   26872.0    34044.0    22472.0   \n",
      "\n",
      "      ee_006    ee_007    ee_008  ee_009  ef_000  eg_000  \n",
      "0   339156.0  157956.0   73224.0     0.0     0.0     0.0  \n",
      "1   133654.0   81140.0   97576.0  1500.0     0.0     0.0  \n",
      "2   320746.0  158022.0   95128.0   514.0     0.0     0.0  \n",
      "3       10.0       0.0       0.0     0.0     4.0    32.0  \n",
      "4   286954.0  311560.0  433954.0  1218.0     0.0     0.0  \n",
      "5     1534.0     338.0     856.0     0.0     0.0     0.0  \n",
      "6        0.0       0.0       0.0     0.0     0.0     0.0  \n",
      "7  1108672.0  341532.0  129504.0  7832.0     0.0     0.0  \n",
      "8   160090.0   63216.0   41202.0     4.0     0.0     0.0  \n",
      "9    34362.0       0.0       0.0     0.0     0.0     0.0  \n",
      "\n",
      "[10 rows x 171 columns]\n"
     ]
    }
   ],
   "source": [
    "print(previous.head(10))"
   ]
  },
  {
   "cell_type": "markdown",
   "id": "2cb3d81a-99ea-47aa-b416-93c4d07e760e",
   "metadata": {},
   "source": [
    "### F TESTE of ANOVA"
   ]
  },
  {
   "cell_type": "markdown",
   "id": "450a28bb-aa52-449b-8dbe-f6577689ee7f",
   "metadata": {},
   "source": [
    "#### Selection of Characteristics"
   ]
  },
  {
   "cell_type": "code",
   "execution_count": 16,
   "id": "f3473a6e-5286-4663-8e60-56a51d954b1e",
   "metadata": {},
   "outputs": [
    {
     "name": "stdout",
     "output_type": "stream",
     "text": [
      "Best features: Index(['aa_000', 'ah_000', 'aq_000', 'bb_000', 'bj_000', 'bt_000', 'bu_000',\n",
      "       'bv_000', 'ci_000', 'cq_000'],\n",
      "      dtype='object')\n"
     ]
    },
    {
     "name": "stderr",
     "output_type": "stream",
     "text": [
      "C:\\ProgramData\\anaconda3\\Lib\\site-packages\\sklearn\\feature_selection\\_univariate_selection.py:112: UserWarning: Features [89] are constant.\n",
      "  warnings.warn(\"Features %s are constant.\" % constant_features_idx, UserWarning)\n",
      "C:\\ProgramData\\anaconda3\\Lib\\site-packages\\sklearn\\feature_selection\\_univariate_selection.py:113: RuntimeWarning: invalid value encountered in divide\n",
      "  f = msb / msw\n"
     ]
    }
   ],
   "source": [
    "X = previous.drop('class', axis=1)\n",
    "y = previous['class'].apply(lambda x: 1 if x == 'pos' else 0)\n",
    "\n",
    "selector = SelectKBest(score_func=f_classif, k=10)\n",
    "X_new = selector.fit_transform(X, y)\n",
    "selected_features = X.columns[selector.get_support(indices=True)]\n",
    "print(\"Best features:\", selected_features)"
   ]
  },
  {
   "cell_type": "markdown",
   "id": "d748b9e8-8fd1-4dcf-8379-0855c632e13f",
   "metadata": {},
   "source": [
    "<span style=\"color: red;\">Warning: The characteristic at index 89 is constant.</span>"
   ]
  },
  {
   "cell_type": "code",
   "execution_count": 18,
   "id": "3f8fd2a8-2f18-4860-ae68-a1df0b3dce57",
   "metadata": {},
   "outputs": [
    {
     "name": "stdout",
     "output_type": "stream",
     "text": [
      "constant characteristics: Index(['cd_000'], dtype='object')\n"
     ]
    }
   ],
   "source": [
    "# Identify constant characteristics\n",
    "constant = previous.columns[previous.nunique() == 1]\n",
    "print(\"constant characteristics:\", constant)"
   ]
  },
  {
   "cell_type": "code",
   "execution_count": 19,
   "id": "b568b8a0-c7e9-4438-bd68-b9070efc21d6",
   "metadata": {},
   "outputs": [],
   "source": [
    "# Remove constant characteristics\n",
    "previous_without_constants = previous.drop(columns=constant)"
   ]
  },
  {
   "cell_type": "code",
   "execution_count": 20,
   "id": "09fcdf75-124b-4d8a-b884-8c5dd0a03fe4",
   "metadata": {},
   "outputs": [
    {
     "name": "stdout",
     "output_type": "stream",
     "text": [
      "  class  aa_000    ab_000        ac_000         ad_000  ae_000  af_000  \\\n",
      "0   neg   76698  0.713189  2.130706e+09     280.000000     0.0     0.0   \n",
      "1   neg   33058  0.713189  0.000000e+00  190620.639314     0.0     0.0   \n",
      "2   neg   41040  0.713189  2.280000e+02     100.000000     0.0     0.0   \n",
      "3   neg      12  0.000000  7.000000e+01      66.000000     0.0    10.0   \n",
      "4   neg   60874  0.713189  1.368000e+03     458.000000     0.0     0.0   \n",
      "5   neg   38312  0.713189  2.130706e+09     218.000000     0.0     0.0   \n",
      "6   neg      14  0.000000  6.000000e+00  190620.639314     0.0     0.0   \n",
      "7   neg  102960  0.713189  2.130706e+09     116.000000     0.0     0.0   \n",
      "8   neg   78696  0.713189  0.000000e+00  190620.639314     0.0     0.0   \n",
      "9   pos  153204  0.000000  1.820000e+02  190620.639314     0.0     0.0   \n",
      "\n",
      "   ag_000  ag_001  ag_002  ...     ee_002    ee_003     ee_004     ee_005  \\\n",
      "0     0.0     0.0     0.0  ...  1240520.0  493384.0   721044.0   469792.0   \n",
      "1     0.0     0.0     0.0  ...   421400.0  178064.0   293306.0   245416.0   \n",
      "2     0.0     0.0     0.0  ...   277378.0  159812.0   423992.0   409564.0   \n",
      "3     0.0     0.0     0.0  ...      240.0      46.0       58.0       44.0   \n",
      "4     0.0     0.0     0.0  ...   622012.0  229790.0   405298.0   347188.0   \n",
      "5     0.0     0.0     0.0  ...   388574.0  288278.0   900430.0   300412.0   \n",
      "6     0.0     0.0     0.0  ...      168.0      48.0       60.0       28.0   \n",
      "7     0.0     0.0     0.0  ...   715518.0  384948.0   915978.0  1052166.0   \n",
      "8     0.0     0.0     0.0  ...   699290.0  362510.0  1190028.0  1012704.0   \n",
      "9     0.0     0.0     0.0  ...   129862.0   26872.0    34044.0    22472.0   \n",
      "\n",
      "      ee_006    ee_007    ee_008  ee_009  ef_000  eg_000  \n",
      "0   339156.0  157956.0   73224.0     0.0     0.0     0.0  \n",
      "1   133654.0   81140.0   97576.0  1500.0     0.0     0.0  \n",
      "2   320746.0  158022.0   95128.0   514.0     0.0     0.0  \n",
      "3       10.0       0.0       0.0     0.0     4.0    32.0  \n",
      "4   286954.0  311560.0  433954.0  1218.0     0.0     0.0  \n",
      "5     1534.0     338.0     856.0     0.0     0.0     0.0  \n",
      "6        0.0       0.0       0.0     0.0     0.0     0.0  \n",
      "7  1108672.0  341532.0  129504.0  7832.0     0.0     0.0  \n",
      "8   160090.0   63216.0   41202.0     4.0     0.0     0.0  \n",
      "9    34362.0       0.0       0.0     0.0     0.0     0.0  \n",
      "\n",
      "[10 rows x 170 columns]\n"
     ]
    }
   ],
   "source": [
    "print(previous_without_constants.head(10))"
   ]
  },
  {
   "cell_type": "code",
   "execution_count": 21,
   "id": "cc9815d5-6df2-4759-812e-a09ebdd06506",
   "metadata": {},
   "outputs": [
    {
     "name": "stdout",
     "output_type": "stream",
     "text": [
      "Best features: Index(['aa_000', 'ah_000', 'aq_000', 'bb_000', 'bj_000', 'bt_000', 'bu_000',\n",
      "       'bv_000', 'ci_000', 'cq_000'],\n",
      "      dtype='object')\n"
     ]
    }
   ],
   "source": [
    "X = previous_without_constants.drop('class', axis=1)\n",
    "y = previous_without_constants['class'].apply(lambda x: 1 if x == 'pos' else 0)\n",
    "\n",
    "selector = SelectKBest(score_func=f_classif, k=10)\n",
    "X_new = selector.fit_transform(X, y)\n",
    "selected_features = X.columns[selector.get_support(indices=True)]\n",
    "print(\"Best features:\", selected_features)"
   ]
  },
  {
   "cell_type": "markdown",
   "id": "ee027beb-9003-45a6-8491-c83ce170c4e3",
   "metadata": {},
   "source": [
    "------------------------------------------------------------------------------------------------------------------------------------------------------"
   ]
  },
  {
   "cell_type": "code",
   "execution_count": 23,
   "id": "a0b02c7a-e74b-4592-9e1f-93d66600a7e3",
   "metadata": {},
   "outputs": [],
   "source": [
    "# Preparing the data\n",
    "X = previous_without_constants.drop(columns=['class'])  # Remover a coluna 'class' de X\n",
    "y = previous_without_constants['class'].apply(lambda x: 1 if x == 'pos' else 0)  # Variável target"
   ]
  },
  {
   "cell_type": "code",
   "execution_count": 24,
   "id": "92e7feed-bd89-4f3a-89ed-59a3c4ffff7b",
   "metadata": {},
   "outputs": [],
   "source": [
    "# Division of data in training and testing\n",
    "X_train, X_test, y_train, y_test = train_test_split(X, y, test_size=0.2, random_state=42, stratify=y)"
   ]
  },
  {
   "cell_type": "code",
   "execution_count": 25,
   "id": "54550723-11dc-4612-af1f-0b0677276018",
   "metadata": {},
   "outputs": [
    {
     "data": {
      "text/html": [
       "<style>#sk-container-id-1 {\n",
       "  /* Definition of color scheme common for light and dark mode */\n",
       "  --sklearn-color-text: black;\n",
       "  --sklearn-color-line: gray;\n",
       "  /* Definition of color scheme for unfitted estimators */\n",
       "  --sklearn-color-unfitted-level-0: #fff5e6;\n",
       "  --sklearn-color-unfitted-level-1: #f6e4d2;\n",
       "  --sklearn-color-unfitted-level-2: #ffe0b3;\n",
       "  --sklearn-color-unfitted-level-3: chocolate;\n",
       "  /* Definition of color scheme for fitted estimators */\n",
       "  --sklearn-color-fitted-level-0: #f0f8ff;\n",
       "  --sklearn-color-fitted-level-1: #d4ebff;\n",
       "  --sklearn-color-fitted-level-2: #b3dbfd;\n",
       "  --sklearn-color-fitted-level-3: cornflowerblue;\n",
       "\n",
       "  /* Specific color for light theme */\n",
       "  --sklearn-color-text-on-default-background: var(--sg-text-color, var(--theme-code-foreground, var(--jp-content-font-color1, black)));\n",
       "  --sklearn-color-background: var(--sg-background-color, var(--theme-background, var(--jp-layout-color0, white)));\n",
       "  --sklearn-color-border-box: var(--sg-text-color, var(--theme-code-foreground, var(--jp-content-font-color1, black)));\n",
       "  --sklearn-color-icon: #696969;\n",
       "\n",
       "  @media (prefers-color-scheme: dark) {\n",
       "    /* Redefinition of color scheme for dark theme */\n",
       "    --sklearn-color-text-on-default-background: var(--sg-text-color, var(--theme-code-foreground, var(--jp-content-font-color1, white)));\n",
       "    --sklearn-color-background: var(--sg-background-color, var(--theme-background, var(--jp-layout-color0, #111)));\n",
       "    --sklearn-color-border-box: var(--sg-text-color, var(--theme-code-foreground, var(--jp-content-font-color1, white)));\n",
       "    --sklearn-color-icon: #878787;\n",
       "  }\n",
       "}\n",
       "\n",
       "#sk-container-id-1 {\n",
       "  color: var(--sklearn-color-text);\n",
       "}\n",
       "\n",
       "#sk-container-id-1 pre {\n",
       "  padding: 0;\n",
       "}\n",
       "\n",
       "#sk-container-id-1 input.sk-hidden--visually {\n",
       "  border: 0;\n",
       "  clip: rect(1px 1px 1px 1px);\n",
       "  clip: rect(1px, 1px, 1px, 1px);\n",
       "  height: 1px;\n",
       "  margin: -1px;\n",
       "  overflow: hidden;\n",
       "  padding: 0;\n",
       "  position: absolute;\n",
       "  width: 1px;\n",
       "}\n",
       "\n",
       "#sk-container-id-1 div.sk-dashed-wrapped {\n",
       "  border: 1px dashed var(--sklearn-color-line);\n",
       "  margin: 0 0.4em 0.5em 0.4em;\n",
       "  box-sizing: border-box;\n",
       "  padding-bottom: 0.4em;\n",
       "  background-color: var(--sklearn-color-background);\n",
       "}\n",
       "\n",
       "#sk-container-id-1 div.sk-container {\n",
       "  /* jupyter's `normalize.less` sets `[hidden] { display: none; }`\n",
       "     but bootstrap.min.css set `[hidden] { display: none !important; }`\n",
       "     so we also need the `!important` here to be able to override the\n",
       "     default hidden behavior on the sphinx rendered scikit-learn.org.\n",
       "     See: https://github.com/scikit-learn/scikit-learn/issues/21755 */\n",
       "  display: inline-block !important;\n",
       "  position: relative;\n",
       "}\n",
       "\n",
       "#sk-container-id-1 div.sk-text-repr-fallback {\n",
       "  display: none;\n",
       "}\n",
       "\n",
       "div.sk-parallel-item,\n",
       "div.sk-serial,\n",
       "div.sk-item {\n",
       "  /* draw centered vertical line to link estimators */\n",
       "  background-image: linear-gradient(var(--sklearn-color-text-on-default-background), var(--sklearn-color-text-on-default-background));\n",
       "  background-size: 2px 100%;\n",
       "  background-repeat: no-repeat;\n",
       "  background-position: center center;\n",
       "}\n",
       "\n",
       "/* Parallel-specific style estimator block */\n",
       "\n",
       "#sk-container-id-1 div.sk-parallel-item::after {\n",
       "  content: \"\";\n",
       "  width: 100%;\n",
       "  border-bottom: 2px solid var(--sklearn-color-text-on-default-background);\n",
       "  flex-grow: 1;\n",
       "}\n",
       "\n",
       "#sk-container-id-1 div.sk-parallel {\n",
       "  display: flex;\n",
       "  align-items: stretch;\n",
       "  justify-content: center;\n",
       "  background-color: var(--sklearn-color-background);\n",
       "  position: relative;\n",
       "}\n",
       "\n",
       "#sk-container-id-1 div.sk-parallel-item {\n",
       "  display: flex;\n",
       "  flex-direction: column;\n",
       "}\n",
       "\n",
       "#sk-container-id-1 div.sk-parallel-item:first-child::after {\n",
       "  align-self: flex-end;\n",
       "  width: 50%;\n",
       "}\n",
       "\n",
       "#sk-container-id-1 div.sk-parallel-item:last-child::after {\n",
       "  align-self: flex-start;\n",
       "  width: 50%;\n",
       "}\n",
       "\n",
       "#sk-container-id-1 div.sk-parallel-item:only-child::after {\n",
       "  width: 0;\n",
       "}\n",
       "\n",
       "/* Serial-specific style estimator block */\n",
       "\n",
       "#sk-container-id-1 div.sk-serial {\n",
       "  display: flex;\n",
       "  flex-direction: column;\n",
       "  align-items: center;\n",
       "  background-color: var(--sklearn-color-background);\n",
       "  padding-right: 1em;\n",
       "  padding-left: 1em;\n",
       "}\n",
       "\n",
       "\n",
       "/* Toggleable style: style used for estimator/Pipeline/ColumnTransformer box that is\n",
       "clickable and can be expanded/collapsed.\n",
       "- Pipeline and ColumnTransformer use this feature and define the default style\n",
       "- Estimators will overwrite some part of the style using the `sk-estimator` class\n",
       "*/\n",
       "\n",
       "/* Pipeline and ColumnTransformer style (default) */\n",
       "\n",
       "#sk-container-id-1 div.sk-toggleable {\n",
       "  /* Default theme specific background. It is overwritten whether we have a\n",
       "  specific estimator or a Pipeline/ColumnTransformer */\n",
       "  background-color: var(--sklearn-color-background);\n",
       "}\n",
       "\n",
       "/* Toggleable label */\n",
       "#sk-container-id-1 label.sk-toggleable__label {\n",
       "  cursor: pointer;\n",
       "  display: block;\n",
       "  width: 100%;\n",
       "  margin-bottom: 0;\n",
       "  padding: 0.5em;\n",
       "  box-sizing: border-box;\n",
       "  text-align: center;\n",
       "}\n",
       "\n",
       "#sk-container-id-1 label.sk-toggleable__label-arrow:before {\n",
       "  /* Arrow on the left of the label */\n",
       "  content: \"▸\";\n",
       "  float: left;\n",
       "  margin-right: 0.25em;\n",
       "  color: var(--sklearn-color-icon);\n",
       "}\n",
       "\n",
       "#sk-container-id-1 label.sk-toggleable__label-arrow:hover:before {\n",
       "  color: var(--sklearn-color-text);\n",
       "}\n",
       "\n",
       "/* Toggleable content - dropdown */\n",
       "\n",
       "#sk-container-id-1 div.sk-toggleable__content {\n",
       "  max-height: 0;\n",
       "  max-width: 0;\n",
       "  overflow: hidden;\n",
       "  text-align: left;\n",
       "  /* unfitted */\n",
       "  background-color: var(--sklearn-color-unfitted-level-0);\n",
       "}\n",
       "\n",
       "#sk-container-id-1 div.sk-toggleable__content.fitted {\n",
       "  /* fitted */\n",
       "  background-color: var(--sklearn-color-fitted-level-0);\n",
       "}\n",
       "\n",
       "#sk-container-id-1 div.sk-toggleable__content pre {\n",
       "  margin: 0.2em;\n",
       "  border-radius: 0.25em;\n",
       "  color: var(--sklearn-color-text);\n",
       "  /* unfitted */\n",
       "  background-color: var(--sklearn-color-unfitted-level-0);\n",
       "}\n",
       "\n",
       "#sk-container-id-1 div.sk-toggleable__content.fitted pre {\n",
       "  /* unfitted */\n",
       "  background-color: var(--sklearn-color-fitted-level-0);\n",
       "}\n",
       "\n",
       "#sk-container-id-1 input.sk-toggleable__control:checked~div.sk-toggleable__content {\n",
       "  /* Expand drop-down */\n",
       "  max-height: 200px;\n",
       "  max-width: 100%;\n",
       "  overflow: auto;\n",
       "}\n",
       "\n",
       "#sk-container-id-1 input.sk-toggleable__control:checked~label.sk-toggleable__label-arrow:before {\n",
       "  content: \"▾\";\n",
       "}\n",
       "\n",
       "/* Pipeline/ColumnTransformer-specific style */\n",
       "\n",
       "#sk-container-id-1 div.sk-label input.sk-toggleable__control:checked~label.sk-toggleable__label {\n",
       "  color: var(--sklearn-color-text);\n",
       "  background-color: var(--sklearn-color-unfitted-level-2);\n",
       "}\n",
       "\n",
       "#sk-container-id-1 div.sk-label.fitted input.sk-toggleable__control:checked~label.sk-toggleable__label {\n",
       "  background-color: var(--sklearn-color-fitted-level-2);\n",
       "}\n",
       "\n",
       "/* Estimator-specific style */\n",
       "\n",
       "/* Colorize estimator box */\n",
       "#sk-container-id-1 div.sk-estimator input.sk-toggleable__control:checked~label.sk-toggleable__label {\n",
       "  /* unfitted */\n",
       "  background-color: var(--sklearn-color-unfitted-level-2);\n",
       "}\n",
       "\n",
       "#sk-container-id-1 div.sk-estimator.fitted input.sk-toggleable__control:checked~label.sk-toggleable__label {\n",
       "  /* fitted */\n",
       "  background-color: var(--sklearn-color-fitted-level-2);\n",
       "}\n",
       "\n",
       "#sk-container-id-1 div.sk-label label.sk-toggleable__label,\n",
       "#sk-container-id-1 div.sk-label label {\n",
       "  /* The background is the default theme color */\n",
       "  color: var(--sklearn-color-text-on-default-background);\n",
       "}\n",
       "\n",
       "/* On hover, darken the color of the background */\n",
       "#sk-container-id-1 div.sk-label:hover label.sk-toggleable__label {\n",
       "  color: var(--sklearn-color-text);\n",
       "  background-color: var(--sklearn-color-unfitted-level-2);\n",
       "}\n",
       "\n",
       "/* Label box, darken color on hover, fitted */\n",
       "#sk-container-id-1 div.sk-label.fitted:hover label.sk-toggleable__label.fitted {\n",
       "  color: var(--sklearn-color-text);\n",
       "  background-color: var(--sklearn-color-fitted-level-2);\n",
       "}\n",
       "\n",
       "/* Estimator label */\n",
       "\n",
       "#sk-container-id-1 div.sk-label label {\n",
       "  font-family: monospace;\n",
       "  font-weight: bold;\n",
       "  display: inline-block;\n",
       "  line-height: 1.2em;\n",
       "}\n",
       "\n",
       "#sk-container-id-1 div.sk-label-container {\n",
       "  text-align: center;\n",
       "}\n",
       "\n",
       "/* Estimator-specific */\n",
       "#sk-container-id-1 div.sk-estimator {\n",
       "  font-family: monospace;\n",
       "  border: 1px dotted var(--sklearn-color-border-box);\n",
       "  border-radius: 0.25em;\n",
       "  box-sizing: border-box;\n",
       "  margin-bottom: 0.5em;\n",
       "  /* unfitted */\n",
       "  background-color: var(--sklearn-color-unfitted-level-0);\n",
       "}\n",
       "\n",
       "#sk-container-id-1 div.sk-estimator.fitted {\n",
       "  /* fitted */\n",
       "  background-color: var(--sklearn-color-fitted-level-0);\n",
       "}\n",
       "\n",
       "/* on hover */\n",
       "#sk-container-id-1 div.sk-estimator:hover {\n",
       "  /* unfitted */\n",
       "  background-color: var(--sklearn-color-unfitted-level-2);\n",
       "}\n",
       "\n",
       "#sk-container-id-1 div.sk-estimator.fitted:hover {\n",
       "  /* fitted */\n",
       "  background-color: var(--sklearn-color-fitted-level-2);\n",
       "}\n",
       "\n",
       "/* Specification for estimator info (e.g. \"i\" and \"?\") */\n",
       "\n",
       "/* Common style for \"i\" and \"?\" */\n",
       "\n",
       ".sk-estimator-doc-link,\n",
       "a:link.sk-estimator-doc-link,\n",
       "a:visited.sk-estimator-doc-link {\n",
       "  float: right;\n",
       "  font-size: smaller;\n",
       "  line-height: 1em;\n",
       "  font-family: monospace;\n",
       "  background-color: var(--sklearn-color-background);\n",
       "  border-radius: 1em;\n",
       "  height: 1em;\n",
       "  width: 1em;\n",
       "  text-decoration: none !important;\n",
       "  margin-left: 1ex;\n",
       "  /* unfitted */\n",
       "  border: var(--sklearn-color-unfitted-level-1) 1pt solid;\n",
       "  color: var(--sklearn-color-unfitted-level-1);\n",
       "}\n",
       "\n",
       ".sk-estimator-doc-link.fitted,\n",
       "a:link.sk-estimator-doc-link.fitted,\n",
       "a:visited.sk-estimator-doc-link.fitted {\n",
       "  /* fitted */\n",
       "  border: var(--sklearn-color-fitted-level-1) 1pt solid;\n",
       "  color: var(--sklearn-color-fitted-level-1);\n",
       "}\n",
       "\n",
       "/* On hover */\n",
       "div.sk-estimator:hover .sk-estimator-doc-link:hover,\n",
       ".sk-estimator-doc-link:hover,\n",
       "div.sk-label-container:hover .sk-estimator-doc-link:hover,\n",
       ".sk-estimator-doc-link:hover {\n",
       "  /* unfitted */\n",
       "  background-color: var(--sklearn-color-unfitted-level-3);\n",
       "  color: var(--sklearn-color-background);\n",
       "  text-decoration: none;\n",
       "}\n",
       "\n",
       "div.sk-estimator.fitted:hover .sk-estimator-doc-link.fitted:hover,\n",
       ".sk-estimator-doc-link.fitted:hover,\n",
       "div.sk-label-container:hover .sk-estimator-doc-link.fitted:hover,\n",
       ".sk-estimator-doc-link.fitted:hover {\n",
       "  /* fitted */\n",
       "  background-color: var(--sklearn-color-fitted-level-3);\n",
       "  color: var(--sklearn-color-background);\n",
       "  text-decoration: none;\n",
       "}\n",
       "\n",
       "/* Span, style for the box shown on hovering the info icon */\n",
       ".sk-estimator-doc-link span {\n",
       "  display: none;\n",
       "  z-index: 9999;\n",
       "  position: relative;\n",
       "  font-weight: normal;\n",
       "  right: .2ex;\n",
       "  padding: .5ex;\n",
       "  margin: .5ex;\n",
       "  width: min-content;\n",
       "  min-width: 20ex;\n",
       "  max-width: 50ex;\n",
       "  color: var(--sklearn-color-text);\n",
       "  box-shadow: 2pt 2pt 4pt #999;\n",
       "  /* unfitted */\n",
       "  background: var(--sklearn-color-unfitted-level-0);\n",
       "  border: .5pt solid var(--sklearn-color-unfitted-level-3);\n",
       "}\n",
       "\n",
       ".sk-estimator-doc-link.fitted span {\n",
       "  /* fitted */\n",
       "  background: var(--sklearn-color-fitted-level-0);\n",
       "  border: var(--sklearn-color-fitted-level-3);\n",
       "}\n",
       "\n",
       ".sk-estimator-doc-link:hover span {\n",
       "  display: block;\n",
       "}\n",
       "\n",
       "/* \"?\"-specific style due to the `<a>` HTML tag */\n",
       "\n",
       "#sk-container-id-1 a.estimator_doc_link {\n",
       "  float: right;\n",
       "  font-size: 1rem;\n",
       "  line-height: 1em;\n",
       "  font-family: monospace;\n",
       "  background-color: var(--sklearn-color-background);\n",
       "  border-radius: 1rem;\n",
       "  height: 1rem;\n",
       "  width: 1rem;\n",
       "  text-decoration: none;\n",
       "  /* unfitted */\n",
       "  color: var(--sklearn-color-unfitted-level-1);\n",
       "  border: var(--sklearn-color-unfitted-level-1) 1pt solid;\n",
       "}\n",
       "\n",
       "#sk-container-id-1 a.estimator_doc_link.fitted {\n",
       "  /* fitted */\n",
       "  border: var(--sklearn-color-fitted-level-1) 1pt solid;\n",
       "  color: var(--sklearn-color-fitted-level-1);\n",
       "}\n",
       "\n",
       "/* On hover */\n",
       "#sk-container-id-1 a.estimator_doc_link:hover {\n",
       "  /* unfitted */\n",
       "  background-color: var(--sklearn-color-unfitted-level-3);\n",
       "  color: var(--sklearn-color-background);\n",
       "  text-decoration: none;\n",
       "}\n",
       "\n",
       "#sk-container-id-1 a.estimator_doc_link.fitted:hover {\n",
       "  /* fitted */\n",
       "  background-color: var(--sklearn-color-fitted-level-3);\n",
       "}\n",
       "</style><div id=\"sk-container-id-1\" class=\"sk-top-container\"><div class=\"sk-text-repr-fallback\"><pre>RandomForestClassifier(random_state=42)</pre><b>In a Jupyter environment, please rerun this cell to show the HTML representation or trust the notebook. <br />On GitHub, the HTML representation is unable to render, please try loading this page with nbviewer.org.</b></div><div class=\"sk-container\" hidden><div class=\"sk-item\"><div class=\"sk-estimator fitted sk-toggleable\"><input class=\"sk-toggleable__control sk-hidden--visually\" id=\"sk-estimator-id-1\" type=\"checkbox\" checked><label for=\"sk-estimator-id-1\" class=\"sk-toggleable__label fitted sk-toggleable__label-arrow fitted\">&nbsp;&nbsp;RandomForestClassifier<a class=\"sk-estimator-doc-link fitted\" rel=\"noreferrer\" target=\"_blank\" href=\"https://scikit-learn.org/1.4/modules/generated/sklearn.ensemble.RandomForestClassifier.html\">?<span>Documentation for RandomForestClassifier</span></a><span class=\"sk-estimator-doc-link fitted\">i<span>Fitted</span></span></label><div class=\"sk-toggleable__content fitted\"><pre>RandomForestClassifier(random_state=42)</pre></div> </div></div></div></div>"
      ],
      "text/plain": [
       "RandomForestClassifier(random_state=42)"
      ]
     },
     "execution_count": 25,
     "metadata": {},
     "output_type": "execute_result"
    }
   ],
   "source": [
    "# Creating and training the model\n",
    "model = RandomForestClassifier(random_state=42)\n",
    "model.fit(X_train, y_train)"
   ]
  },
  {
   "cell_type": "code",
   "execution_count": 26,
   "id": "3a6eb0de-5513-4df9-b8bd-7cac87cdbdeb",
   "metadata": {},
   "outputs": [
    {
     "name": "stdout",
     "output_type": "stream",
     "text": [
      "              precision    recall  f1-score   support\n",
      "\n",
      "           0       1.00      1.00      1.00     11800\n",
      "           1       0.90      0.72      0.80       200\n",
      "\n",
      "    accuracy                           0.99     12000\n",
      "   macro avg       0.95      0.86      0.90     12000\n",
      "weighted avg       0.99      0.99      0.99     12000\n",
      "\n"
     ]
    }
   ],
   "source": [
    "# Evaluation of the Model\n",
    "y_pred = model.predict(X_test)\n",
    "print(classification_report(y_test, y_pred))"
   ]
  },
  {
   "cell_type": "markdown",
   "id": "0ed6d738-2dd5-44aa-90a7-5976a70d49f5",
   "metadata": {},
   "source": [
    "## Class Balancing and Training:"
   ]
  },
  {
   "cell_type": "markdown",
   "id": "f0e84cf3-ff1b-4e93-8ec2-6ab43f520787",
   "metadata": {},
   "source": [
    "                              SMOTE (Synthetic Minority Over-sampling Technique)"
   ]
  },
  {
   "cell_type": "code",
   "execution_count": 29,
   "id": "d2328e1d-cc68-4927-a9f3-b3c08baf0dc9",
   "metadata": {},
   "outputs": [],
   "source": [
    "smote = SMOTE(random_state=42)\n",
    "X_smote, y_smote = smote.fit_resample(X_train, y_train)"
   ]
  },
  {
   "cell_type": "code",
   "execution_count": 30,
   "id": "d931d618-3809-4642-8669-e8e54e78e065",
   "metadata": {},
   "outputs": [],
   "source": [
    "# Division of actual data in training and testing\n",
    "X_train_smote, X_test_smote, y_train_smote, y_test_smote = train_test_split(X_smote, y_smote, test_size=0.2, random_state=42, stratify=y_smote)"
   ]
  },
  {
   "cell_type": "markdown",
   "id": "0162edd6-1d5e-45fc-af76-c713a47a9507",
   "metadata": {},
   "source": [
    "-------------------------------------------------------------------------------------------------------------------------------------"
   ]
  },
  {
   "cell_type": "markdown",
   "id": "ece4627b-9001-431b-98b8-c4ac9c17dc87",
   "metadata": {},
   "source": [
    "                    SMOTEENN = SMOTE(Synthetic Minority Over-sampling Technique) + ENN (Edited Nearest Neighbors)"
   ]
  },
  {
   "cell_type": "code",
   "execution_count": 33,
   "id": "839d7598-cd4e-4889-99bc-a4ef9213e3b1",
   "metadata": {},
   "outputs": [],
   "source": [
    "from imblearn.combine import SMOTEENN\n",
    "# Application of SMOTEENN to data resulting from SMOTE\n",
    "smote_enn = SMOTEENN(random_state=42)\n",
    "X_resampled, y_resampled = smote_enn.fit_resample(X_train_smote, y_train_smote)"
   ]
  },
  {
   "cell_type": "markdown",
   "id": "3935ce5e-5a06-40e7-a455-853ce081cf88",
   "metadata": {},
   "source": [
    "-------------------------------------------------------------------------------------------------------------------------------------"
   ]
  },
  {
   "cell_type": "code",
   "execution_count": 35,
   "id": "a71ea1ca-881e-43d2-9a13-322cc8ec12dc",
   "metadata": {},
   "outputs": [],
   "source": [
    "# Data scaling\n",
    "scaler = StandardScaler()\n",
    "X_resampled = scaler.fit_transform(X_resampled)\n",
    "X_test = scaler.transform(X_test)"
   ]
  },
  {
   "cell_type": "code",
   "execution_count": 36,
   "id": "729aed53-adc3-4754-a03b-9b519113efb1",
   "metadata": {},
   "outputs": [],
   "source": [
    "#  Reduction of dimensionality with PCA\n",
    "pca = PCA(n_components=10)\n",
    "X_resampled = pca.fit_transform(X_resampled)\n",
    "X_test = pca.transform(X_test)"
   ]
  },
  {
   "cell_type": "markdown",
   "id": "f59990d0-a159-4c82-a51d-5b384e599826",
   "metadata": {},
   "source": [
    "-------------------------------------------------------------------------------------------------------------------------------------"
   ]
  },
  {
   "cell_type": "code",
   "execution_count": 38,
   "id": "e52b6eef-b04e-4af3-8d1e-a3399225b759",
   "metadata": {},
   "outputs": [
    {
     "data": {
      "text/html": [
       "<style>#sk-container-id-2 {\n",
       "  /* Definition of color scheme common for light and dark mode */\n",
       "  --sklearn-color-text: black;\n",
       "  --sklearn-color-line: gray;\n",
       "  /* Definition of color scheme for unfitted estimators */\n",
       "  --sklearn-color-unfitted-level-0: #fff5e6;\n",
       "  --sklearn-color-unfitted-level-1: #f6e4d2;\n",
       "  --sklearn-color-unfitted-level-2: #ffe0b3;\n",
       "  --sklearn-color-unfitted-level-3: chocolate;\n",
       "  /* Definition of color scheme for fitted estimators */\n",
       "  --sklearn-color-fitted-level-0: #f0f8ff;\n",
       "  --sklearn-color-fitted-level-1: #d4ebff;\n",
       "  --sklearn-color-fitted-level-2: #b3dbfd;\n",
       "  --sklearn-color-fitted-level-3: cornflowerblue;\n",
       "\n",
       "  /* Specific color for light theme */\n",
       "  --sklearn-color-text-on-default-background: var(--sg-text-color, var(--theme-code-foreground, var(--jp-content-font-color1, black)));\n",
       "  --sklearn-color-background: var(--sg-background-color, var(--theme-background, var(--jp-layout-color0, white)));\n",
       "  --sklearn-color-border-box: var(--sg-text-color, var(--theme-code-foreground, var(--jp-content-font-color1, black)));\n",
       "  --sklearn-color-icon: #696969;\n",
       "\n",
       "  @media (prefers-color-scheme: dark) {\n",
       "    /* Redefinition of color scheme for dark theme */\n",
       "    --sklearn-color-text-on-default-background: var(--sg-text-color, var(--theme-code-foreground, var(--jp-content-font-color1, white)));\n",
       "    --sklearn-color-background: var(--sg-background-color, var(--theme-background, var(--jp-layout-color0, #111)));\n",
       "    --sklearn-color-border-box: var(--sg-text-color, var(--theme-code-foreground, var(--jp-content-font-color1, white)));\n",
       "    --sklearn-color-icon: #878787;\n",
       "  }\n",
       "}\n",
       "\n",
       "#sk-container-id-2 {\n",
       "  color: var(--sklearn-color-text);\n",
       "}\n",
       "\n",
       "#sk-container-id-2 pre {\n",
       "  padding: 0;\n",
       "}\n",
       "\n",
       "#sk-container-id-2 input.sk-hidden--visually {\n",
       "  border: 0;\n",
       "  clip: rect(1px 1px 1px 1px);\n",
       "  clip: rect(1px, 1px, 1px, 1px);\n",
       "  height: 1px;\n",
       "  margin: -1px;\n",
       "  overflow: hidden;\n",
       "  padding: 0;\n",
       "  position: absolute;\n",
       "  width: 1px;\n",
       "}\n",
       "\n",
       "#sk-container-id-2 div.sk-dashed-wrapped {\n",
       "  border: 1px dashed var(--sklearn-color-line);\n",
       "  margin: 0 0.4em 0.5em 0.4em;\n",
       "  box-sizing: border-box;\n",
       "  padding-bottom: 0.4em;\n",
       "  background-color: var(--sklearn-color-background);\n",
       "}\n",
       "\n",
       "#sk-container-id-2 div.sk-container {\n",
       "  /* jupyter's `normalize.less` sets `[hidden] { display: none; }`\n",
       "     but bootstrap.min.css set `[hidden] { display: none !important; }`\n",
       "     so we also need the `!important` here to be able to override the\n",
       "     default hidden behavior on the sphinx rendered scikit-learn.org.\n",
       "     See: https://github.com/scikit-learn/scikit-learn/issues/21755 */\n",
       "  display: inline-block !important;\n",
       "  position: relative;\n",
       "}\n",
       "\n",
       "#sk-container-id-2 div.sk-text-repr-fallback {\n",
       "  display: none;\n",
       "}\n",
       "\n",
       "div.sk-parallel-item,\n",
       "div.sk-serial,\n",
       "div.sk-item {\n",
       "  /* draw centered vertical line to link estimators */\n",
       "  background-image: linear-gradient(var(--sklearn-color-text-on-default-background), var(--sklearn-color-text-on-default-background));\n",
       "  background-size: 2px 100%;\n",
       "  background-repeat: no-repeat;\n",
       "  background-position: center center;\n",
       "}\n",
       "\n",
       "/* Parallel-specific style estimator block */\n",
       "\n",
       "#sk-container-id-2 div.sk-parallel-item::after {\n",
       "  content: \"\";\n",
       "  width: 100%;\n",
       "  border-bottom: 2px solid var(--sklearn-color-text-on-default-background);\n",
       "  flex-grow: 1;\n",
       "}\n",
       "\n",
       "#sk-container-id-2 div.sk-parallel {\n",
       "  display: flex;\n",
       "  align-items: stretch;\n",
       "  justify-content: center;\n",
       "  background-color: var(--sklearn-color-background);\n",
       "  position: relative;\n",
       "}\n",
       "\n",
       "#sk-container-id-2 div.sk-parallel-item {\n",
       "  display: flex;\n",
       "  flex-direction: column;\n",
       "}\n",
       "\n",
       "#sk-container-id-2 div.sk-parallel-item:first-child::after {\n",
       "  align-self: flex-end;\n",
       "  width: 50%;\n",
       "}\n",
       "\n",
       "#sk-container-id-2 div.sk-parallel-item:last-child::after {\n",
       "  align-self: flex-start;\n",
       "  width: 50%;\n",
       "}\n",
       "\n",
       "#sk-container-id-2 div.sk-parallel-item:only-child::after {\n",
       "  width: 0;\n",
       "}\n",
       "\n",
       "/* Serial-specific style estimator block */\n",
       "\n",
       "#sk-container-id-2 div.sk-serial {\n",
       "  display: flex;\n",
       "  flex-direction: column;\n",
       "  align-items: center;\n",
       "  background-color: var(--sklearn-color-background);\n",
       "  padding-right: 1em;\n",
       "  padding-left: 1em;\n",
       "}\n",
       "\n",
       "\n",
       "/* Toggleable style: style used for estimator/Pipeline/ColumnTransformer box that is\n",
       "clickable and can be expanded/collapsed.\n",
       "- Pipeline and ColumnTransformer use this feature and define the default style\n",
       "- Estimators will overwrite some part of the style using the `sk-estimator` class\n",
       "*/\n",
       "\n",
       "/* Pipeline and ColumnTransformer style (default) */\n",
       "\n",
       "#sk-container-id-2 div.sk-toggleable {\n",
       "  /* Default theme specific background. It is overwritten whether we have a\n",
       "  specific estimator or a Pipeline/ColumnTransformer */\n",
       "  background-color: var(--sklearn-color-background);\n",
       "}\n",
       "\n",
       "/* Toggleable label */\n",
       "#sk-container-id-2 label.sk-toggleable__label {\n",
       "  cursor: pointer;\n",
       "  display: block;\n",
       "  width: 100%;\n",
       "  margin-bottom: 0;\n",
       "  padding: 0.5em;\n",
       "  box-sizing: border-box;\n",
       "  text-align: center;\n",
       "}\n",
       "\n",
       "#sk-container-id-2 label.sk-toggleable__label-arrow:before {\n",
       "  /* Arrow on the left of the label */\n",
       "  content: \"▸\";\n",
       "  float: left;\n",
       "  margin-right: 0.25em;\n",
       "  color: var(--sklearn-color-icon);\n",
       "}\n",
       "\n",
       "#sk-container-id-2 label.sk-toggleable__label-arrow:hover:before {\n",
       "  color: var(--sklearn-color-text);\n",
       "}\n",
       "\n",
       "/* Toggleable content - dropdown */\n",
       "\n",
       "#sk-container-id-2 div.sk-toggleable__content {\n",
       "  max-height: 0;\n",
       "  max-width: 0;\n",
       "  overflow: hidden;\n",
       "  text-align: left;\n",
       "  /* unfitted */\n",
       "  background-color: var(--sklearn-color-unfitted-level-0);\n",
       "}\n",
       "\n",
       "#sk-container-id-2 div.sk-toggleable__content.fitted {\n",
       "  /* fitted */\n",
       "  background-color: var(--sklearn-color-fitted-level-0);\n",
       "}\n",
       "\n",
       "#sk-container-id-2 div.sk-toggleable__content pre {\n",
       "  margin: 0.2em;\n",
       "  border-radius: 0.25em;\n",
       "  color: var(--sklearn-color-text);\n",
       "  /* unfitted */\n",
       "  background-color: var(--sklearn-color-unfitted-level-0);\n",
       "}\n",
       "\n",
       "#sk-container-id-2 div.sk-toggleable__content.fitted pre {\n",
       "  /* unfitted */\n",
       "  background-color: var(--sklearn-color-fitted-level-0);\n",
       "}\n",
       "\n",
       "#sk-container-id-2 input.sk-toggleable__control:checked~div.sk-toggleable__content {\n",
       "  /* Expand drop-down */\n",
       "  max-height: 200px;\n",
       "  max-width: 100%;\n",
       "  overflow: auto;\n",
       "}\n",
       "\n",
       "#sk-container-id-2 input.sk-toggleable__control:checked~label.sk-toggleable__label-arrow:before {\n",
       "  content: \"▾\";\n",
       "}\n",
       "\n",
       "/* Pipeline/ColumnTransformer-specific style */\n",
       "\n",
       "#sk-container-id-2 div.sk-label input.sk-toggleable__control:checked~label.sk-toggleable__label {\n",
       "  color: var(--sklearn-color-text);\n",
       "  background-color: var(--sklearn-color-unfitted-level-2);\n",
       "}\n",
       "\n",
       "#sk-container-id-2 div.sk-label.fitted input.sk-toggleable__control:checked~label.sk-toggleable__label {\n",
       "  background-color: var(--sklearn-color-fitted-level-2);\n",
       "}\n",
       "\n",
       "/* Estimator-specific style */\n",
       "\n",
       "/* Colorize estimator box */\n",
       "#sk-container-id-2 div.sk-estimator input.sk-toggleable__control:checked~label.sk-toggleable__label {\n",
       "  /* unfitted */\n",
       "  background-color: var(--sklearn-color-unfitted-level-2);\n",
       "}\n",
       "\n",
       "#sk-container-id-2 div.sk-estimator.fitted input.sk-toggleable__control:checked~label.sk-toggleable__label {\n",
       "  /* fitted */\n",
       "  background-color: var(--sklearn-color-fitted-level-2);\n",
       "}\n",
       "\n",
       "#sk-container-id-2 div.sk-label label.sk-toggleable__label,\n",
       "#sk-container-id-2 div.sk-label label {\n",
       "  /* The background is the default theme color */\n",
       "  color: var(--sklearn-color-text-on-default-background);\n",
       "}\n",
       "\n",
       "/* On hover, darken the color of the background */\n",
       "#sk-container-id-2 div.sk-label:hover label.sk-toggleable__label {\n",
       "  color: var(--sklearn-color-text);\n",
       "  background-color: var(--sklearn-color-unfitted-level-2);\n",
       "}\n",
       "\n",
       "/* Label box, darken color on hover, fitted */\n",
       "#sk-container-id-2 div.sk-label.fitted:hover label.sk-toggleable__label.fitted {\n",
       "  color: var(--sklearn-color-text);\n",
       "  background-color: var(--sklearn-color-fitted-level-2);\n",
       "}\n",
       "\n",
       "/* Estimator label */\n",
       "\n",
       "#sk-container-id-2 div.sk-label label {\n",
       "  font-family: monospace;\n",
       "  font-weight: bold;\n",
       "  display: inline-block;\n",
       "  line-height: 1.2em;\n",
       "}\n",
       "\n",
       "#sk-container-id-2 div.sk-label-container {\n",
       "  text-align: center;\n",
       "}\n",
       "\n",
       "/* Estimator-specific */\n",
       "#sk-container-id-2 div.sk-estimator {\n",
       "  font-family: monospace;\n",
       "  border: 1px dotted var(--sklearn-color-border-box);\n",
       "  border-radius: 0.25em;\n",
       "  box-sizing: border-box;\n",
       "  margin-bottom: 0.5em;\n",
       "  /* unfitted */\n",
       "  background-color: var(--sklearn-color-unfitted-level-0);\n",
       "}\n",
       "\n",
       "#sk-container-id-2 div.sk-estimator.fitted {\n",
       "  /* fitted */\n",
       "  background-color: var(--sklearn-color-fitted-level-0);\n",
       "}\n",
       "\n",
       "/* on hover */\n",
       "#sk-container-id-2 div.sk-estimator:hover {\n",
       "  /* unfitted */\n",
       "  background-color: var(--sklearn-color-unfitted-level-2);\n",
       "}\n",
       "\n",
       "#sk-container-id-2 div.sk-estimator.fitted:hover {\n",
       "  /* fitted */\n",
       "  background-color: var(--sklearn-color-fitted-level-2);\n",
       "}\n",
       "\n",
       "/* Specification for estimator info (e.g. \"i\" and \"?\") */\n",
       "\n",
       "/* Common style for \"i\" and \"?\" */\n",
       "\n",
       ".sk-estimator-doc-link,\n",
       "a:link.sk-estimator-doc-link,\n",
       "a:visited.sk-estimator-doc-link {\n",
       "  float: right;\n",
       "  font-size: smaller;\n",
       "  line-height: 1em;\n",
       "  font-family: monospace;\n",
       "  background-color: var(--sklearn-color-background);\n",
       "  border-radius: 1em;\n",
       "  height: 1em;\n",
       "  width: 1em;\n",
       "  text-decoration: none !important;\n",
       "  margin-left: 1ex;\n",
       "  /* unfitted */\n",
       "  border: var(--sklearn-color-unfitted-level-1) 1pt solid;\n",
       "  color: var(--sklearn-color-unfitted-level-1);\n",
       "}\n",
       "\n",
       ".sk-estimator-doc-link.fitted,\n",
       "a:link.sk-estimator-doc-link.fitted,\n",
       "a:visited.sk-estimator-doc-link.fitted {\n",
       "  /* fitted */\n",
       "  border: var(--sklearn-color-fitted-level-1) 1pt solid;\n",
       "  color: var(--sklearn-color-fitted-level-1);\n",
       "}\n",
       "\n",
       "/* On hover */\n",
       "div.sk-estimator:hover .sk-estimator-doc-link:hover,\n",
       ".sk-estimator-doc-link:hover,\n",
       "div.sk-label-container:hover .sk-estimator-doc-link:hover,\n",
       ".sk-estimator-doc-link:hover {\n",
       "  /* unfitted */\n",
       "  background-color: var(--sklearn-color-unfitted-level-3);\n",
       "  color: var(--sklearn-color-background);\n",
       "  text-decoration: none;\n",
       "}\n",
       "\n",
       "div.sk-estimator.fitted:hover .sk-estimator-doc-link.fitted:hover,\n",
       ".sk-estimator-doc-link.fitted:hover,\n",
       "div.sk-label-container:hover .sk-estimator-doc-link.fitted:hover,\n",
       ".sk-estimator-doc-link.fitted:hover {\n",
       "  /* fitted */\n",
       "  background-color: var(--sklearn-color-fitted-level-3);\n",
       "  color: var(--sklearn-color-background);\n",
       "  text-decoration: none;\n",
       "}\n",
       "\n",
       "/* Span, style for the box shown on hovering the info icon */\n",
       ".sk-estimator-doc-link span {\n",
       "  display: none;\n",
       "  z-index: 9999;\n",
       "  position: relative;\n",
       "  font-weight: normal;\n",
       "  right: .2ex;\n",
       "  padding: .5ex;\n",
       "  margin: .5ex;\n",
       "  width: min-content;\n",
       "  min-width: 20ex;\n",
       "  max-width: 50ex;\n",
       "  color: var(--sklearn-color-text);\n",
       "  box-shadow: 2pt 2pt 4pt #999;\n",
       "  /* unfitted */\n",
       "  background: var(--sklearn-color-unfitted-level-0);\n",
       "  border: .5pt solid var(--sklearn-color-unfitted-level-3);\n",
       "}\n",
       "\n",
       ".sk-estimator-doc-link.fitted span {\n",
       "  /* fitted */\n",
       "  background: var(--sklearn-color-fitted-level-0);\n",
       "  border: var(--sklearn-color-fitted-level-3);\n",
       "}\n",
       "\n",
       ".sk-estimator-doc-link:hover span {\n",
       "  display: block;\n",
       "}\n",
       "\n",
       "/* \"?\"-specific style due to the `<a>` HTML tag */\n",
       "\n",
       "#sk-container-id-2 a.estimator_doc_link {\n",
       "  float: right;\n",
       "  font-size: 1rem;\n",
       "  line-height: 1em;\n",
       "  font-family: monospace;\n",
       "  background-color: var(--sklearn-color-background);\n",
       "  border-radius: 1rem;\n",
       "  height: 1rem;\n",
       "  width: 1rem;\n",
       "  text-decoration: none;\n",
       "  /* unfitted */\n",
       "  color: var(--sklearn-color-unfitted-level-1);\n",
       "  border: var(--sklearn-color-unfitted-level-1) 1pt solid;\n",
       "}\n",
       "\n",
       "#sk-container-id-2 a.estimator_doc_link.fitted {\n",
       "  /* fitted */\n",
       "  border: var(--sklearn-color-fitted-level-1) 1pt solid;\n",
       "  color: var(--sklearn-color-fitted-level-1);\n",
       "}\n",
       "\n",
       "/* On hover */\n",
       "#sk-container-id-2 a.estimator_doc_link:hover {\n",
       "  /* unfitted */\n",
       "  background-color: var(--sklearn-color-unfitted-level-3);\n",
       "  color: var(--sklearn-color-background);\n",
       "  text-decoration: none;\n",
       "}\n",
       "\n",
       "#sk-container-id-2 a.estimator_doc_link.fitted:hover {\n",
       "  /* fitted */\n",
       "  background-color: var(--sklearn-color-fitted-level-3);\n",
       "}\n",
       "</style><div id=\"sk-container-id-2\" class=\"sk-top-container\"><div class=\"sk-text-repr-fallback\"><pre>RandomForestClassifier(random_state=42)</pre><b>In a Jupyter environment, please rerun this cell to show the HTML representation or trust the notebook. <br />On GitHub, the HTML representation is unable to render, please try loading this page with nbviewer.org.</b></div><div class=\"sk-container\" hidden><div class=\"sk-item\"><div class=\"sk-estimator fitted sk-toggleable\"><input class=\"sk-toggleable__control sk-hidden--visually\" id=\"sk-estimator-id-2\" type=\"checkbox\" checked><label for=\"sk-estimator-id-2\" class=\"sk-toggleable__label fitted sk-toggleable__label-arrow fitted\">&nbsp;&nbsp;RandomForestClassifier<a class=\"sk-estimator-doc-link fitted\" rel=\"noreferrer\" target=\"_blank\" href=\"https://scikit-learn.org/1.4/modules/generated/sklearn.ensemble.RandomForestClassifier.html\">?<span>Documentation for RandomForestClassifier</span></a><span class=\"sk-estimator-doc-link fitted\">i<span>Fitted</span></span></label><div class=\"sk-toggleable__content fitted\"><pre>RandomForestClassifier(random_state=42)</pre></div> </div></div></div></div>"
      ],
      "text/plain": [
       "RandomForestClassifier(random_state=42)"
      ]
     },
     "execution_count": 38,
     "metadata": {},
     "output_type": "execute_result"
    }
   ],
   "source": [
    "# Model training with the re-shown data\n",
    "model_resampled = RandomForestClassifier(random_state=42)\n",
    "model_resampled.fit(X_resampled, y_resampled)"
   ]
  },
  {
   "cell_type": "markdown",
   "id": "d906c8db-870b-4cb5-baaa-2e0b5cba1915",
   "metadata": {},
   "source": [
    "## Evaluation of the Model:"
   ]
  },
  {
   "cell_type": "code",
   "execution_count": 40,
   "id": "0bd1a954-68e7-4073-8ba6-802d70087331",
   "metadata": {},
   "outputs": [
    {
     "name": "stdout",
     "output_type": "stream",
     "text": [
      "Classification Report after applying SMOTE and SMOTEENN:\n",
      "              precision    recall  f1-score   support\n",
      "\n",
      "           0       1.00      0.96      0.98     11800\n",
      "           1       0.32      0.95      0.47       200\n",
      "\n",
      "    accuracy                           0.96     12000\n",
      "   macro avg       0.66      0.96      0.73     12000\n",
      "weighted avg       0.99      0.96      0.97     12000\n",
      "\n"
     ]
    }
   ],
   "source": [
    "y_pred_resampled = model_resampled.predict(X_test)\n",
    "print(\"Classification Report after applying SMOTE and SMOTEENN:\")\n",
    "print(classification_report(y_test, y_pred_resampled))"
   ]
  },
  {
   "cell_type": "markdown",
   "id": "9e9d9ac6-83a4-4bf4-a380-61de7c2ab806",
   "metadata": {},
   "source": [
    "---------------------------------------------------------------------------------------------------------------------------"
   ]
  },
  {
   "cell_type": "markdown",
   "id": "d7936500-252b-4d2b-a572-891720506a51",
   "metadata": {},
   "source": [
    "# Apply the trained model in the present data and evaluate its performance."
   ]
  },
  {
   "cell_type": "markdown",
   "id": "c3c9b8ff-c3f2-4a6c-88ad-98328458bc4b",
   "metadata": {},
   "source": [
    "## Prepare data for forecast: "
   ]
  },
  {
   "cell_type": "code",
   "execution_count": 44,
   "id": "18c750c8-8e6d-43b0-af69-137563b7ffce",
   "metadata": {},
   "outputs": [],
   "source": [
    "pres = 'C:\\\\Users\\\\PICHAU\\\\Downloads\\\\air_system_present_year.csv'"
   ]
  },
  {
   "cell_type": "code",
   "execution_count": 45,
   "id": "3ae2af48-be16-4d20-94ae-d98982927dd1",
   "metadata": {},
   "outputs": [],
   "source": [
    "present = pd.read_csv(pres, na_values='na')"
   ]
  },
  {
   "cell_type": "markdown",
   "id": "1ede3abb-6b94-4ac7-b65d-ca7c76e2956b",
   "metadata": {},
   "source": [
    "## Initial Data Exploration:"
   ]
  },
  {
   "cell_type": "code",
   "execution_count": 47,
   "id": "6fe9e49e-7e8d-4c0e-9a3e-16f27c644cd1",
   "metadata": {},
   "outputs": [
    {
     "name": "stdout",
     "output_type": "stream",
     "text": [
      "  class  aa_000  ab_000        ac_000  ad_000  ae_000  af_000  ag_000  ag_001  \\\n",
      "0   neg      60     0.0  2.000000e+01    12.0     0.0     0.0     0.0     0.0   \n",
      "1   neg      82     0.0  6.800000e+01    40.0     0.0     0.0     0.0     0.0   \n",
      "2   neg   66002     2.0  2.120000e+02   112.0     0.0     0.0     0.0     0.0   \n",
      "3   neg   59816     NaN  1.010000e+03   936.0     0.0     0.0     0.0     0.0   \n",
      "4   neg    1814     NaN  1.560000e+02   140.0     0.0     0.0     0.0     0.0   \n",
      "5   neg     174     NaN  2.600000e+01    24.0     0.0     0.0     NaN     NaN   \n",
      "6   neg   40202     NaN  6.400000e+02   606.0     0.0     0.0     0.0     0.0   \n",
      "7   neg  120278     NaN  2.130706e+09   256.0     0.0     0.0     0.0     0.0   \n",
      "8   neg   14592     0.0  2.130706e+09   162.0     0.0     0.0     0.0     0.0   \n",
      "9   neg   28338     NaN  2.130706e+09   238.0     0.0     0.0     0.0     0.0   \n",
      "\n",
      "   ag_002  ...     ee_002    ee_003    ee_004    ee_005     ee_006    ee_007  \\\n",
      "0     0.0  ...     1098.0     138.0     412.0     654.0       78.0      88.0   \n",
      "1     0.0  ...     1068.0     276.0    1620.0     116.0       86.0     462.0   \n",
      "2     0.0  ...   495076.0  380368.0  440134.0  269556.0  1315022.0  153680.0   \n",
      "3     0.0  ...   540820.0  243270.0  483302.0  485332.0   431376.0  210074.0   \n",
      "4     0.0  ...     7646.0    4144.0   18466.0   49782.0     3176.0     482.0   \n",
      "5     NaN  ...        NaN       NaN       NaN       NaN        NaN       NaN   \n",
      "6     0.0  ...   526218.0  239734.0  439556.0  374248.0   169096.0   53658.0   \n",
      "7     0.0  ...  1006722.0  459658.0  876356.0  689532.0   568540.0  500624.0   \n",
      "8     0.0  ...   105024.0   57398.0   49152.0   38256.0   243268.0  145144.0   \n",
      "9     0.0  ...   357006.0  150056.0  264776.0  239282.0   140548.0   74750.0   \n",
      "\n",
      "      ee_008   ee_009  ef_000  eg_000  \n",
      "0        0.0      0.0     0.0     0.0  \n",
      "1        0.0      0.0     0.0     0.0  \n",
      "2      516.0      0.0     0.0     0.0  \n",
      "3   281662.0   3232.0     0.0     0.0  \n",
      "4       76.0      0.0     0.0     0.0  \n",
      "5        NaN      NaN     0.0     0.0  \n",
      "6    41054.0    320.0     0.0     0.0  \n",
      "7  1006628.0  34820.0     0.0     0.0  \n",
      "8        0.0      0.0     0.0     0.0  \n",
      "9    32958.0     84.0     0.0     0.0  \n",
      "\n",
      "[10 rows x 171 columns]\n"
     ]
    }
   ],
   "source": [
    "print(present.head(10))"
   ]
  },
  {
   "cell_type": "code",
   "execution_count": 48,
   "id": "04856c40-002c-4fe2-bbeb-4aa4e5726367",
   "metadata": {},
   "outputs": [
    {
     "name": "stdout",
     "output_type": "stream",
     "text": [
      "<class 'pandas.core.frame.DataFrame'>\n",
      "RangeIndex: 16000 entries, 0 to 15999\n",
      "Columns: 171 entries, class to eg_000\n",
      "dtypes: float64(169), int64(1), object(1)\n",
      "memory usage: 20.9+ MB\n",
      "None\n"
     ]
    }
   ],
   "source": [
    "print(present.info())"
   ]
  },
  {
   "cell_type": "code",
   "execution_count": 49,
   "id": "22de54b4-80bd-48c3-a80d-22b01f8ff88b",
   "metadata": {},
   "outputs": [
    {
     "name": "stdout",
     "output_type": "stream",
     "text": [
      "             aa_000       ab_000        ac_000        ad_000        ae_000  \\\n",
      "count  1.600000e+04  3637.000000  1.507400e+04  12019.000000  15310.000000   \n",
      "mean   6.799698e+04     0.772065  3.580393e+08    439.498794      6.428347   \n",
      "std    5.035350e+05     2.589224  7.966968e+08   1551.328109    118.186469   \n",
      "min    0.000000e+00     0.000000  0.000000e+00      0.000000      0.000000   \n",
      "25%    9.280000e+02     0.000000  1.600000e+01     26.000000      0.000000   \n",
      "50%    3.098200e+04     0.000000  1.590000e+02    130.000000      0.000000   \n",
      "75%    4.947900e+04     0.000000  1.003500e+03    430.000000      0.000000   \n",
      "max    4.294967e+07    58.000000  2.130707e+09  87038.000000  11044.000000   \n",
      "\n",
      "             af_000         ag_000        ag_001        ag_002        ag_003  \\\n",
      "count  15310.000000   15811.000000  1.581100e+04  1.581100e+04  1.581100e+04   \n",
      "mean      10.195950     120.858516  2.064204e+03  1.379236e+04  1.126276e+05   \n",
      "std      167.260463    6454.660300  8.925778e+04  2.358405e+05  1.025843e+06   \n",
      "min        0.000000       0.000000  0.000000e+00  0.000000e+00  0.000000e+00   \n",
      "25%        0.000000       0.000000  0.000000e+00  0.000000e+00  0.000000e+00   \n",
      "50%        0.000000       0.000000  0.000000e+00  0.000000e+00  0.000000e+00   \n",
      "75%        0.000000       0.000000  0.000000e+00  0.000000e+00  0.000000e+00   \n",
      "max    14186.000000  736174.000000  1.047252e+07  1.914916e+07  7.305747e+07   \n",
      "\n",
      "       ...        ee_002        ee_003        ee_004        ee_005  \\\n",
      "count  ...  1.580800e+04  1.580800e+04  1.580800e+04  1.580800e+04   \n",
      "mean   ...  4.649135e+05  2.212010e+05  4.690886e+05  4.256696e+05   \n",
      "std    ...  1.255197e+06  5.828691e+05  1.267550e+06  1.259560e+06   \n",
      "min    ...  0.000000e+00  0.000000e+00  0.000000e+00  0.000000e+00   \n",
      "25%    ...  3.178000e+03  1.256000e+03  2.883500e+03  3.869500e+03   \n",
      "50%    ...  2.409860e+05  1.147800e+05  2.297080e+05  1.956510e+05   \n",
      "75%    ...  4.391320e+05  2.189510e+05  4.714860e+05  4.034105e+05   \n",
      "max    ...  5.382333e+07  2.207969e+07  4.859750e+07  5.604348e+07   \n",
      "\n",
      "             ee_006        ee_007        ee_008        ee_009        ef_000  \\\n",
      "count  1.580800e+04  1.580800e+04  1.580800e+04  1.580800e+04  15238.000000   \n",
      "mean   3.559239e+05  3.524014e+05  1.442759e+05  8.560355e+03      0.064969   \n",
      "std    1.199544e+06  1.628545e+06  5.368225e+05  5.329946e+04      3.374657   \n",
      "min    0.000000e+00  0.000000e+00  0.000000e+00  0.000000e+00      0.000000   \n",
      "25%    6.100000e+02  1.240000e+02  0.000000e+00  0.000000e+00      0.000000   \n",
      "50%    9.657000e+04  4.201300e+04  3.985000e+03  0.000000e+00      0.000000   \n",
      "75%    2.790355e+05  1.699100e+05  1.389310e+05  1.907000e+03      0.000000   \n",
      "max    4.215944e+07  4.747137e+07  1.718575e+07  4.570398e+06    340.000000   \n",
      "\n",
      "             eg_000  \n",
      "count  15238.000000  \n",
      "mean       0.242683  \n",
      "std       14.339059  \n",
      "min        0.000000  \n",
      "25%        0.000000  \n",
      "50%        0.000000  \n",
      "75%        0.000000  \n",
      "max     1720.000000  \n",
      "\n",
      "[8 rows x 170 columns]\n"
     ]
    }
   ],
   "source": [
    "# Descrever estatísticas descritivas dos dados\n",
    "print(present.describe())"
   ]
  },
  {
   "cell_type": "code",
   "execution_count": 50,
   "id": "0a34d151-1459-499f-8fea-f357f9aebe69",
   "metadata": {},
   "outputs": [
    {
     "name": "stdout",
     "output_type": "stream",
     "text": [
      "ab_000    12363\n",
      "ac_000      926\n",
      "ad_000     3981\n",
      "ae_000      690\n",
      "af_000      690\n",
      "          ...  \n",
      "ee_007      192\n",
      "ee_008      192\n",
      "ee_009      192\n",
      "ef_000      762\n",
      "eg_000      762\n",
      "Length: 169, dtype: int64\n"
     ]
    }
   ],
   "source": [
    "# Check missing values\n",
    "missing_values = present.isna().sum()\n",
    "print(missing_values[missing_values > 0])"
   ]
  },
  {
   "cell_type": "markdown",
   "id": "98cd8ce9-7b3c-473f-b3a2-0e809529587a",
   "metadata": {},
   "source": [
    "## Exploratory Analysis and Data Preparation:"
   ]
  },
  {
   "cell_type": "code",
   "execution_count": 52,
   "id": "3258fcbb-ba18-493e-989b-3de02ec7073e",
   "metadata": {},
   "outputs": [
    {
     "data": {
      "image/png": "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",
      "text/plain": [
       "<Figure size 640x480 with 1 Axes>"
      ]
     },
     "metadata": {},
     "output_type": "display_data"
    },
    {
     "name": "stdout",
     "output_type": "stream",
     "text": [
      "ab_000    12363\n",
      "ac_000      926\n",
      "ad_000     3981\n",
      "ae_000      690\n",
      "af_000      690\n",
      "          ...  \n",
      "ee_007      192\n",
      "ee_008      192\n",
      "ee_009      192\n",
      "ef_000      762\n",
      "eg_000      762\n",
      "Length: 169, dtype: int64\n"
     ]
    }
   ],
   "source": [
    "sns.countplot(x='class', data=present)\n",
    "plt.title('class distribution')\n",
    "plt.show()\n",
    "\n",
    "missing_values = present.isna().sum()\n",
    "print(missing_values[missing_values > 0])"
   ]
  },
  {
   "cell_type": "code",
   "execution_count": 53,
   "id": "3b4953e6-9b17-43c8-9047-61fbc921b41a",
   "metadata": {},
   "outputs": [],
   "source": [
    "# Exclude non-numeric columns and fill with the mean\n",
    "numerical_cols = present.select_dtypes(include=['number']).columns\n",
    "present[numerical_cols] = present[numerical_cols].fillna(present[numerical_cols].mean())"
   ]
  },
  {
   "cell_type": "code",
   "execution_count": 54,
   "id": "a8377d34-7be9-4928-acca-8f81acb21b46",
   "metadata": {},
   "outputs": [
    {
     "name": "stdout",
     "output_type": "stream",
     "text": [
      "Series([], dtype: int64)\n"
     ]
    }
   ],
   "source": [
    "missing_values = present.isna().sum()\n",
    "print(missing_values[missing_values > 0])"
   ]
  },
  {
   "cell_type": "code",
   "execution_count": 55,
   "id": "242b8a78-96bb-4189-baee-2ec3d814c421",
   "metadata": {},
   "outputs": [
    {
     "name": "stdout",
     "output_type": "stream",
     "text": [
      "  class  aa_000    ab_000        ac_000  ad_000  ae_000  af_000      ag_000  \\\n",
      "0   neg      60  0.000000  2.000000e+01    12.0     0.0     0.0    0.000000   \n",
      "1   neg      82  0.000000  6.800000e+01    40.0     0.0     0.0    0.000000   \n",
      "2   neg   66002  2.000000  2.120000e+02   112.0     0.0     0.0    0.000000   \n",
      "3   neg   59816  0.772065  1.010000e+03   936.0     0.0     0.0    0.000000   \n",
      "4   neg    1814  0.772065  1.560000e+02   140.0     0.0     0.0    0.000000   \n",
      "5   neg     174  0.772065  2.600000e+01    24.0     0.0     0.0  120.858516   \n",
      "6   neg   40202  0.772065  6.400000e+02   606.0     0.0     0.0    0.000000   \n",
      "7   neg  120278  0.772065  2.130706e+09   256.0     0.0     0.0    0.000000   \n",
      "8   neg   14592  0.000000  2.130706e+09   162.0     0.0     0.0    0.000000   \n",
      "9   neg   28338  0.772065  2.130706e+09   238.0     0.0     0.0    0.000000   \n",
      "\n",
      "        ag_001        ag_002  ...        ee_002         ee_003         ee_004  \\\n",
      "0     0.000000      0.000000  ...  1.098000e+03     138.000000     412.000000   \n",
      "1     0.000000      0.000000  ...  1.068000e+03     276.000000    1620.000000   \n",
      "2     0.000000      0.000000  ...  4.950760e+05  380368.000000  440134.000000   \n",
      "3     0.000000      0.000000  ...  5.408200e+05  243270.000000  483302.000000   \n",
      "4     0.000000      0.000000  ...  7.646000e+03    4144.000000   18466.000000   \n",
      "5  2064.203656  13792.360509  ...  4.649135e+05  221200.962424  469088.572495   \n",
      "6     0.000000      0.000000  ...  5.262180e+05  239734.000000  439556.000000   \n",
      "7     0.000000      0.000000  ...  1.006722e+06  459658.000000  876356.000000   \n",
      "8     0.000000      0.000000  ...  1.050240e+05   57398.000000   49152.000000   \n",
      "9     0.000000      0.000000  ...  3.570060e+05  150056.000000  264776.000000   \n",
      "\n",
      "          ee_005        ee_006         ee_007        ee_008        ee_009  \\\n",
      "0     654.000000  7.800000e+01      88.000000  0.000000e+00      0.000000   \n",
      "1     116.000000  8.600000e+01     462.000000  0.000000e+00      0.000000   \n",
      "2  269556.000000  1.315022e+06  153680.000000  5.160000e+02      0.000000   \n",
      "3  485332.000000  4.313760e+05  210074.000000  2.816620e+05   3232.000000   \n",
      "4   49782.000000  3.176000e+03     482.000000  7.600000e+01      0.000000   \n",
      "5  425669.551746  3.559239e+05  352401.430668  1.442759e+05   8560.354884   \n",
      "6  374248.000000  1.690960e+05   53658.000000  4.105400e+04    320.000000   \n",
      "7  689532.000000  5.685400e+05  500624.000000  1.006628e+06  34820.000000   \n",
      "8   38256.000000  2.432680e+05  145144.000000  0.000000e+00      0.000000   \n",
      "9  239282.000000  1.405480e+05   74750.000000  3.295800e+04     84.000000   \n",
      "\n",
      "   ef_000  eg_000  \n",
      "0     0.0     0.0  \n",
      "1     0.0     0.0  \n",
      "2     0.0     0.0  \n",
      "3     0.0     0.0  \n",
      "4     0.0     0.0  \n",
      "5     0.0     0.0  \n",
      "6     0.0     0.0  \n",
      "7     0.0     0.0  \n",
      "8     0.0     0.0  \n",
      "9     0.0     0.0  \n",
      "\n",
      "[10 rows x 171 columns]\n"
     ]
    }
   ],
   "source": [
    "print(present.head(10))"
   ]
  },
  {
   "cell_type": "markdown",
   "id": "a4a86f00-5fa4-4542-9917-b782c91b4e59",
   "metadata": {},
   "source": [
    "### F TESTE of ANOVA"
   ]
  },
  {
   "cell_type": "markdown",
   "id": "c26247e9-51f1-47af-9797-16bfdedf10ca",
   "metadata": {},
   "source": [
    "#### Selection of Characteristics"
   ]
  },
  {
   "cell_type": "code",
   "execution_count": 58,
   "id": "cc2409f9-28f2-4d0b-a4d3-061e4e7230f3",
   "metadata": {},
   "outputs": [
    {
     "name": "stdout",
     "output_type": "stream",
     "text": [
      "Best features: Index(['ah_000', 'an_000', 'ao_000', 'bb_000', 'bg_000', 'bu_000', 'bv_000',\n",
      "       'by_000', 'ci_000', 'cq_000'],\n",
      "      dtype='object')\n"
     ]
    },
    {
     "name": "stderr",
     "output_type": "stream",
     "text": [
      "C:\\ProgramData\\anaconda3\\Lib\\site-packages\\sklearn\\feature_selection\\_univariate_selection.py:112: UserWarning: Features [89] are constant.\n",
      "  warnings.warn(\"Features %s are constant.\" % constant_features_idx, UserWarning)\n",
      "C:\\ProgramData\\anaconda3\\Lib\\site-packages\\sklearn\\feature_selection\\_univariate_selection.py:113: RuntimeWarning: invalid value encountered in divide\n",
      "  f = msb / msw\n"
     ]
    }
   ],
   "source": [
    "X = present.drop('class', axis=1)\n",
    "y = present['class'].apply(lambda x: 1 if x == 'pos' else 0)\n",
    "\n",
    "selector = SelectKBest(score_func=f_classif, k=10)\n",
    "X_new = selector.fit_transform(X, y)\n",
    "selected_features = X.columns[selector.get_support(indices=True)]\n",
    "print(\"Best features:\", selected_features)"
   ]
  },
  {
   "cell_type": "markdown",
   "id": "866b6364-1bbb-4b41-9884-e2a768d82ad4",
   "metadata": {},
   "source": [
    "<span style=\"color: red;\">Warning: The characteristic at index 89 is constant.</span>"
   ]
  },
  {
   "cell_type": "code",
   "execution_count": 60,
   "id": "5e082060-4261-4329-8997-6e82f24ac287",
   "metadata": {},
   "outputs": [
    {
     "name": "stdout",
     "output_type": "stream",
     "text": [
      "constant_characteristics: Index(['cd_000'], dtype='object')\n"
     ]
    }
   ],
   "source": [
    "# Identify constant characteristics\n",
    "constant = present.columns[present.nunique() == 1]\n",
    "print(\"constant_characteristics:\", constant)"
   ]
  },
  {
   "cell_type": "code",
   "execution_count": 61,
   "id": "5aa79c01-34b4-421c-83fe-8098ce565bd7",
   "metadata": {},
   "outputs": [],
   "source": [
    "# Remove constant characteristics\n",
    "present_without_constants = present.drop(columns=constant)"
   ]
  },
  {
   "cell_type": "code",
   "execution_count": 62,
   "id": "0b482811-583e-40be-9e34-4a03c799e71a",
   "metadata": {},
   "outputs": [
    {
     "name": "stdout",
     "output_type": "stream",
     "text": [
      "Number of columns after constant removal: 170\n"
     ]
    }
   ],
   "source": [
    "print(\"Number of columns after constant removal:\", len(present_without_constants.columns))"
   ]
  },
  {
   "cell_type": "code",
   "execution_count": 63,
   "id": "140810ec-d5bd-404d-801b-5edcf803dd98",
   "metadata": {},
   "outputs": [
    {
     "name": "stdout",
     "output_type": "stream",
     "text": [
      "  class  aa_000    ab_000  ac_000  ad_000  ae_000  af_000  ag_000  ag_001  \\\n",
      "0   neg      60  0.000000    20.0    12.0     0.0     0.0     0.0     0.0   \n",
      "1   neg      82  0.000000    68.0    40.0     0.0     0.0     0.0     0.0   \n",
      "2   neg   66002  2.000000   212.0   112.0     0.0     0.0     0.0     0.0   \n",
      "3   neg   59816  0.772065  1010.0   936.0     0.0     0.0     0.0     0.0   \n",
      "4   neg    1814  0.772065   156.0   140.0     0.0     0.0     0.0     0.0   \n",
      "\n",
      "   ag_002  ...    ee_002    ee_003    ee_004    ee_005     ee_006    ee_007  \\\n",
      "0     0.0  ...    1098.0     138.0     412.0     654.0       78.0      88.0   \n",
      "1     0.0  ...    1068.0     276.0    1620.0     116.0       86.0     462.0   \n",
      "2     0.0  ...  495076.0  380368.0  440134.0  269556.0  1315022.0  153680.0   \n",
      "3     0.0  ...  540820.0  243270.0  483302.0  485332.0   431376.0  210074.0   \n",
      "4     0.0  ...    7646.0    4144.0   18466.0   49782.0     3176.0     482.0   \n",
      "\n",
      "     ee_008  ee_009  ef_000  eg_000  \n",
      "0       0.0     0.0     0.0     0.0  \n",
      "1       0.0     0.0     0.0     0.0  \n",
      "2     516.0     0.0     0.0     0.0  \n",
      "3  281662.0  3232.0     0.0     0.0  \n",
      "4      76.0     0.0     0.0     0.0  \n",
      "\n",
      "[5 rows x 170 columns]\n"
     ]
    }
   ],
   "source": [
    "print(present_without_constants.head())"
   ]
  },
  {
   "cell_type": "code",
   "execution_count": 64,
   "id": "939d8fe1-8d14-4a4d-9f6c-2125462dd8d4",
   "metadata": {},
   "outputs": [
    {
     "name": "stdout",
     "output_type": "stream",
     "text": [
      "Best features: Index(['ah_000', 'an_000', 'ao_000', 'bb_000', 'bg_000', 'bu_000', 'bv_000',\n",
      "       'by_000', 'ci_000', 'cq_000'],\n",
      "      dtype='object')\n"
     ]
    }
   ],
   "source": [
    "X = present_without_constants.drop('class', axis=1)\n",
    "y = present_without_constants['class'].apply(lambda x: 1 if x == 'pos' else 0)\n",
    "\n",
    "selector = SelectKBest(score_func=f_classif, k=10)\n",
    "X_new = selector.fit_transform(X, y)\n",
    "selected_features = X.columns[selector.get_support(indices=True)]\n",
    "print(\"Best features:\", selected_features)"
   ]
  },
  {
   "cell_type": "markdown",
   "id": "ed81dfe1-4178-41e6-a082-7fbe96f78479",
   "metadata": {},
   "source": [
    "## Prediction :"
   ]
  },
  {
   "cell_type": "code",
   "execution_count": 66,
   "id": "8dc3a5e7-c010-4730-bae0-c40f1d5fd307",
   "metadata": {},
   "outputs": [
    {
     "name": "stdout",
     "output_type": "stream",
     "text": [
      "Present Data Classification Report after applying SMOTE and SMOTEENN:\n",
      "              precision    recall  f1-score   support\n",
      "\n",
      "           0       1.00      0.97      0.98     15625\n",
      "           1       0.42      0.94      0.58       375\n",
      "\n",
      "    accuracy                           0.97     16000\n",
      "   macro avg       0.71      0.95      0.78     16000\n",
      "weighted avg       0.98      0.97      0.97     16000\n",
      "\n"
     ]
    }
   ],
   "source": [
    "# Preparation of current set data\n",
    "X_present = present_without_constants.drop(columns=['class'])\n",
    "X_present = scaler.transform(X_present)\n",
    "X_present = pca.transform(X_present)\n",
    "y_true = present_without_constants['class'].apply(lambda x: 1 if x == 'pos' else 0)\n",
    "\n",
    "# prediction \n",
    "y_pred_present_resampled = model_resampled.predict(X_present)\n",
    "print(\"Present Data Classification Report after applying SMOTE and SMOTEENN:\")\n",
    "print(classification_report(y_true, y_pred_present_resampled))\n",
    "\n",
    "#y_pred = model.predict(X) \n",
    "\n",
    "#print(classification_report(y_true, y_pred))\n"
   ]
  },
  {
   "cell_type": "markdown",
   "id": "5ac9d01c-df23-4712-a922-127b64cf8819",
   "metadata": {},
   "source": [
    "-------------------------------------------------------------------------------------------------------------------------------------------------------------"
   ]
  },
  {
   "cell_type": "markdown",
   "id": "5236ac77-52ba-47b0-8dff-4ef8f76ada53",
   "metadata": {},
   "source": [
    "##                                                      Confusion Matrix"
   ]
  },
  {
   "cell_type": "code",
   "execution_count": 69,
   "id": "b885892e-69fb-46fb-95e9-93e756591b55",
   "metadata": {},
   "outputs": [
    {
     "data": {
      "image/png": "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",
      "text/plain": [
       "<Figure size 800x600 with 1 Axes>"
      ]
     },
     "metadata": {},
     "output_type": "display_data"
    }
   ],
   "source": [
    "from sklearn.metrics import confusion_matrix\n",
    "#import seaborn as sns\n",
    "#import matplotlib.pyplot as plt\n",
    "\n",
    "cm = confusion_matrix(y_true, y_pred_present_resampled)\n",
    "\n",
    "tn, fp, fn, tp = cm.ravel()  # tn: true negative, fp: false positive, fn: false negative, tp: true positive\n",
    "\n",
    "plt.figure(figsize=(8, 6))\n",
    "sns.heatmap(cm, annot=True, fmt='d', cmap='Blues', cbar=False,\n",
    "            xticklabels=['neg', 'pos'], yticklabels=['neg', 'pos'])\n",
    "plt.xlabel('Predicted')\n",
    "plt.ylabel('Real')\n",
    "plt.title('Confusion Matrix')\n",
    "plt.show()"
   ]
  },
  {
   "cell_type": "markdown",
   "id": "362d4001-1b79-4f39-ae25-38bd3ccb2521",
   "metadata": {},
   "source": [
    "                                                              Confusion Matrix:\n",
    "                                                             \n",
    "                                                                       predicted\n",
    "                                                                        0   1\n",
    "                                                               True\n",
    "                                                               0        TN  FP\n",
    "                                                               1        FN  TP"
   ]
  },
  {
   "cell_type": "code",
   "execution_count": 71,
   "id": "00a751f7-8c7f-41c5-ad89-9ba1ab9d07c5",
   "metadata": {},
   "outputs": [
    {
     "name": "stdout",
     "output_type": "stream",
     "text": [
      "tn= 15133\n",
      "tp= 353\n",
      "fn= 22\n",
      "fp= 492\n"
     ]
    }
   ],
   "source": [
    "print(\"tn=\",tn);print(\"tp=\",tp);print(\"fn=\",fn);print(\"fp=\",fp)"
   ]
  },
  {
   "cell_type": "code",
   "execution_count": 72,
   "id": "8c3585f4-adf4-48b8-a4d3-06ad711d12db",
   "metadata": {},
   "outputs": [
    {
     "name": "stdout",
     "output_type": "stream",
     "text": [
      "support_zero= 15625\n",
      "support_uno= 375\n"
     ]
    }
   ],
   "source": [
    "\n",
    " # class 0 (N):\n",
    "# classification_report\n",
    "support_zero= tn + fp #(confusion_matrix)\n",
    "print(\"support_zero=\",support_zero)\n",
    "\n",
    " # class 1 (P):\n",
    "# classification_report\n",
    "support_uno= fn + tp #(confusion_matrix)\n",
    "print(\"support_uno=\",support_uno)\n"
   ]
  },
  {
   "cell_type": "code",
   "execution_count": 73,
   "id": "ef0265c3-4a15-4ba2-bb2c-00b2508cc726",
   "metadata": {},
   "outputs": [
    {
     "name": "stdout",
     "output_type": "stream",
     "text": [
      "Cost of inspection without defect : $ 4920\n",
      "Cost for Identified Defect: $ 8825\n",
      " Cost for Unidentified Defect: $ 11000\n",
      "Total_cost: $ 24745\n"
     ]
    }
   ],
   "source": [
    "# Cost of Inspection without Defect (FP):\n",
    "# Cost for each false positive = $10\n",
    "\n",
    "Inspection_without_defect = fp * 10\n",
    "\n",
    "print(\"Cost of inspection without defect : $\", Inspection_without_defect)\n",
    "\n",
    "# Preventive Maintenance Cost for Identified Defect (TP):\n",
    "# Cost for each true positive = $25\n",
    "\n",
    "Identified_Defect = tp * 25\n",
    "print(\"Cost for Identified Defect: $\", Identified_Defect)\n",
    "\n",
    "#Corrective Maintenance Cost for Unidentified Defect (FN):\n",
    "#Cost for each false negative = $500\n",
    "\n",
    "Unidentified_Defect = fn * 500\n",
    "print(\" Cost for Unidentified Defect: $\", Unidentified_Defect)\n",
    "\n",
    "#------------------------------------------------------------------------\n",
    "\n",
    "total_cost=Unidentified_Defect+Identified_Defect+Inspection_without_defect\n",
    "print(\"Total_cost: $\", total_cost)"
   ]
  },
  {
   "cell_type": "code",
   "execution_count": 74,
   "id": "6117513d-e486-4686-9826-915ed0789597",
   "metadata": {},
   "outputs": [
    {
     "data": {
      "image/png": "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",
      "text/plain": [
       "<Figure size 1000x600 with 1 Axes>"
      ]
     },
     "metadata": {},
     "output_type": "display_data"
    }
   ],
   "source": [
    "import matplotlib.pyplot as plt\n",
    "\n",
    "\n",
    "categories = ['2016', '2017', '2018', '2019', '2020', '2022 AI planning']\n",
    "expenses = [24000, 26000, 28999, 32000, 37000]\n",
    "\n",
    "expenses.append(total_cost)\n",
    "\n",
    "\n",
    "plt.figure(figsize=(10, 6))\n",
    "plt.bar(categories, expenses, color=['blue']*5 + ['green'])\n",
    "\n",
    "\n",
    "plt.title('Comparison of Expenses of Maintenance')\n",
    "plt.xlabel('categories')\n",
    "plt.ylabel('expenses(in dollars)')\n",
    "\n",
    "\n",
    "for i, valor in enumerate(expenses):\n",
    "    plt.text(i, valor + 500, f'${valor}', ha='center', va='bottom')\n",
    "\n",
    "\n",
    "plt.grid(axis='y', linestyle='--', alpha=0.7)\n",
    "plt.tight_layout()\n",
    "plt.show()"
   ]
  },
  {
   "cell_type": "markdown",
   "id": "09325032-54f1-4c0a-9e2d-2d9a951204e6",
   "metadata": {},
   "source": [
    "### Critical Factors:\n",
    "#### WHAT SHOULD BE IMPROVED?"
   ]
  },
  {
   "cell_type": "code",
   "execution_count": 76,
   "id": "63d259b2-3ace-4ba2-8c4e-248057f91a5f",
   "metadata": {},
   "outputs": [
    {
     "data": {
      "image/png": "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",
      "text/plain": [
       "<Figure size 640x480 with 1 Axes>"
      ]
     },
     "metadata": {},
     "output_type": "display_data"
    }
   ],
   "source": [
    "from sklearn.metrics import roc_curve, auc\n",
    "fpr, tpr, thresholds = roc_curve(y_true, y_pred_present_resampled)\n",
    "roc_auc = auc(fpr, tpr)\n",
    "plt.figure()\n",
    "lw = 2\n",
    "plt.plot(fpr, tpr, color='darkorange', lw=lw, label='ROC curve (area = %0.2f)' % roc_auc)\n",
    "plt.plot([0, 1], [0, 1], color='navy', lw=lw, linestyle='--')\n",
    "plt.xlim([0.0, 1.0])\n",
    "plt.ylim([0.0, 1.05])\n",
    "plt.xlabel('False Positive Rate')\n",
    "plt.ylabel('True Positive Rate')\n",
    "plt.title('Receiver Operating Characteristic')\n",
    "plt.legend(loc=\"lower right\")\n",
    "plt.show()"
   ]
  },
  {
   "cell_type": "code",
   "execution_count": 77,
   "id": "7369a27c-c4e4-476e-9021-02af06799756",
   "metadata": {},
   "outputs": [
    {
     "data": {
      "image/png": "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",
      "text/plain": [
       "<Figure size 640x480 with 1 Axes>"
      ]
     },
     "metadata": {},
     "output_type": "display_data"
    }
   ],
   "source": [
    "fpr, tpr, thresholds = roc_curve(y_true, y_pred_present_resampled)\n",
    "fnr = 1 - tpr\n",
    "tnr = 1 - fpr\n",
    "roc_auc = auc(fnr, tnr)\n",
    "plt.figure()\n",
    "lw = 2\n",
    "plt.plot(fnr, tnr, color='darkorange', lw=lw, label='Curva ROC (área = %0.2f)' % roc_auc)\n",
    "plt.plot([0, 1], [0, 1], color='navy', lw=lw, linestyle='--')\n",
    "plt.xlim([0.0, 1.0])\n",
    "plt.ylim([0.0, 1.05])\n",
    "plt.xlabel('Rate of False Negatives')\n",
    "plt.ylabel('Rate of True Negatives')\n",
    "plt.title('Receiver Operating Characteristic with False Negative and True Negative Rate')\n",
    "plt.legend(loc=\"lower right\")\n",
    "plt.show()"
   ]
  },
  {
   "cell_type": "markdown",
   "id": "bc3d9884-d682-4cef-9ac8-7769ed7b482b",
   "metadata": {},
   "source": [
    "<span style=\"color: red;\">For reasons of costs mainly false negatives should be more accurately predicted:</span>"
   ]
  },
  {
   "cell_type": "raw",
   "id": "527bc3ae-a1e2-48c3-b205-3f1bd7f3d927",
   "metadata": {},
   "source": [
    " What would I do from now on?\n",
    "1- I would use techniques to perform model hyperparameter optimization;\n",
    "2- I would like to try other balancing techniques;\n",
    "3- I would compare \"RandomForest\" with other models."
   ]
  },
  {
   "cell_type": "markdown",
   "id": "ddf359f1-6306-4d4e-845a-79c1afc04570",
   "metadata": {},
   "source": [
    "##                                                         Business metric\r\n"
   ]
  },
  {
   "cell_type": "markdown",
   "id": "8f78acc6-4132-402c-8467-e915722602a9",
   "metadata": {},
   "source": [
    "  ###                                            1- Percentage of Reduction of Costs:\n",
    "  #####  (Compared to higher previous costs)"
   ]
  },
  {
   "cell_type": "code",
   "execution_count": 81,
   "id": "ce31abe3-ca5e-4bb4-bd81-926dc099c189",
   "metadata": {},
   "outputs": [],
   "source": [
    "higher_Previous_costs=37000\n",
    "Estimated_Costs=total_cost"
   ]
  },
  {
   "cell_type": "code",
   "execution_count": 82,
   "id": "b6714351-d24d-4088-94cf-d40bc53289c3",
   "metadata": {},
   "outputs": [],
   "source": [
    "Percentage_Reduction_Costs=((higher_Previous_costs-Estimated_Costs)/higher_Previous_costs)*100"
   ]
  },
  {
   "cell_type": "code",
   "execution_count": 83,
   "id": "6cff0035-4942-499d-947b-5147256bfab9",
   "metadata": {},
   "outputs": [
    {
     "name": "stdout",
     "output_type": "stream",
     "text": [
      " Percentage_Reduction_Costs: % 33.12162162162162\n"
     ]
    }
   ],
   "source": [
    "print(\" Percentage_Reduction_Costs: %\", Percentage_Reduction_Costs)"
   ]
  },
  {
   "cell_type": "markdown",
   "id": "c2c8aaca-be15-46e9-b7af-e9185e0fdd19",
   "metadata": {},
   "source": [
    " ###                                            2- Absolute Economy:"
   ]
  },
  {
   "cell_type": "code",
   "execution_count": 85,
   "id": "c4d503dd-5559-4bb9-a614-9707c703c20e",
   "metadata": {},
   "outputs": [
    {
     "name": "stdout",
     "output_type": "stream",
     "text": [
      " Absolute_Economy: $ 12255\n"
     ]
    }
   ],
   "source": [
    "Absolute_Economy=higher_Previous_costs-Estimated_Costs\n",
    "print(\" Absolute_Economy: $\", Absolute_Economy)"
   ]
  }
 ],
 "metadata": {
  "kernelspec": {
   "display_name": "Python 3 (ipykernel)",
   "language": "python",
   "name": "python3"
  },
  "language_info": {
   "codemirror_mode": {
    "name": "ipython",
    "version": 3
   },
   "file_extension": ".py",
   "mimetype": "text/x-python",
   "name": "python",
   "nbconvert_exporter": "python",
   "pygments_lexer": "ipython3",
   "version": "3.12.4"
  }
 },
 "nbformat": 4,
 "nbformat_minor": 5
}
